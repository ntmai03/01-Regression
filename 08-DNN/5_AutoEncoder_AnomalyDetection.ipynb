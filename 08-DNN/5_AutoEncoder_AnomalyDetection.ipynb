{
 "cells": [
  {
   "cell_type": "markdown",
   "metadata": {},
   "source": [
    "# IMPORT LIBRARY"
   ]
  },
  {
   "cell_type": "code",
   "execution_count": 1,
   "metadata": {},
   "outputs": [],
   "source": [
    "import warnings\n",
    "warnings.filterwarnings('ignore')\n",
    "\n",
    "import pandas as pd\n",
    "import numpy as np\n",
    "import matplotlib.pyplot as plt\n",
    "import seaborn as sns\n",
    "%matplotlib inline"
   ]
  },
  {
   "cell_type": "markdown",
   "metadata": {},
   "source": [
    "# IMPORT DATASET"
   ]
  },
  {
   "cell_type": "code",
   "execution_count": 2,
   "metadata": {},
   "outputs": [
    {
     "name": "stdout",
     "output_type": "stream",
     "text": [
      "(891, 12)\n"
     ]
    },
    {
     "data": {
      "text/html": [
       "<div>\n",
       "<style scoped>\n",
       "    .dataframe tbody tr th:only-of-type {\n",
       "        vertical-align: middle;\n",
       "    }\n",
       "\n",
       "    .dataframe tbody tr th {\n",
       "        vertical-align: top;\n",
       "    }\n",
       "\n",
       "    .dataframe thead th {\n",
       "        text-align: right;\n",
       "    }\n",
       "</style>\n",
       "<table border=\"1\" class=\"dataframe\">\n",
       "  <thead>\n",
       "    <tr style=\"text-align: right;\">\n",
       "      <th></th>\n",
       "      <th>PassengerId</th>\n",
       "      <th>Survived</th>\n",
       "      <th>Pclass</th>\n",
       "      <th>Name</th>\n",
       "      <th>Sex</th>\n",
       "      <th>Age</th>\n",
       "      <th>SibSp</th>\n",
       "      <th>Parch</th>\n",
       "      <th>Ticket</th>\n",
       "      <th>Fare</th>\n",
       "      <th>Cabin</th>\n",
       "      <th>Embarked</th>\n",
       "    </tr>\n",
       "  </thead>\n",
       "  <tbody>\n",
       "    <tr>\n",
       "      <th>0</th>\n",
       "      <td>1</td>\n",
       "      <td>0</td>\n",
       "      <td>3</td>\n",
       "      <td>Braund, Mr. Owen Harris</td>\n",
       "      <td>male</td>\n",
       "      <td>22.0</td>\n",
       "      <td>1</td>\n",
       "      <td>0</td>\n",
       "      <td>A/5 21171</td>\n",
       "      <td>7.2500</td>\n",
       "      <td>NaN</td>\n",
       "      <td>S</td>\n",
       "    </tr>\n",
       "    <tr>\n",
       "      <th>1</th>\n",
       "      <td>2</td>\n",
       "      <td>1</td>\n",
       "      <td>1</td>\n",
       "      <td>Cumings, Mrs. John Bradley (Florence Briggs Th...</td>\n",
       "      <td>female</td>\n",
       "      <td>38.0</td>\n",
       "      <td>1</td>\n",
       "      <td>0</td>\n",
       "      <td>PC 17599</td>\n",
       "      <td>71.2833</td>\n",
       "      <td>C85</td>\n",
       "      <td>C</td>\n",
       "    </tr>\n",
       "    <tr>\n",
       "      <th>2</th>\n",
       "      <td>3</td>\n",
       "      <td>1</td>\n",
       "      <td>3</td>\n",
       "      <td>Heikkinen, Miss. Laina</td>\n",
       "      <td>female</td>\n",
       "      <td>26.0</td>\n",
       "      <td>0</td>\n",
       "      <td>0</td>\n",
       "      <td>STON/O2. 3101282</td>\n",
       "      <td>7.9250</td>\n",
       "      <td>NaN</td>\n",
       "      <td>S</td>\n",
       "    </tr>\n",
       "    <tr>\n",
       "      <th>3</th>\n",
       "      <td>4</td>\n",
       "      <td>1</td>\n",
       "      <td>1</td>\n",
       "      <td>Futrelle, Mrs. Jacques Heath (Lily May Peel)</td>\n",
       "      <td>female</td>\n",
       "      <td>35.0</td>\n",
       "      <td>1</td>\n",
       "      <td>0</td>\n",
       "      <td>113803</td>\n",
       "      <td>53.1000</td>\n",
       "      <td>C123</td>\n",
       "      <td>S</td>\n",
       "    </tr>\n",
       "    <tr>\n",
       "      <th>4</th>\n",
       "      <td>5</td>\n",
       "      <td>0</td>\n",
       "      <td>3</td>\n",
       "      <td>Allen, Mr. William Henry</td>\n",
       "      <td>male</td>\n",
       "      <td>35.0</td>\n",
       "      <td>0</td>\n",
       "      <td>0</td>\n",
       "      <td>373450</td>\n",
       "      <td>8.0500</td>\n",
       "      <td>NaN</td>\n",
       "      <td>S</td>\n",
       "    </tr>\n",
       "  </tbody>\n",
       "</table>\n",
       "</div>"
      ],
      "text/plain": [
       "   PassengerId  Survived  Pclass  \\\n",
       "0            1         0       3   \n",
       "1            2         1       1   \n",
       "2            3         1       3   \n",
       "3            4         1       1   \n",
       "4            5         0       3   \n",
       "\n",
       "                                                Name     Sex   Age  SibSp  \\\n",
       "0                            Braund, Mr. Owen Harris    male  22.0      1   \n",
       "1  Cumings, Mrs. John Bradley (Florence Briggs Th...  female  38.0      1   \n",
       "2                             Heikkinen, Miss. Laina  female  26.0      0   \n",
       "3       Futrelle, Mrs. Jacques Heath (Lily May Peel)  female  35.0      1   \n",
       "4                           Allen, Mr. William Henry    male  35.0      0   \n",
       "\n",
       "   Parch            Ticket     Fare Cabin Embarked  \n",
       "0      0         A/5 21171   7.2500   NaN        S  \n",
       "1      0          PC 17599  71.2833   C85        C  \n",
       "2      0  STON/O2. 3101282   7.9250   NaN        S  \n",
       "3      0            113803  53.1000  C123        S  \n",
       "4      0            373450   8.0500   NaN        S  "
      ]
     },
     "execution_count": 2,
     "metadata": {},
     "output_type": "execute_result"
    }
   ],
   "source": [
    "# read the data using pandas dataframe\n",
    "df = pd.read_csv('Train_Titanic.csv')\n",
    "print(df.shape)\n",
    "df.head()"
   ]
  },
  {
   "cell_type": "markdown",
   "metadata": {},
   "source": [
    "# EXPLORE/VISUALIZE DATASET"
   ]
  },
  {
   "cell_type": "markdown",
   "metadata": {},
   "source": [
    "### target variable"
   ]
  },
  {
   "cell_type": "code",
   "execution_count": 3,
   "metadata": {},
   "outputs": [
    {
     "name": "stdout",
     "output_type": "stream",
     "text": [
      "Total = 891\n",
      "Number of customers who Survived = 342\n",
      "Percentage bought = 38.38383838383838 %\n",
      "Did not Survived = 549\n",
      "Percentage who did not Survived = 61.61616161616161 %\n"
     ]
    }
   ],
   "source": [
    "Survived    = df[df['Survived']==1]\n",
    "No_Survived = df[df['Survived']==0]\n",
    "\n",
    "print(\"Total =\", len(df))\n",
    "\n",
    "print(\"Number of customers who Survived =\", len(Survived))\n",
    "print(\"Percentage bought =\", 1.*len(Survived)/len(df)*100.0, \"%\")\n",
    " \n",
    "print(\"Did not Survived =\", len(No_Survived))\n",
    "print(\"Percentage who did not Survived =\", 1.*len(No_Survived)/len(df)*100.0, \"%\")"
   ]
  },
  {
   "cell_type": "code",
   "execution_count": 4,
   "metadata": {},
   "outputs": [
    {
     "data": {
      "text/plain": [
       "Text(0.5, 1.0, 'Survived Distribution \\n (0: No Survived || 1: Survived)')"
      ]
     },
     "execution_count": 4,
     "metadata": {},
     "output_type": "execute_result"
    },
    {
     "data": {
      "image/png": "[encoded data removed]",
      "text/plain": [
       "<Figure size 432x288 with 1 Axes>"
      ]
     },
     "metadata": {},
     "output_type": "display_data"
    }
   ],
   "source": [
    "colors = [\"#3498db\",\"#e74c3c\"]\n",
    "\n",
    "sns.countplot('Survived', data=df,palette = colors)\n",
    "plt.title('Survived Distribution \\n (0: No Survived || 1: Survived)', fontsize = 14)"
   ]
  },
  {
   "cell_type": "markdown",
   "metadata": {},
   "source": [
    "# DATA PREPARATION"
   ]
  },
  {
   "cell_type": "markdown",
   "metadata": {},
   "source": [
    "### Missing data"
   ]
  },
  {
   "cell_type": "code",
   "execution_count": 5,
   "metadata": {},
   "outputs": [
    {
     "data": {
      "text/plain": [
       "<matplotlib.axes._subplots.AxesSubplot at 0x2806fd1e518>"
      ]
     },
     "execution_count": 5,
     "metadata": {},
     "output_type": "execute_result"
    },
    {
     "data": {
      "image/png": "[encoded data removed]",
      "text/plain": [
       "<Figure size 432x288 with 1 Axes>"
      ]
     },
     "metadata": {},
     "output_type": "display_data"
    }
   ],
   "source": [
    "# Let's explore which dataset is missing\n",
    "sns.heatmap(df.isnull(), yticklabels = False, cbar = False, cmap=\"Blues\")"
   ]
  },
  {
   "cell_type": "code",
   "execution_count": 6,
   "metadata": {},
   "outputs": [
    {
     "data": {
      "text/plain": [
       "['Survived', 'Pclass', 'Sex', 'Age', 'SibSp', 'Parch', 'Fare']"
      ]
     },
     "execution_count": 6,
     "metadata": {},
     "output_type": "execute_result"
    }
   ],
   "source": [
    "org_df = df\n",
    "removed_features = ['Cabin','Name','Embarked','Ticket','PassengerId']\n",
    "selected_featues = [e for e in df.columns if e not in removed_features]\n",
    "selected_featues"
   ]
  },
  {
   "cell_type": "code",
   "execution_count": 7,
   "metadata": {},
   "outputs": [],
   "source": [
    "df = org_df.loc[:,selected_featues]"
   ]
  },
  {
   "cell_type": "code",
   "execution_count": 8,
   "metadata": {},
   "outputs": [
    {
     "data": {
      "text/plain": [
       "<matplotlib.axes._subplots.AxesSubplot at 0x2806fe11240>"
      ]
     },
     "execution_count": 8,
     "metadata": {},
     "output_type": "execute_result"
    },
    {
     "data": {
      "image/png": "[encoded data removed]",
      "text/plain": [
       "<Figure size 720x576 with 1 Axes>"
      ]
     },
     "metadata": {},
     "output_type": "display_data"
    }
   ],
   "source": [
    "# Let's get the average age for male (~29) and female (~25)\n",
    "plt.figure(figsize=(10, 8))\n",
    "sns.boxplot(x='Sex', y='Age',data=df)"
   ]
  },
  {
   "cell_type": "code",
   "execution_count": 9,
   "metadata": {},
   "outputs": [],
   "source": [
    "def Fill_Age(data):\n",
    "    age = data[0]\n",
    "    sex = data[1]\n",
    "\n",
    "    if pd.isnull(age):\n",
    "        if sex is 'male': \n",
    "            return 29\n",
    "        else:\n",
    "            return 25\n",
    "    else:\n",
    "        return age"
   ]
  },
  {
   "cell_type": "code",
   "execution_count": 10,
   "metadata": {},
   "outputs": [],
   "source": [
    "df['Age'] = df[['Age','Sex']].apply(Fill_Age,axis=1)"
   ]
  },
  {
   "cell_type": "code",
   "execution_count": 11,
   "metadata": {},
   "outputs": [
    {
     "data": {
      "text/plain": [
       "<matplotlib.axes._subplots.AxesSubplot at 0x28070012240>"
      ]
     },
     "execution_count": 11,
     "metadata": {},
     "output_type": "execute_result"
    },
    {
     "data": {
      "image/png": "[encoded data removed]",
      "text/plain": [
       "<Figure size 432x288 with 1 Axes>"
      ]
     },
     "metadata": {},
     "output_type": "display_data"
    }
   ],
   "source": [
    "# Let's view the data one more time!\n",
    "sns.heatmap(df.isnull(), yticklabels = False, cbar = False, cmap=\"Blues\")"
   ]
  },
  {
   "cell_type": "code",
   "execution_count": 13,
   "metadata": {},
   "outputs": [
    {
     "data": {
      "text/html": [
       "<div>\n",
       "<style scoped>\n",
       "    .dataframe tbody tr th:only-of-type {\n",
       "        vertical-align: middle;\n",
       "    }\n",
       "\n",
       "    .dataframe tbody tr th {\n",
       "        vertical-align: top;\n",
       "    }\n",
       "\n",
       "    .dataframe thead th {\n",
       "        text-align: right;\n",
       "    }\n",
       "</style>\n",
       "<table border=\"1\" class=\"dataframe\">\n",
       "  <thead>\n",
       "    <tr style=\"text-align: right;\">\n",
       "      <th></th>\n",
       "      <th>Survived</th>\n",
       "      <th>Pclass</th>\n",
       "      <th>Age</th>\n",
       "      <th>SibSp</th>\n",
       "      <th>Parch</th>\n",
       "      <th>Fare</th>\n",
       "      <th>male</th>\n",
       "    </tr>\n",
       "  </thead>\n",
       "  <tbody>\n",
       "    <tr>\n",
       "      <th>0</th>\n",
       "      <td>0</td>\n",
       "      <td>3</td>\n",
       "      <td>22.0</td>\n",
       "      <td>1</td>\n",
       "      <td>0</td>\n",
       "      <td>7.2500</td>\n",
       "      <td>1</td>\n",
       "    </tr>\n",
       "    <tr>\n",
       "      <th>1</th>\n",
       "      <td>1</td>\n",
       "      <td>1</td>\n",
       "      <td>38.0</td>\n",
       "      <td>1</td>\n",
       "      <td>0</td>\n",
       "      <td>71.2833</td>\n",
       "      <td>0</td>\n",
       "    </tr>\n",
       "    <tr>\n",
       "      <th>2</th>\n",
       "      <td>1</td>\n",
       "      <td>3</td>\n",
       "      <td>26.0</td>\n",
       "      <td>0</td>\n",
       "      <td>0</td>\n",
       "      <td>7.9250</td>\n",
       "      <td>0</td>\n",
       "    </tr>\n",
       "    <tr>\n",
       "      <th>3</th>\n",
       "      <td>1</td>\n",
       "      <td>1</td>\n",
       "      <td>35.0</td>\n",
       "      <td>1</td>\n",
       "      <td>0</td>\n",
       "      <td>53.1000</td>\n",
       "      <td>0</td>\n",
       "    </tr>\n",
       "    <tr>\n",
       "      <th>4</th>\n",
       "      <td>0</td>\n",
       "      <td>3</td>\n",
       "      <td>35.0</td>\n",
       "      <td>0</td>\n",
       "      <td>0</td>\n",
       "      <td>8.0500</td>\n",
       "      <td>1</td>\n",
       "    </tr>\n",
       "  </tbody>\n",
       "</table>\n",
       "</div>"
      ],
      "text/plain": [
       "   Survived  Pclass   Age  SibSp  Parch     Fare  male\n",
       "0         0       3  22.0      1      0   7.2500     1\n",
       "1         1       1  38.0      1      0  71.2833     0\n",
       "2         1       3  26.0      0      0   7.9250     0\n",
       "3         1       1  35.0      1      0  53.1000     0\n",
       "4         0       3  35.0      0      0   8.0500     1"
      ]
     },
     "execution_count": 13,
     "metadata": {},
     "output_type": "execute_result"
    }
   ],
   "source": [
    "male = pd.get_dummies(df['Sex'], drop_first = True)\n",
    "# first let's drop the embarked and sex \n",
    "df.drop(['Sex'], axis = 1, inplace = True)\n",
    "# Now let's add the encoded column male again\n",
    "df = pd.concat([df, male], axis=1)\n",
    "df.head()"
   ]
  },
  {
   "cell_type": "markdown",
   "metadata": {},
   "source": [
    "### Split data into X and y"
   ]
  },
  {
   "cell_type": "code",
   "execution_count": 14,
   "metadata": {},
   "outputs": [],
   "source": [
    "X = df.drop('Survived',axis=1)\n",
    "y = df.Survived"
   ]
  },
  {
   "cell_type": "markdown",
   "metadata": {},
   "source": [
    "### Data Normalization"
   ]
  },
  {
   "cell_type": "code",
   "execution_count": 15,
   "metadata": {},
   "outputs": [
    {
     "name": "stderr",
     "output_type": "stream",
     "text": [
      "C:\\Anaconda3\\lib\\site-packages\\sklearn\\utils\\validation.py:590: DataConversionWarning: Data with input dtype int64 was converted to float64 by MinMaxScaler.\n",
      "  warnings.warn(msg, DataConversionWarning)\n"
     ]
    },
    {
     "data": {
      "text/html": [
       "<div>\n",
       "<style scoped>\n",
       "    .dataframe tbody tr th:only-of-type {\n",
       "        vertical-align: middle;\n",
       "    }\n",
       "\n",
       "    .dataframe tbody tr th {\n",
       "        vertical-align: top;\n",
       "    }\n",
       "\n",
       "    .dataframe thead th {\n",
       "        text-align: right;\n",
       "    }\n",
       "</style>\n",
       "<table border=\"1\" class=\"dataframe\">\n",
       "  <thead>\n",
       "    <tr style=\"text-align: right;\">\n",
       "      <th></th>\n",
       "      <th>Pclass</th>\n",
       "      <th>Age</th>\n",
       "      <th>SibSp</th>\n",
       "      <th>Parch</th>\n",
       "      <th>Fare</th>\n",
       "      <th>male</th>\n",
       "    </tr>\n",
       "  </thead>\n",
       "  <tbody>\n",
       "    <tr>\n",
       "      <th>0</th>\n",
       "      <td>1.0</td>\n",
       "      <td>0.271174</td>\n",
       "      <td>1</td>\n",
       "      <td>0</td>\n",
       "      <td>0.014151</td>\n",
       "      <td>1</td>\n",
       "    </tr>\n",
       "    <tr>\n",
       "      <th>1</th>\n",
       "      <td>0.0</td>\n",
       "      <td>0.472229</td>\n",
       "      <td>1</td>\n",
       "      <td>0</td>\n",
       "      <td>0.139136</td>\n",
       "      <td>0</td>\n",
       "    </tr>\n",
       "    <tr>\n",
       "      <th>2</th>\n",
       "      <td>1.0</td>\n",
       "      <td>0.321438</td>\n",
       "      <td>0</td>\n",
       "      <td>0</td>\n",
       "      <td>0.015469</td>\n",
       "      <td>0</td>\n",
       "    </tr>\n",
       "    <tr>\n",
       "      <th>3</th>\n",
       "      <td>0.0</td>\n",
       "      <td>0.434531</td>\n",
       "      <td>1</td>\n",
       "      <td>0</td>\n",
       "      <td>0.103644</td>\n",
       "      <td>0</td>\n",
       "    </tr>\n",
       "    <tr>\n",
       "      <th>4</th>\n",
       "      <td>1.0</td>\n",
       "      <td>0.434531</td>\n",
       "      <td>0</td>\n",
       "      <td>0</td>\n",
       "      <td>0.015713</td>\n",
       "      <td>1</td>\n",
       "    </tr>\n",
       "  </tbody>\n",
       "</table>\n",
       "</div>"
      ],
      "text/plain": [
       "   Pclass       Age  SibSp  Parch      Fare  male\n",
       "0     1.0  0.271174      1      0  0.014151     1\n",
       "1     0.0  0.472229      1      0  0.139136     0\n",
       "2     1.0  0.321438      0      0  0.015469     0\n",
       "3     0.0  0.434531      1      0  0.103644     0\n",
       "4     1.0  0.434531      0      0  0.015713     1"
      ]
     },
     "execution_count": 15,
     "metadata": {},
     "output_type": "execute_result"
    }
   ],
   "source": [
    "from sklearn.preprocessing import  StandardScaler, MinMaxScaler\n",
    "\n",
    "scaler = MinMaxScaler()\n",
    "X_scaled = X\n",
    "X_scaled.Age = scaler.fit_transform(X_scaled.Age.reshape(-1,1))\n",
    "X_scaled.Fare = scaler.fit_transform(X_scaled.Fare.reshape(-1,1))\n",
    "X_scaled.Pclass = scaler.fit_transform(X_scaled.Pclass.reshape(-1,1))\n",
    "X_scaled.head()"
   ]
  },
  {
   "cell_type": "markdown",
   "metadata": {},
   "source": [
    "### Split data into train-test split"
   ]
  },
  {
   "cell_type": "code",
   "execution_count": 77,
   "metadata": {},
   "outputs": [],
   "source": [
    "from sklearn.model_selection import train_test_split\n",
    "X_train, X_test, y_train, y_test = train_test_split(X_scaled, y, test_size=0.2, random_state=10)"
   ]
  },
  {
   "cell_type": "markdown",
   "metadata": {},
   "source": [
    "# AutoEncoder"
   ]
  },
  {
   "cell_type": "code",
   "execution_count": 16,
   "metadata": {},
   "outputs": [
    {
     "name": "stderr",
     "output_type": "stream",
     "text": [
      "Using TensorFlow backend.\n"
     ]
    }
   ],
   "source": [
    "####### Deep learning libraries\n",
    "import tensorflow as tf\n",
    "import keras\n",
    "from keras.models import Model, load_model\n",
    "from keras.layers import Input, Dense\n",
    "from keras.callbacks import ModelCheckpoint, TensorBoard\n",
    "from keras import regularizers\n",
    "# from ann_visualizer.visualize import ann_viz\n",
    "# \n",
    "from sklearn.preprocessing import  StandardScaler, MinMaxScaler\n",
    "from sklearn.model_selection import train_test_split\n",
    "\n",
    "from sklearn.metrics import (confusion_matrix, classification_report, accuracy_score, roc_auc_score, auc,\n",
    "                             precision_score, recall_score, roc_curve, precision_recall_curve,\n",
    "                             precision_recall_fscore_support, f1_score,\n",
    "                             precision_recall_fscore_support)\n",
    "#\n",
    "from IPython.display import display, Math, Latex\n",
    "import datetime"
   ]
  },
  {
   "cell_type": "code",
   "execution_count": 108,
   "metadata": {},
   "outputs": [],
   "source": [
    "#set up graphic style in this case I am using the color scheme from xkcd.com\n",
    "LABELS = [\"No Survived\",\"Survived\"]\n",
    "col_list = [\"cerulean\",\"scarlet\"]# https://xkcd.com/color/rgb/\n",
    "sns.set(style='white', font_scale=1.75, palette=sns.xkcd_palette(col_list))"
   ]
  },
  {
   "cell_type": "code",
   "execution_count": 17,
   "metadata": {},
   "outputs": [
    {
     "data": {
      "text/html": [
       "<div>\n",
       "<style scoped>\n",
       "    .dataframe tbody tr th:only-of-type {\n",
       "        vertical-align: middle;\n",
       "    }\n",
       "\n",
       "    .dataframe tbody tr th {\n",
       "        vertical-align: top;\n",
       "    }\n",
       "\n",
       "    .dataframe thead th {\n",
       "        text-align: right;\n",
       "    }\n",
       "</style>\n",
       "<table border=\"1\" class=\"dataframe\">\n",
       "  <thead>\n",
       "    <tr style=\"text-align: right;\">\n",
       "      <th></th>\n",
       "      <th>Survived</th>\n",
       "      <th>Pclass</th>\n",
       "      <th>Age</th>\n",
       "      <th>SibSp</th>\n",
       "      <th>Parch</th>\n",
       "      <th>Fare</th>\n",
       "      <th>male</th>\n",
       "    </tr>\n",
       "  </thead>\n",
       "  <tbody>\n",
       "    <tr>\n",
       "      <th>0</th>\n",
       "      <td>0</td>\n",
       "      <td>3</td>\n",
       "      <td>22.0</td>\n",
       "      <td>1</td>\n",
       "      <td>0</td>\n",
       "      <td>7.2500</td>\n",
       "      <td>1</td>\n",
       "    </tr>\n",
       "    <tr>\n",
       "      <th>1</th>\n",
       "      <td>1</td>\n",
       "      <td>1</td>\n",
       "      <td>38.0</td>\n",
       "      <td>1</td>\n",
       "      <td>0</td>\n",
       "      <td>71.2833</td>\n",
       "      <td>0</td>\n",
       "    </tr>\n",
       "    <tr>\n",
       "      <th>2</th>\n",
       "      <td>1</td>\n",
       "      <td>3</td>\n",
       "      <td>26.0</td>\n",
       "      <td>0</td>\n",
       "      <td>0</td>\n",
       "      <td>7.9250</td>\n",
       "      <td>0</td>\n",
       "    </tr>\n",
       "    <tr>\n",
       "      <th>3</th>\n",
       "      <td>1</td>\n",
       "      <td>1</td>\n",
       "      <td>35.0</td>\n",
       "      <td>1</td>\n",
       "      <td>0</td>\n",
       "      <td>53.1000</td>\n",
       "      <td>0</td>\n",
       "    </tr>\n",
       "    <tr>\n",
       "      <th>4</th>\n",
       "      <td>0</td>\n",
       "      <td>3</td>\n",
       "      <td>35.0</td>\n",
       "      <td>0</td>\n",
       "      <td>0</td>\n",
       "      <td>8.0500</td>\n",
       "      <td>1</td>\n",
       "    </tr>\n",
       "  </tbody>\n",
       "</table>\n",
       "</div>"
      ],
      "text/plain": [
       "   Survived  Pclass   Age  SibSp  Parch     Fare  male\n",
       "0         0       3  22.0      1      0   7.2500     1\n",
       "1         1       1  38.0      1      0  71.2833     0\n",
       "2         1       3  26.0      0      0   7.9250     0\n",
       "3         1       1  35.0      1      0  53.1000     0\n",
       "4         0       3  35.0      0      0   8.0500     1"
      ]
     },
     "execution_count": 17,
     "metadata": {},
     "output_type": "execute_result"
    }
   ],
   "source": [
    "df.head()"
   ]
  },
  {
   "cell_type": "code",
   "execution_count": 59,
   "metadata": {},
   "outputs": [
    {
     "name": "stdout",
     "output_type": "stream",
     "text": [
      "Training data size:  (450, 6)\n",
      "Validation data size:  (179, 6)\n"
     ]
    }
   ],
   "source": [
    "X_train, X_test = train_test_split(df, test_size=0.2, random_state = 101)\n",
    "\n",
    "X_train = X_train[X_train['Survived'] == 0]\n",
    "X_train = X_train.drop(['Survived'], axis = 1)\n",
    "y_test = X_test['Survived']\n",
    "X_test = X_test.drop(['Survived'], axis = 1)\n",
    "X_train = X_train.values\n",
    "X_test = X_test.values\n",
    "print('Training data size: ', X_train.shape)\n",
    "print('Validation data size: ', X_test.shape)"
   ]
  },
  {
   "cell_type": "code",
   "execution_count": 60,
   "metadata": {},
   "outputs": [],
   "source": [
    "scaler = MinMaxScaler()\n",
    "X_train_scaled = scaler.fit_transform(X_train)\n",
    "X_test_scaled = scaler.transform(X_test)"
   ]
  },
  {
   "cell_type": "code",
   "execution_count": 61,
   "metadata": {},
   "outputs": [
    {
     "data": {
      "text/plain": [
       "array([[0.5       , 0.30136986, 0.        , 0.        , 0.04942966,\n",
       "        1.        ],\n",
       "       [1.        , 0.32876712, 0.        , 0.        , 0.03094106,\n",
       "        0.        ],\n",
       "       [1.        , 0.50684932, 0.        , 0.        , 0.03293726,\n",
       "        1.        ],\n",
       "       ...,\n",
       "       [1.        , 0.32876712, 0.        , 0.        , 0.02908745,\n",
       "        1.        ],\n",
       "       [1.        , 0.24657534, 0.        , 0.        , 0.05513308,\n",
       "        1.        ],\n",
       "       [1.        , 0.32876712, 1.        , 0.33333333, 0.26444867,\n",
       "        0.        ]])"
      ]
     },
     "execution_count": 61,
     "metadata": {},
     "output_type": "execute_result"
    }
   ],
   "source": [
    "X_train_scaled"
   ]
  },
  {
   "cell_type": "code",
   "execution_count": 62,
   "metadata": {
    "scrolled": true
   },
   "outputs": [
    {
     "name": "stdout",
     "output_type": "stream",
     "text": [
      "_________________________________________________________________\n",
      "Layer (type)                 Output Shape              Param #   \n",
      "=================================================================\n",
      "input_4 (InputLayer)         (None, 6)                 0         \n",
      "_________________________________________________________________\n",
      "dense_13 (Dense)             (None, 4)                 28        \n",
      "_________________________________________________________________\n",
      "dense_14 (Dense)             (None, 2)                 10        \n",
      "_________________________________________________________________\n",
      "dense_15 (Dense)             (None, 4)                 12        \n",
      "_________________________________________________________________\n",
      "dense_16 (Dense)             (None, 6)                 30        \n",
      "=================================================================\n",
      "Total params: 80\n",
      "Trainable params: 80\n",
      "Non-trainable params: 0\n",
      "_________________________________________________________________\n"
     ]
    }
   ],
   "source": [
    "# No of Neurons in each Layer [6,4,2,4,6]\n",
    "input_dim = X_train.shape[1]\n",
    "encoding_dim = 4\n",
    "\n",
    "input_layer = Input(shape=(input_dim, ))\n",
    "encoder = Dense(int(4), activation=\"tanh\",activity_regularizer=regularizers.l1(10e-5))(input_layer)\n",
    "encoder = Dense(int(2), activation=\"tanh\")(encoder)\n",
    "# encoder = Dense(int(2), activation=\"tanh\")(encoder)\n",
    "# decoder = Dense(int(encoding_dim/ 2), activation='tanh')(encoder)\n",
    "decoder = Dense(int(4), activation='tanh')(encoder)\n",
    "decoder = Dense(input_dim, activation='tanh')(decoder)\n",
    "autoencoder = Model(inputs=input_layer, outputs=decoder)\n",
    "autoencoder.summary()"
   ]
  },
  {
   "cell_type": "code",
   "execution_count": 146,
   "metadata": {},
   "outputs": [
    {
     "name": "stdout",
     "output_type": "stream",
     "text": [
      "_________________________________________________________________\n",
      "Layer (type)                 Output Shape              Param #   \n",
      "=================================================================\n",
      "input_6 (InputLayer)         (None, 6)                 0         \n",
      "_________________________________________________________________\n",
      "dense_21 (Dense)             (None, 3)                 21        \n",
      "_________________________________________________________________\n",
      "dense_22 (Dense)             (None, 1)                 4         \n",
      "_________________________________________________________________\n",
      "dense_23 (Dense)             (None, 3)                 6         \n",
      "_________________________________________________________________\n",
      "dense_24 (Dense)             (None, 6)                 24        \n",
      "=================================================================\n",
      "Total params: 55\n",
      "Trainable params: 55\n",
      "Non-trainable params: 0\n",
      "_________________________________________________________________\n"
     ]
    }
   ],
   "source": [
    "# No of Neurons in each Layer [6,3,1,3,6]\n",
    "input_dim = X_train.shape[1]\n",
    "encoding_dim = 4\n",
    "\n",
    "input_layer = Input(shape=(input_dim, ))\n",
    "encoder = Dense(int(3), activation=\"tanh\",activity_regularizer=regularizers.l1(10e-5))(input_layer)\n",
    "encoder = Dense(int(1), activation=\"tanh\")(encoder)\n",
    "# encoder = Dense(int(2), activation=\"tanh\")(encoder)\n",
    "# decoder = Dense(int(encoding_dim/ 2), activation='tanh')(encoder)\n",
    "decoder = Dense(int(3), activation='tanh')(encoder)\n",
    "decoder = Dense(input_dim, activation='tanh')(decoder)\n",
    "autoencoder = Model(inputs=input_layer, outputs=decoder)\n",
    "autoencoder.summary()"
   ]
  },
  {
   "cell_type": "code",
   "execution_count": 184,
   "metadata": {},
   "outputs": [
    {
     "name": "stdout",
     "output_type": "stream",
     "text": [
      "_________________________________________________________________\n",
      "Layer (type)                 Output Shape              Param #   \n",
      "=================================================================\n",
      "input_9 (InputLayer)         (None, 6)                 0         \n",
      "_________________________________________________________________\n",
      "dense_33 (Dense)             (None, 4)                 28        \n",
      "_________________________________________________________________\n",
      "dense_34 (Dense)             (None, 1)                 5         \n",
      "_________________________________________________________________\n",
      "dense_35 (Dense)             (None, 4)                 8         \n",
      "_________________________________________________________________\n",
      "dense_36 (Dense)             (None, 6)                 30        \n",
      "=================================================================\n",
      "Total params: 71\n",
      "Trainable params: 71\n",
      "Non-trainable params: 0\n",
      "_________________________________________________________________\n"
     ]
    }
   ],
   "source": [
    "# No of Neurons in each Layer [6,4,1,4,6]\n",
    "input_dim = X_train.shape[1]\n",
    "encoding_dim = 4\n",
    "\n",
    "input_layer = Input(shape=(input_dim, ))\n",
    "encoder = Dense(int(4), activation=\"tanh\",activity_regularizer=regularizers.l1(10e-5))(input_layer)\n",
    "encoder = Dense(int(1), activation=\"tanh\")(encoder)\n",
    "# encoder = Dense(int(2), activation=\"tanh\")(encoder)\n",
    "# decoder = Dense(int(encoding_dim/ 2), activation='tanh')(encoder)\n",
    "decoder = Dense(int(4), activation='tanh')(encoder)\n",
    "decoder = Dense(input_dim, activation='tanh')(decoder)\n",
    "autoencoder = Model(inputs=input_layer, outputs=decoder)\n",
    "autoencoder.summary()"
   ]
  },
  {
   "cell_type": "code",
   "execution_count": 185,
   "metadata": {},
   "outputs": [
    {
     "name": "stdout",
     "output_type": "stream",
     "text": [
      "Train on 405 samples, validate on 45 samples\n",
      "Epoch 1/100\n",
      "405/405 [==============================] - 0s 597us/step - loss: 0.4150 - val_loss: 0.3782\n",
      "Epoch 2/100\n",
      "405/405 [==============================] - 0s 27us/step - loss: 0.3781 - val_loss: 0.3436\n",
      "Epoch 3/100\n",
      "405/405 [==============================] - 0s 33us/step - loss: 0.3456 - val_loss: 0.3135\n",
      "Epoch 4/100\n",
      "405/405 [==============================] - 0s 28us/step - loss: 0.3179 - val_loss: 0.2883\n",
      "Epoch 5/100\n",
      "405/405 [==============================] - 0s 26us/step - loss: 0.2947 - val_loss: 0.2677\n",
      "Epoch 6/100\n",
      "405/405 [==============================] - 0s 32us/step - loss: 0.2755 - val_loss: 0.2507\n",
      "Epoch 7/100\n",
      "405/405 [==============================] - 0s 27us/step - loss: 0.2593 - val_loss: 0.2360\n",
      "Epoch 8/100\n",
      "405/405 [==============================] - 0s 32us/step - loss: 0.2452 - val_loss: 0.2230\n",
      "Epoch 9/100\n",
      "405/405 [==============================] - 0s 28us/step - loss: 0.2326 - val_loss: 0.2113\n",
      "Epoch 10/100\n",
      "405/405 [==============================] - 0s 48us/step - loss: 0.2210 - val_loss: 0.2001\n",
      "Epoch 11/100\n",
      "405/405 [==============================] - 0s 73us/step - loss: 0.2097 - val_loss: 0.1891\n",
      "Epoch 12/100\n",
      "405/405 [==============================] - 0s 22us/step - loss: 0.1984 - val_loss: 0.1783\n",
      "Epoch 13/100\n",
      "405/405 [==============================] - 0s 33us/step - loss: 0.1874 - val_loss: 0.1676\n",
      "Epoch 14/100\n",
      "405/405 [==============================] - 0s 25us/step - loss: 0.1765 - val_loss: 0.1570\n",
      "Epoch 15/100\n",
      "405/405 [==============================] - 0s 29us/step - loss: 0.1657 - val_loss: 0.1468\n",
      "Epoch 16/100\n",
      "405/405 [==============================] - 0s 26us/step - loss: 0.1553 - val_loss: 0.1372\n",
      "Epoch 17/100\n",
      "405/405 [==============================] - 0s 30us/step - loss: 0.1453 - val_loss: 0.1278\n",
      "Epoch 18/100\n",
      "405/405 [==============================] - 0s 28us/step - loss: 0.1357 - val_loss: 0.1191\n",
      "Epoch 19/100\n",
      "405/405 [==============================] - 0s 30us/step - loss: 0.1269 - val_loss: 0.1111\n",
      "Epoch 20/100\n",
      "405/405 [==============================] - 0s 25us/step - loss: 0.1189 - val_loss: 0.1040\n",
      "Epoch 21/100\n",
      "405/405 [==============================] - 0s 24us/step - loss: 0.1117 - val_loss: 0.0978\n",
      "Epoch 22/100\n",
      "405/405 [==============================] - 0s 78us/step - loss: 0.1055 - val_loss: 0.0927\n",
      "Epoch 23/100\n",
      "405/405 [==============================] - 0s 71us/step - loss: 0.1004 - val_loss: 0.0885\n",
      "Epoch 24/100\n",
      "405/405 [==============================] - 0s 75us/step - loss: 0.0958 - val_loss: 0.0848\n",
      "Epoch 25/100\n",
      "405/405 [==============================] - 0s 87us/step - loss: 0.0918 - val_loss: 0.0815\n",
      "Epoch 26/100\n",
      "405/405 [==============================] - 0s 62us/step - loss: 0.0884 - val_loss: 0.0788\n",
      "Epoch 27/100\n",
      "405/405 [==============================] - 0s 37us/step - loss: 0.0856 - val_loss: 0.0765\n",
      "Epoch 28/100\n",
      "405/405 [==============================] - 0s 22us/step - loss: 0.0831 - val_loss: 0.0746\n",
      "Epoch 29/100\n",
      "405/405 [==============================] - 0s 52us/step - loss: 0.0810 - val_loss: 0.0731\n",
      "Epoch 30/100\n",
      "405/405 [==============================] - 0s 26us/step - loss: 0.0792 - val_loss: 0.0719\n",
      "Epoch 31/100\n",
      "405/405 [==============================] - 0s 69us/step - loss: 0.0777 - val_loss: 0.0708\n",
      "Epoch 32/100\n",
      "405/405 [==============================] - 0s 40us/step - loss: 0.0765 - val_loss: 0.0699\n",
      "Epoch 33/100\n",
      "405/405 [==============================] - 0s 40us/step - loss: 0.0754 - val_loss: 0.0691\n",
      "Epoch 34/100\n",
      "405/405 [==============================] - 0s 28us/step - loss: 0.0745 - val_loss: 0.0684\n",
      "Epoch 35/100\n",
      "405/405 [==============================] - 0s 37us/step - loss: 0.0736 - val_loss: 0.0678\n",
      "Epoch 36/100\n",
      "405/405 [==============================] - 0s 28us/step - loss: 0.0729 - val_loss: 0.0673\n",
      "Epoch 37/100\n",
      "405/405 [==============================] - 0s 22us/step - loss: 0.0723 - val_loss: 0.0668\n",
      "Epoch 38/100\n",
      "405/405 [==============================] - 0s 23us/step - loss: 0.0717 - val_loss: 0.0666\n",
      "Epoch 39/100\n",
      "405/405 [==============================] - 0s 47us/step - loss: 0.0712 - val_loss: 0.0662\n",
      "Epoch 40/100\n",
      "405/405 [==============================] - 0s 42us/step - loss: 0.0707 - val_loss: 0.0660\n",
      "Epoch 41/100\n",
      "405/405 [==============================] - 0s 72us/step - loss: 0.0704 - val_loss: 0.0657\n",
      "Epoch 42/100\n",
      "405/405 [==============================] - 0s 30us/step - loss: 0.0700 - val_loss: 0.0655\n",
      "Epoch 43/100\n",
      "405/405 [==============================] - 0s 56us/step - loss: 0.0697 - val_loss: 0.0653\n",
      "Epoch 44/100\n",
      "405/405 [==============================] - 0s 37us/step - loss: 0.0694 - val_loss: 0.0652\n",
      "Epoch 45/100\n",
      "405/405 [==============================] - 0s 24us/step - loss: 0.0692 - val_loss: 0.0651\n",
      "Epoch 46/100\n",
      "405/405 [==============================] - 0s 26us/step - loss: 0.0689 - val_loss: 0.0650\n",
      "Epoch 47/100\n",
      "405/405 [==============================] - 0s 75us/step - loss: 0.0687 - val_loss: 0.0648\n",
      "Epoch 48/100\n",
      "405/405 [==============================] - 0s 51us/step - loss: 0.0685 - val_loss: 0.0647\n",
      "Epoch 49/100\n",
      "405/405 [==============================] - 0s 35us/step - loss: 0.0683 - val_loss: 0.0646\n",
      "Epoch 50/100\n",
      "405/405 [==============================] - 0s 25us/step - loss: 0.0681 - val_loss: 0.0645\n",
      "Epoch 51/100\n",
      "405/405 [==============================] - 0s 23us/step - loss: 0.0680 - val_loss: 0.0644\n",
      "Epoch 52/100\n",
      "405/405 [==============================] - 0s 24us/step - loss: 0.0678 - val_loss: 0.0644\n",
      "Epoch 53/100\n",
      "405/405 [==============================] - 0s 25us/step - loss: 0.0676 - val_loss: 0.0643\n",
      "Epoch 54/100\n",
      "405/405 [==============================] - 0s 30us/step - loss: 0.0675 - val_loss: 0.0643\n",
      "Epoch 55/100\n",
      "405/405 [==============================] - 0s 25us/step - loss: 0.0673 - val_loss: 0.0642\n",
      "Epoch 56/100\n",
      "405/405 [==============================] - 0s 37us/step - loss: 0.0672 - val_loss: 0.0642\n",
      "Epoch 57/100\n",
      "405/405 [==============================] - 0s 27us/step - loss: 0.0670 - val_loss: 0.0641\n",
      "Epoch 58/100\n",
      "405/405 [==============================] - 0s 25us/step - loss: 0.0669 - val_loss: 0.0642\n",
      "Epoch 59/100\n",
      "405/405 [==============================] - 0s 26us/step - loss: 0.0668 - val_loss: 0.0641\n",
      "Epoch 60/100\n",
      "405/405 [==============================] - 0s 41us/step - loss: 0.0667 - val_loss: 0.0640\n",
      "Epoch 61/100\n",
      "405/405 [==============================] - 0s 36us/step - loss: 0.0666 - val_loss: 0.0640\n",
      "Epoch 62/100\n",
      "405/405 [==============================] - 0s 32us/step - loss: 0.0664 - val_loss: 0.0638\n",
      "Epoch 63/100\n",
      "405/405 [==============================] - 0s 37us/step - loss: 0.0663 - val_loss: 0.0637\n",
      "Epoch 64/100\n",
      "405/405 [==============================] - 0s 36us/step - loss: 0.0662 - val_loss: 0.0637\n",
      "Epoch 65/100\n",
      "405/405 [==============================] - 0s 25us/step - loss: 0.0661 - val_loss: 0.0636\n",
      "Epoch 66/100\n",
      "405/405 [==============================] - 0s 26us/step - loss: 0.0659 - val_loss: 0.0636\n",
      "Epoch 67/100\n",
      "405/405 [==============================] - 0s 28us/step - loss: 0.0659 - val_loss: 0.0636\n",
      "Epoch 68/100\n",
      "405/405 [==============================] - 0s 27us/step - loss: 0.0657 - val_loss: 0.0635\n",
      "Epoch 69/100\n",
      "405/405 [==============================] - 0s 59us/step - loss: 0.0656 - val_loss: 0.0634\n",
      "Epoch 70/100\n",
      "405/405 [==============================] - 0s 37us/step - loss: 0.0655 - val_loss: 0.0634\n",
      "Epoch 71/100\n",
      "405/405 [==============================] - 0s 36us/step - loss: 0.0654 - val_loss: 0.0634\n",
      "Epoch 72/100\n",
      "405/405 [==============================] - 0s 27us/step - loss: 0.0652 - val_loss: 0.0632\n",
      "Epoch 73/100\n",
      "405/405 [==============================] - 0s 25us/step - loss: 0.0651 - val_loss: 0.0631\n",
      "Epoch 74/100\n",
      "405/405 [==============================] - 0s 79us/step - loss: 0.0650 - val_loss: 0.0630\n",
      "Epoch 75/100\n",
      "405/405 [==============================] - 0s 22us/step - loss: 0.0649 - val_loss: 0.0630\n",
      "Epoch 76/100\n",
      "405/405 [==============================] - 0s 22us/step - loss: 0.0648 - val_loss: 0.0629\n",
      "Epoch 77/100\n",
      "405/405 [==============================] - 0s 24us/step - loss: 0.0647 - val_loss: 0.0628\n",
      "Epoch 78/100\n",
      "405/405 [==============================] - 0s 33us/step - loss: 0.0645 - val_loss: 0.0628\n",
      "Epoch 79/100\n",
      "405/405 [==============================] - 0s 36us/step - loss: 0.0644 - val_loss: 0.0627\n",
      "Epoch 80/100\n",
      "405/405 [==============================] - 0s 45us/step - loss: 0.0642 - val_loss: 0.0627\n",
      "Epoch 81/100\n",
      "405/405 [==============================] - 0s 42us/step - loss: 0.0641 - val_loss: 0.0626\n",
      "Epoch 82/100\n",
      "405/405 [==============================] - 0s 28us/step - loss: 0.0640 - val_loss: 0.0625\n",
      "Epoch 83/100\n",
      "405/405 [==============================] - 0s 26us/step - loss: 0.0638 - val_loss: 0.0625\n",
      "Epoch 84/100\n",
      "405/405 [==============================] - 0s 32us/step - loss: 0.0637 - val_loss: 0.0625\n",
      "Epoch 85/100\n",
      "405/405 [==============================] - 0s 25us/step - loss: 0.0635 - val_loss: 0.0624\n",
      "Epoch 86/100\n",
      "405/405 [==============================] - 0s 57us/step - loss: 0.0634 - val_loss: 0.0622\n",
      "Epoch 87/100\n",
      "405/405 [==============================] - 0s 24us/step - loss: 0.0633 - val_loss: 0.0621\n",
      "Epoch 88/100\n",
      "405/405 [==============================] - 0s 87us/step - loss: 0.0631 - val_loss: 0.0620\n",
      "Epoch 89/100\n",
      "405/405 [==============================] - 0s 25us/step - loss: 0.0629 - val_loss: 0.0620\n",
      "Epoch 90/100\n",
      "405/405 [==============================] - 0s 25us/step - loss: 0.0628 - val_loss: 0.0619\n",
      "Epoch 91/100\n",
      "405/405 [==============================] - 0s 50us/step - loss: 0.0626 - val_loss: 0.0619\n",
      "Epoch 92/100\n",
      "405/405 [==============================] - 0s 30us/step - loss: 0.0624 - val_loss: 0.0618\n",
      "Epoch 93/100\n",
      "405/405 [==============================] - 0s 26us/step - loss: 0.0623 - val_loss: 0.0616\n",
      "Epoch 94/100\n",
      "405/405 [==============================] - 0s 32us/step - loss: 0.0621 - val_loss: 0.0614\n",
      "Epoch 95/100\n",
      "405/405 [==============================] - 0s 32us/step - loss: 0.0619 - val_loss: 0.0612\n",
      "Epoch 96/100\n",
      "405/405 [==============================] - 0s 30us/step - loss: 0.0617 - val_loss: 0.0611\n",
      "Epoch 97/100\n",
      "405/405 [==============================] - 0s 36us/step - loss: 0.0615 - val_loss: 0.0609\n",
      "Epoch 98/100\n",
      "405/405 [==============================] - 0s 48us/step - loss: 0.0613 - val_loss: 0.0608\n",
      "Epoch 99/100\n",
      "405/405 [==============================] - 0s 85us/step - loss: 0.0610 - val_loss: 0.0608\n",
      "Epoch 100/100\n",
      "405/405 [==============================] - 0s 24us/step - loss: 0.0608 - val_loss: 0.0606\n",
      "Time to run the model: 28.553187 Sec.\n"
     ]
    }
   ],
   "source": [
    "nb_epoch = 100\n",
    "batch_size = 50\n",
    "autoencoder.compile(optimizer='adam', loss='mse' )\n",
    "\n",
    "cp = ModelCheckpoint(filepath=\"autoencoder1.h5\",\n",
    "                               save_best_only=True,\n",
    "                               verbose=0)\n",
    "\n",
    "tb = TensorBoard(log_dir='./logs',\n",
    "                histogram_freq=0,\n",
    "                write_graph=True,\n",
    "                write_images=True)\n",
    "\n",
    "t_ini = datetime.datetime.now()\n",
    "\n",
    "\n",
    "history = autoencoder.fit(X_train_scaled, X_train_scaled,\n",
    "                    epochs=nb_epoch,\n",
    "                    batch_size=batch_size,\n",
    "                    shuffle=True,\n",
    "                    validation_split=0.1,\n",
    "                    verbose=1,\n",
    "                    callbacks=[cp, tb]).history\n",
    "\n",
    "t_fin = datetime.datetime.now()\n",
    "print('Time to run the model: {} Sec.'.format((t_fin - t_ini).total_seconds()))\n",
    "\n",
    "\n",
    "\n",
    "df_history = pd.DataFrame(history)"
   ]
  },
  {
   "cell_type": "code",
   "execution_count": 186,
   "metadata": {},
   "outputs": [
    {
     "data": {
      "image/png": "[encoded data removed]",
      "text/plain": [
       "<Figure size 432x288 with 1 Axes>"
      ]
     },
     "metadata": {},
     "output_type": "display_data"
    }
   ],
   "source": [
    "plt.plot(df_history['loss'], linewidth=2, label='Train')\n",
    "plt.plot(df_history['val_loss'], linewidth=2, label='Test')\n",
    "plt.legend(loc='upper right')\n",
    "plt.title('Model loss')\n",
    "plt.ylabel('Loss')\n",
    "plt.xlabel('Epoch')\n",
    "#plt.ylim(ymin=0.70,ymax=1)\n",
    "plt.show()"
   ]
  },
  {
   "cell_type": "code",
   "execution_count": 187,
   "metadata": {},
   "outputs": [
    {
     "data": {
      "text/html": [
       "<div>\n",
       "<style scoped>\n",
       "    .dataframe tbody tr th:only-of-type {\n",
       "        vertical-align: middle;\n",
       "    }\n",
       "\n",
       "    .dataframe tbody tr th {\n",
       "        vertical-align: top;\n",
       "    }\n",
       "\n",
       "    .dataframe thead th {\n",
       "        text-align: right;\n",
       "    }\n",
       "</style>\n",
       "<table border=\"1\" class=\"dataframe\">\n",
       "  <thead>\n",
       "    <tr style=\"text-align: right;\">\n",
       "      <th></th>\n",
       "      <th>Label</th>\n",
       "      <th>reconstruction_error</th>\n",
       "    </tr>\n",
       "  </thead>\n",
       "  <tbody>\n",
       "    <tr>\n",
       "      <th>count</th>\n",
       "      <td>179.000000</td>\n",
       "      <td>179.000000</td>\n",
       "    </tr>\n",
       "    <tr>\n",
       "      <th>mean</th>\n",
       "      <td>0.446927</td>\n",
       "      <td>0.091661</td>\n",
       "    </tr>\n",
       "    <tr>\n",
       "      <th>std</th>\n",
       "      <td>0.498570</td>\n",
       "      <td>0.087285</td>\n",
       "    </tr>\n",
       "    <tr>\n",
       "      <th>min</th>\n",
       "      <td>0.000000</td>\n",
       "      <td>0.013516</td>\n",
       "    </tr>\n",
       "    <tr>\n",
       "      <th>25%</th>\n",
       "      <td>0.000000</td>\n",
       "      <td>0.018328</td>\n",
       "    </tr>\n",
       "    <tr>\n",
       "      <th>50%</th>\n",
       "      <td>0.000000</td>\n",
       "      <td>0.069903</td>\n",
       "    </tr>\n",
       "    <tr>\n",
       "      <th>75%</th>\n",
       "      <td>1.000000</td>\n",
       "      <td>0.133605</td>\n",
       "    </tr>\n",
       "    <tr>\n",
       "      <th>max</th>\n",
       "      <td>1.000000</td>\n",
       "      <td>0.685313</td>\n",
       "    </tr>\n",
       "  </tbody>\n",
       "</table>\n",
       "</div>"
      ],
      "text/plain": [
       "            Label  reconstruction_error\n",
       "count  179.000000            179.000000\n",
       "mean     0.446927              0.091661\n",
       "std      0.498570              0.087285\n",
       "min      0.000000              0.013516\n",
       "25%      0.000000              0.018328\n",
       "50%      0.000000              0.069903\n",
       "75%      1.000000              0.133605\n",
       "max      1.000000              0.685313"
      ]
     },
     "execution_count": 187,
     "metadata": {},
     "output_type": "execute_result"
    }
   ],
   "source": [
    "predictions = autoencoder.predict(X_test_scaled)\n",
    "\n",
    "mse = np.mean(np.power(X_test_scaled - predictions, 2), axis=1)\n",
    "df_error = pd.DataFrame({'reconstruction_error': mse, 'Label': y_test}, index=y_test.index)\n",
    "df_error.describe()"
   ]
  },
  {
   "cell_type": "code",
   "execution_count": 188,
   "metadata": {},
   "outputs": [
    {
     "data": {
      "text/html": [
       "<div>\n",
       "<style scoped>\n",
       "    .dataframe tbody tr th:only-of-type {\n",
       "        vertical-align: middle;\n",
       "    }\n",
       "\n",
       "    .dataframe tbody tr th {\n",
       "        vertical-align: top;\n",
       "    }\n",
       "\n",
       "    .dataframe thead th {\n",
       "        text-align: right;\n",
       "    }\n",
       "</style>\n",
       "<table border=\"1\" class=\"dataframe\">\n",
       "  <thead>\n",
       "    <tr style=\"text-align: right;\">\n",
       "      <th></th>\n",
       "      <th>Label</th>\n",
       "      <th>reconstruction_error</th>\n",
       "    </tr>\n",
       "  </thead>\n",
       "  <tbody>\n",
       "    <tr>\n",
       "      <th>331</th>\n",
       "      <td>0</td>\n",
       "      <td>0.086201</td>\n",
       "    </tr>\n",
       "    <tr>\n",
       "      <th>700</th>\n",
       "      <td>1</td>\n",
       "      <td>0.316518</td>\n",
       "    </tr>\n",
       "    <tr>\n",
       "      <th>748</th>\n",
       "      <td>0</td>\n",
       "      <td>0.077284</td>\n",
       "    </tr>\n",
       "    <tr>\n",
       "      <th>751</th>\n",
       "      <td>1</td>\n",
       "      <td>0.035841</td>\n",
       "    </tr>\n",
       "    <tr>\n",
       "      <th>481</th>\n",
       "      <td>0</td>\n",
       "      <td>0.014166</td>\n",
       "    </tr>\n",
       "  </tbody>\n",
       "</table>\n",
       "</div>"
      ],
      "text/plain": [
       "     Label  reconstruction_error\n",
       "331      0              0.086201\n",
       "700      1              0.316518\n",
       "748      0              0.077284\n",
       "751      1              0.035841\n",
       "481      0              0.014166"
      ]
     },
     "execution_count": 188,
     "metadata": {},
     "output_type": "execute_result"
    }
   ],
   "source": [
    "df_error.head()"
   ]
  },
  {
   "cell_type": "code",
   "execution_count": 189,
   "metadata": {},
   "outputs": [
    {
     "name": "stderr",
     "output_type": "stream",
     "text": [
      "C:\\Anaconda3\\lib\\site-packages\\matplotlib\\axes\\_axes.py:6521: MatplotlibDeprecationWarning: \n",
      "The 'normed' kwarg was deprecated in Matplotlib 2.1 and will be removed in 3.1. Use 'density' instead.\n",
      "  alternative=\"'density'\", removal=\"3.1\")\n",
      "C:\\Anaconda3\\lib\\site-packages\\matplotlib\\axes\\_axes.py:6521: MatplotlibDeprecationWarning: \n",
      "The 'normed' kwarg was deprecated in Matplotlib 2.1 and will be removed in 3.1. Use 'density' instead.\n",
      "  alternative=\"'density'\", removal=\"3.1\")\n"
     ]
    },
    {
     "data": {
      "image/png": "[encoded data removed]",
      "text/plain": [
       "<Figure size 1008x432 with 2 Axes>"
      ]
     },
     "metadata": {},
     "output_type": "display_data"
    }
   ],
   "source": [
    "fig, ((ax1, ax2)) = plt.subplots(1, 2, figsize=(14, 6))\n",
    "sns.distplot(df_error.loc[df_error.Label==0,'reconstruction_error'],color='blue', ax=ax1, label='Survived=0')\n",
    "sns.distplot(df_error.loc[df_error.Label==1,'reconstruction_error'],color='red', ax=ax1, label='Survived=1')\n",
    "ax2 = sns.boxplot(x='Label', y='reconstruction_error', data=df_error, palette=colors)\n",
    "ax1.legend(loc='upper right')\n",
    "plt.tight_layout()\n",
    "plt.show()"
   ]
  },
  {
   "cell_type": "code",
   "execution_count": 190,
   "metadata": {},
   "outputs": [
    {
     "data": {
      "text/html": [
       "<div>\n",
       "<style scoped>\n",
       "    .dataframe tbody tr th:only-of-type {\n",
       "        vertical-align: middle;\n",
       "    }\n",
       "\n",
       "    .dataframe tbody tr th {\n",
       "        vertical-align: top;\n",
       "    }\n",
       "\n",
       "    .dataframe thead th {\n",
       "        text-align: right;\n",
       "    }\n",
       "</style>\n",
       "<table border=\"1\" class=\"dataframe\">\n",
       "  <thead>\n",
       "    <tr style=\"text-align: right;\">\n",
       "      <th></th>\n",
       "      <th>V_1</th>\n",
       "      <th>V_2</th>\n",
       "      <th>V_3</th>\n",
       "      <th>V_4</th>\n",
       "      <th>V_5</th>\n",
       "      <th>V_6</th>\n",
       "    </tr>\n",
       "  </thead>\n",
       "  <tbody>\n",
       "    <tr>\n",
       "      <th>331</th>\n",
       "      <td>0.0</td>\n",
       "      <td>0.609589</td>\n",
       "      <td>0.000</td>\n",
       "      <td>0.000000</td>\n",
       "      <td>0.108365</td>\n",
       "      <td>1.0</td>\n",
       "    </tr>\n",
       "    <tr>\n",
       "      <th>700</th>\n",
       "      <td>0.0</td>\n",
       "      <td>0.232877</td>\n",
       "      <td>0.125</td>\n",
       "      <td>0.000000</td>\n",
       "      <td>0.865114</td>\n",
       "      <td>0.0</td>\n",
       "    </tr>\n",
       "    <tr>\n",
       "      <th>748</th>\n",
       "      <td>0.0</td>\n",
       "      <td>0.246575</td>\n",
       "      <td>0.125</td>\n",
       "      <td>0.000000</td>\n",
       "      <td>0.201901</td>\n",
       "      <td>1.0</td>\n",
       "    </tr>\n",
       "    <tr>\n",
       "      <th>751</th>\n",
       "      <td>1.0</td>\n",
       "      <td>0.068493</td>\n",
       "      <td>0.000</td>\n",
       "      <td>0.166667</td>\n",
       "      <td>0.047433</td>\n",
       "      <td>1.0</td>\n",
       "    </tr>\n",
       "    <tr>\n",
       "      <th>481</th>\n",
       "      <td>0.5</td>\n",
       "      <td>0.328767</td>\n",
       "      <td>0.000</td>\n",
       "      <td>0.000000</td>\n",
       "      <td>0.000000</td>\n",
       "      <td>1.0</td>\n",
       "    </tr>\n",
       "  </tbody>\n",
       "</table>\n",
       "</div>"
      ],
      "text/plain": [
       "     V_1       V_2    V_3       V_4       V_5  V_6\n",
       "331  0.0  0.609589  0.000  0.000000  0.108365  1.0\n",
       "700  0.0  0.232877  0.125  0.000000  0.865114  0.0\n",
       "748  0.0  0.246575  0.125  0.000000  0.201901  1.0\n",
       "751  1.0  0.068493  0.000  0.166667  0.047433  1.0\n",
       "481  0.5  0.328767  0.000  0.000000  0.000000  1.0"
      ]
     },
     "execution_count": 190,
     "metadata": {},
     "output_type": "execute_result"
    }
   ],
   "source": [
    "# change X_tes_scaled to pandas dataframe\n",
    "numerical_cols = ['V_1', 'V_2', 'V_3', 'V_4', 'V_5', 'V_6']\n",
    "data_n = pd.DataFrame(X_test_scaled, index= y_test.index, columns = numerical_cols)\n",
    "data_n.head()"
   ]
  },
  {
   "cell_type": "code",
   "execution_count": 191,
   "metadata": {},
   "outputs": [],
   "source": [
    "reconstrcuted_df = autoencoder.predict(data_n)\n",
    "reconstrcuted_df = pd.DataFrame(reconstrcuted_df, index= data_n.index.values)"
   ]
  },
  {
   "cell_type": "code",
   "execution_count": 192,
   "metadata": {},
   "outputs": [
    {
     "data": {
      "text/html": [
       "<div>\n",
       "<style scoped>\n",
       "    .dataframe tbody tr th:only-of-type {\n",
       "        vertical-align: middle;\n",
       "    }\n",
       "\n",
       "    .dataframe tbody tr th {\n",
       "        vertical-align: top;\n",
       "    }\n",
       "\n",
       "    .dataframe thead th {\n",
       "        text-align: right;\n",
       "    }\n",
       "</style>\n",
       "<table border=\"1\" class=\"dataframe\">\n",
       "  <thead>\n",
       "    <tr style=\"text-align: right;\">\n",
       "      <th></th>\n",
       "      <th>V_1</th>\n",
       "      <th>V_2</th>\n",
       "      <th>V_3</th>\n",
       "      <th>V_4</th>\n",
       "      <th>V_5</th>\n",
       "      <th>V_6</th>\n",
       "    </tr>\n",
       "  </thead>\n",
       "  <tbody>\n",
       "    <tr>\n",
       "      <th>331</th>\n",
       "      <td>0.615801</td>\n",
       "      <td>0.336427</td>\n",
       "      <td>0.003936</td>\n",
       "      <td>-0.029446</td>\n",
       "      <td>0.072776</td>\n",
       "      <td>0.752559</td>\n",
       "    </tr>\n",
       "    <tr>\n",
       "      <th>700</th>\n",
       "      <td>0.756853</td>\n",
       "      <td>0.397444</td>\n",
       "      <td>0.077654</td>\n",
       "      <td>0.069398</td>\n",
       "      <td>0.089981</td>\n",
       "      <td>0.831449</td>\n",
       "    </tr>\n",
       "    <tr>\n",
       "      <th>748</th>\n",
       "      <td>0.594788</td>\n",
       "      <td>0.328915</td>\n",
       "      <td>-0.005524</td>\n",
       "      <td>-0.041984</td>\n",
       "      <td>0.070565</td>\n",
       "      <td>0.740960</td>\n",
       "    </tr>\n",
       "    <tr>\n",
       "      <th>751</th>\n",
       "      <td>0.751855</td>\n",
       "      <td>0.394827</td>\n",
       "      <td>0.074653</td>\n",
       "      <td>0.065336</td>\n",
       "      <td>0.089306</td>\n",
       "      <td>0.828587</td>\n",
       "    </tr>\n",
       "    <tr>\n",
       "      <th>481</th>\n",
       "      <td>0.674536</td>\n",
       "      <td>0.359186</td>\n",
       "      <td>0.032195</td>\n",
       "      <td>0.008216</td>\n",
       "      <td>0.079438</td>\n",
       "      <td>0.785077</td>\n",
       "    </tr>\n",
       "  </tbody>\n",
       "</table>\n",
       "</div>"
      ],
      "text/plain": [
       "          V_1       V_2       V_3       V_4       V_5       V_6\n",
       "331  0.615801  0.336427  0.003936 -0.029446  0.072776  0.752559\n",
       "700  0.756853  0.397444  0.077654  0.069398  0.089981  0.831449\n",
       "748  0.594788  0.328915 -0.005524 -0.041984  0.070565  0.740960\n",
       "751  0.751855  0.394827  0.074653  0.065336  0.089306  0.828587\n",
       "481  0.674536  0.359186  0.032195  0.008216  0.079438  0.785077"
      ]
     },
     "execution_count": 192,
     "metadata": {},
     "output_type": "execute_result"
    }
   ],
   "source": [
    "reconstrcuted_df.columns = data_n.columns.values\n",
    "reconstrcuted_df.head()"
   ]
  },
  {
   "cell_type": "code",
   "execution_count": 193,
   "metadata": {},
   "outputs": [
    {
     "data": {
      "text/html": [
       "<div>\n",
       "<style scoped>\n",
       "    .dataframe tbody tr th:only-of-type {\n",
       "        vertical-align: middle;\n",
       "    }\n",
       "\n",
       "    .dataframe tbody tr th {\n",
       "        vertical-align: top;\n",
       "    }\n",
       "\n",
       "    .dataframe thead th {\n",
       "        text-align: right;\n",
       "    }\n",
       "</style>\n",
       "<table border=\"1\" class=\"dataframe\">\n",
       "  <thead>\n",
       "    <tr style=\"text-align: right;\">\n",
       "      <th></th>\n",
       "      <th>V_1</th>\n",
       "      <th>V_2</th>\n",
       "      <th>V_3</th>\n",
       "      <th>V_4</th>\n",
       "      <th>V_5</th>\n",
       "      <th>V_6</th>\n",
       "    </tr>\n",
       "  </thead>\n",
       "  <tbody>\n",
       "    <tr>\n",
       "      <th>331</th>\n",
       "      <td>0.615801</td>\n",
       "      <td>0.273162</td>\n",
       "      <td>0.003936</td>\n",
       "      <td>0.029446</td>\n",
       "      <td>0.035589</td>\n",
       "      <td>0.247441</td>\n",
       "    </tr>\n",
       "    <tr>\n",
       "      <th>700</th>\n",
       "      <td>0.756853</td>\n",
       "      <td>0.164568</td>\n",
       "      <td>0.047346</td>\n",
       "      <td>0.069398</td>\n",
       "      <td>0.775133</td>\n",
       "      <td>0.831449</td>\n",
       "    </tr>\n",
       "    <tr>\n",
       "      <th>748</th>\n",
       "      <td>0.594788</td>\n",
       "      <td>0.082339</td>\n",
       "      <td>0.130524</td>\n",
       "      <td>0.041984</td>\n",
       "      <td>0.131337</td>\n",
       "      <td>0.259040</td>\n",
       "    </tr>\n",
       "    <tr>\n",
       "      <th>751</th>\n",
       "      <td>0.248145</td>\n",
       "      <td>0.326334</td>\n",
       "      <td>0.074653</td>\n",
       "      <td>0.101331</td>\n",
       "      <td>0.041873</td>\n",
       "      <td>0.171413</td>\n",
       "    </tr>\n",
       "    <tr>\n",
       "      <th>481</th>\n",
       "      <td>0.174536</td>\n",
       "      <td>0.030419</td>\n",
       "      <td>0.032195</td>\n",
       "      <td>0.008216</td>\n",
       "      <td>0.079438</td>\n",
       "      <td>0.214923</td>\n",
       "    </tr>\n",
       "  </tbody>\n",
       "</table>\n",
       "</div>"
      ],
      "text/plain": [
       "          V_1       V_2       V_3       V_4       V_5       V_6\n",
       "331  0.615801  0.273162  0.003936  0.029446  0.035589  0.247441\n",
       "700  0.756853  0.164568  0.047346  0.069398  0.775133  0.831449\n",
       "748  0.594788  0.082339  0.130524  0.041984  0.131337  0.259040\n",
       "751  0.248145  0.326334  0.074653  0.101331  0.041873  0.171413\n",
       "481  0.174536  0.030419  0.032195  0.008216  0.079438  0.214923"
      ]
     },
     "execution_count": 193,
     "metadata": {},
     "output_type": "execute_result"
    }
   ],
   "source": [
    "RE_per_dim_df = abs(data_n - reconstrcuted_df)\n",
    "RE_per_dim_df.head()"
   ]
  },
  {
   "cell_type": "code",
   "execution_count": 195,
   "metadata": {},
   "outputs": [
    {
     "data": {
      "text/html": [
       "<div>\n",
       "<style scoped>\n",
       "    .dataframe tbody tr th:only-of-type {\n",
       "        vertical-align: middle;\n",
       "    }\n",
       "\n",
       "    .dataframe tbody tr th {\n",
       "        vertical-align: top;\n",
       "    }\n",
       "\n",
       "    .dataframe thead th {\n",
       "        text-align: right;\n",
       "    }\n",
       "</style>\n",
       "<table border=\"1\" class=\"dataframe\">\n",
       "  <thead>\n",
       "    <tr style=\"text-align: right;\">\n",
       "      <th></th>\n",
       "      <th>V_1</th>\n",
       "      <th>V_2</th>\n",
       "      <th>V_3</th>\n",
       "      <th>V_4</th>\n",
       "      <th>V_5</th>\n",
       "      <th>V_6</th>\n",
       "      <th>Survived</th>\n",
       "      <th>reconstruction_error</th>\n",
       "    </tr>\n",
       "  </thead>\n",
       "  <tbody>\n",
       "    <tr>\n",
       "      <th>331</th>\n",
       "      <td>0.615801</td>\n",
       "      <td>0.273162</td>\n",
       "      <td>0.003936</td>\n",
       "      <td>0.029446</td>\n",
       "      <td>0.035589</td>\n",
       "      <td>0.247441</td>\n",
       "      <td>0</td>\n",
       "      <td>0.086201</td>\n",
       "    </tr>\n",
       "    <tr>\n",
       "      <th>700</th>\n",
       "      <td>0.756853</td>\n",
       "      <td>0.164568</td>\n",
       "      <td>0.047346</td>\n",
       "      <td>0.069398</td>\n",
       "      <td>0.775133</td>\n",
       "      <td>0.831449</td>\n",
       "      <td>1</td>\n",
       "      <td>0.316518</td>\n",
       "    </tr>\n",
       "    <tr>\n",
       "      <th>748</th>\n",
       "      <td>0.594788</td>\n",
       "      <td>0.082339</td>\n",
       "      <td>0.130524</td>\n",
       "      <td>0.041984</td>\n",
       "      <td>0.131337</td>\n",
       "      <td>0.259040</td>\n",
       "      <td>0</td>\n",
       "      <td>0.077284</td>\n",
       "    </tr>\n",
       "    <tr>\n",
       "      <th>751</th>\n",
       "      <td>0.248145</td>\n",
       "      <td>0.326334</td>\n",
       "      <td>0.074653</td>\n",
       "      <td>0.101331</td>\n",
       "      <td>0.041873</td>\n",
       "      <td>0.171413</td>\n",
       "      <td>1</td>\n",
       "      <td>0.035841</td>\n",
       "    </tr>\n",
       "    <tr>\n",
       "      <th>481</th>\n",
       "      <td>0.174536</td>\n",
       "      <td>0.030419</td>\n",
       "      <td>0.032195</td>\n",
       "      <td>0.008216</td>\n",
       "      <td>0.079438</td>\n",
       "      <td>0.214923</td>\n",
       "      <td>0</td>\n",
       "      <td>0.014166</td>\n",
       "    </tr>\n",
       "    <tr>\n",
       "      <th>845</th>\n",
       "      <td>0.234909</td>\n",
       "      <td>0.159780</td>\n",
       "      <td>0.082679</td>\n",
       "      <td>0.076206</td>\n",
       "      <td>0.062393</td>\n",
       "      <td>0.163816</td>\n",
       "      <td>0</td>\n",
       "      <td>0.020681</td>\n",
       "    </tr>\n",
       "    <tr>\n",
       "      <th>740</th>\n",
       "      <td>0.579472</td>\n",
       "      <td>0.005157</td>\n",
       "      <td>0.012232</td>\n",
       "      <td>0.050853</td>\n",
       "      <td>0.045061</td>\n",
       "      <td>0.267495</td>\n",
       "      <td>1</td>\n",
       "      <td>0.068689</td>\n",
       "    </tr>\n",
       "    <tr>\n",
       "      <th>287</th>\n",
       "      <td>0.249548</td>\n",
       "      <td>0.106429</td>\n",
       "      <td>0.073816</td>\n",
       "      <td>0.064205</td>\n",
       "      <td>0.059095</td>\n",
       "      <td>0.172215</td>\n",
       "      <td>0</td>\n",
       "      <td>0.019387</td>\n",
       "    </tr>\n",
       "    <tr>\n",
       "      <th>669</th>\n",
       "      <td>0.680849</td>\n",
       "      <td>0.033050</td>\n",
       "      <td>0.089585</td>\n",
       "      <td>0.012525</td>\n",
       "      <td>0.117520</td>\n",
       "      <td>0.788590</td>\n",
       "      <td>1</td>\n",
       "      <td>0.184752</td>\n",
       "    </tr>\n",
       "    <tr>\n",
       "      <th>241</th>\n",
       "      <td>0.213447</td>\n",
       "      <td>0.085307</td>\n",
       "      <td>0.028747</td>\n",
       "      <td>0.094645</td>\n",
       "      <td>0.035107</td>\n",
       "      <td>0.848637</td>\n",
       "      <td>1</td>\n",
       "      <td>0.130673</td>\n",
       "    </tr>\n",
       "  </tbody>\n",
       "</table>\n",
       "</div>"
      ],
      "text/plain": [
       "          V_1       V_2       V_3       V_4       V_5       V_6  Survived  \\\n",
       "331  0.615801  0.273162  0.003936  0.029446  0.035589  0.247441         0   \n",
       "700  0.756853  0.164568  0.047346  0.069398  0.775133  0.831449         1   \n",
       "748  0.594788  0.082339  0.130524  0.041984  0.131337  0.259040         0   \n",
       "751  0.248145  0.326334  0.074653  0.101331  0.041873  0.171413         1   \n",
       "481  0.174536  0.030419  0.032195  0.008216  0.079438  0.214923         0   \n",
       "845  0.234909  0.159780  0.082679  0.076206  0.062393  0.163816         0   \n",
       "740  0.579472  0.005157  0.012232  0.050853  0.045061  0.267495         1   \n",
       "287  0.249548  0.106429  0.073816  0.064205  0.059095  0.172215         0   \n",
       "669  0.680849  0.033050  0.089585  0.012525  0.117520  0.788590         1   \n",
       "241  0.213447  0.085307  0.028747  0.094645  0.035107  0.848637         1   \n",
       "\n",
       "     reconstruction_error  \n",
       "331              0.086201  \n",
       "700              0.316518  \n",
       "748              0.077284  \n",
       "751              0.035841  \n",
       "481              0.014166  \n",
       "845              0.020681  \n",
       "740              0.068689  \n",
       "287              0.019387  \n",
       "669              0.184752  \n",
       "241              0.130673  "
      ]
     },
     "execution_count": 195,
     "metadata": {},
     "output_type": "execute_result"
    }
   ],
   "source": [
    "RE_per_dim_df['Survived'] = y_test\n",
    "RE_per_dim_df['reconstruction_error'] = df_error['reconstruction_error']\n",
    "RE_per_dim_df.head(10)"
   ]
  },
  {
   "cell_type": "markdown",
   "metadata": {},
   "source": [
    "### ROC Curve Check"
   ]
  },
  {
   "cell_type": "code",
   "execution_count": 196,
   "metadata": {},
   "outputs": [
    {
     "data": {
      "image/png": "[encoded data removed]",
      "text/plain": [
       "<Figure size 432x288 with 1 Axes>"
      ]
     },
     "metadata": {},
     "output_type": "display_data"
    }
   ],
   "source": [
    "false_pos_rate, true_pos_rate, thresholds = roc_curve(df_error.Label, df_error.reconstruction_error)\n",
    "roc_auc = auc(false_pos_rate, true_pos_rate)\n",
    "\n",
    "plt.plot(false_pos_rate, true_pos_rate, linewidth=5, label='AUC = %0.3f'% roc_auc)\n",
    "plt.plot([0,1],[0,1], linewidth=5)\n",
    "\n",
    "plt.xlim([-0.01, 1])\n",
    "plt.ylim([0, 1.01])\n",
    "plt.legend(loc='lower right')\n",
    "plt.title('Receiver operating characteristic curve (ROC)')\n",
    "plt.ylabel('True Positive Rate')\n",
    "plt.xlabel('False Positive Rate')\n",
    "plt.show()"
   ]
  },
  {
   "cell_type": "code",
   "execution_count": 197,
   "metadata": {},
   "outputs": [
    {
     "data": {
      "text/plain": [
       "0.8296085858585858"
      ]
     },
     "execution_count": 197,
     "metadata": {},
     "output_type": "execute_result"
    }
   ],
   "source": [
    "roc_auc"
   ]
  },
  {
   "cell_type": "code",
   "execution_count": 198,
   "metadata": {},
   "outputs": [
    {
     "data": {
      "text/html": [
       "<div>\n",
       "<style scoped>\n",
       "    .dataframe tbody tr th:only-of-type {\n",
       "        vertical-align: middle;\n",
       "    }\n",
       "\n",
       "    .dataframe tbody tr th {\n",
       "        vertical-align: top;\n",
       "    }\n",
       "\n",
       "    .dataframe thead th {\n",
       "        text-align: right;\n",
       "    }\n",
       "</style>\n",
       "<table border=\"1\" class=\"dataframe\">\n",
       "  <thead>\n",
       "    <tr style=\"text-align: right;\">\n",
       "      <th></th>\n",
       "      <th>false_pos_rate</th>\n",
       "      <th>true_pos_rate</th>\n",
       "      <th>thresholds</th>\n",
       "    </tr>\n",
       "  </thead>\n",
       "  <tbody>\n",
       "    <tr>\n",
       "      <th>0</th>\n",
       "      <td>0.000000</td>\n",
       "      <td>0.0000</td>\n",
       "      <td>1.685313</td>\n",
       "    </tr>\n",
       "    <tr>\n",
       "      <th>1</th>\n",
       "      <td>0.000000</td>\n",
       "      <td>0.0125</td>\n",
       "      <td>0.685313</td>\n",
       "    </tr>\n",
       "    <tr>\n",
       "      <th>2</th>\n",
       "      <td>0.000000</td>\n",
       "      <td>0.1250</td>\n",
       "      <td>0.229567</td>\n",
       "    </tr>\n",
       "    <tr>\n",
       "      <th>3</th>\n",
       "      <td>0.020202</td>\n",
       "      <td>0.1250</td>\n",
       "      <td>0.219885</td>\n",
       "    </tr>\n",
       "    <tr>\n",
       "      <th>4</th>\n",
       "      <td>0.020202</td>\n",
       "      <td>0.2500</td>\n",
       "      <td>0.195211</td>\n",
       "    </tr>\n",
       "    <tr>\n",
       "      <th>5</th>\n",
       "      <td>0.030303</td>\n",
       "      <td>0.2500</td>\n",
       "      <td>0.191521</td>\n",
       "    </tr>\n",
       "    <tr>\n",
       "      <th>6</th>\n",
       "      <td>0.030303</td>\n",
       "      <td>0.3125</td>\n",
       "      <td>0.170506</td>\n",
       "    </tr>\n",
       "    <tr>\n",
       "      <th>7</th>\n",
       "      <td>0.050505</td>\n",
       "      <td>0.3125</td>\n",
       "      <td>0.162883</td>\n",
       "    </tr>\n",
       "    <tr>\n",
       "      <th>8</th>\n",
       "      <td>0.050505</td>\n",
       "      <td>0.3250</td>\n",
       "      <td>0.161851</td>\n",
       "    </tr>\n",
       "    <tr>\n",
       "      <th>9</th>\n",
       "      <td>0.060606</td>\n",
       "      <td>0.3250</td>\n",
       "      <td>0.157093</td>\n",
       "    </tr>\n",
       "    <tr>\n",
       "      <th>10</th>\n",
       "      <td>0.060606</td>\n",
       "      <td>0.3875</td>\n",
       "      <td>0.150214</td>\n",
       "    </tr>\n",
       "    <tr>\n",
       "      <th>11</th>\n",
       "      <td>0.070707</td>\n",
       "      <td>0.3875</td>\n",
       "      <td>0.142913</td>\n",
       "    </tr>\n",
       "    <tr>\n",
       "      <th>12</th>\n",
       "      <td>0.070707</td>\n",
       "      <td>0.4250</td>\n",
       "      <td>0.139174</td>\n",
       "    </tr>\n",
       "    <tr>\n",
       "      <th>13</th>\n",
       "      <td>0.080808</td>\n",
       "      <td>0.4250</td>\n",
       "      <td>0.138777</td>\n",
       "    </tr>\n",
       "    <tr>\n",
       "      <th>14</th>\n",
       "      <td>0.080808</td>\n",
       "      <td>0.4875</td>\n",
       "      <td>0.132142</td>\n",
       "    </tr>\n",
       "    <tr>\n",
       "      <th>15</th>\n",
       "      <td>0.080808</td>\n",
       "      <td>0.5250</td>\n",
       "      <td>0.132142</td>\n",
       "    </tr>\n",
       "    <tr>\n",
       "      <th>16</th>\n",
       "      <td>0.131313</td>\n",
       "      <td>0.5250</td>\n",
       "      <td>0.130869</td>\n",
       "    </tr>\n",
       "    <tr>\n",
       "      <th>17</th>\n",
       "      <td>0.131313</td>\n",
       "      <td>0.5375</td>\n",
       "      <td>0.130773</td>\n",
       "    </tr>\n",
       "    <tr>\n",
       "      <th>18</th>\n",
       "      <td>0.141414</td>\n",
       "      <td>0.5375</td>\n",
       "      <td>0.130684</td>\n",
       "    </tr>\n",
       "    <tr>\n",
       "      <th>19</th>\n",
       "      <td>0.141414</td>\n",
       "      <td>0.5625</td>\n",
       "      <td>0.130673</td>\n",
       "    </tr>\n",
       "    <tr>\n",
       "      <th>20</th>\n",
       "      <td>0.141414</td>\n",
       "      <td>0.7125</td>\n",
       "      <td>0.123897</td>\n",
       "    </tr>\n",
       "    <tr>\n",
       "      <th>21</th>\n",
       "      <td>0.181818</td>\n",
       "      <td>0.7125</td>\n",
       "      <td>0.104951</td>\n",
       "    </tr>\n",
       "    <tr>\n",
       "      <th>22</th>\n",
       "      <td>0.181818</td>\n",
       "      <td>0.7250</td>\n",
       "      <td>0.104627</td>\n",
       "    </tr>\n",
       "    <tr>\n",
       "      <th>23</th>\n",
       "      <td>0.191919</td>\n",
       "      <td>0.7250</td>\n",
       "      <td>0.101193</td>\n",
       "    </tr>\n",
       "    <tr>\n",
       "      <th>24</th>\n",
       "      <td>0.191919</td>\n",
       "      <td>0.7375</td>\n",
       "      <td>0.097178</td>\n",
       "    </tr>\n",
       "  </tbody>\n",
       "</table>\n",
       "</div>"
      ],
      "text/plain": [
       "    false_pos_rate  true_pos_rate  thresholds\n",
       "0         0.000000         0.0000    1.685313\n",
       "1         0.000000         0.0125    0.685313\n",
       "2         0.000000         0.1250    0.229567\n",
       "3         0.020202         0.1250    0.219885\n",
       "4         0.020202         0.2500    0.195211\n",
       "5         0.030303         0.2500    0.191521\n",
       "6         0.030303         0.3125    0.170506\n",
       "7         0.050505         0.3125    0.162883\n",
       "8         0.050505         0.3250    0.161851\n",
       "9         0.060606         0.3250    0.157093\n",
       "10        0.060606         0.3875    0.150214\n",
       "11        0.070707         0.3875    0.142913\n",
       "12        0.070707         0.4250    0.139174\n",
       "13        0.080808         0.4250    0.138777\n",
       "14        0.080808         0.4875    0.132142\n",
       "15        0.080808         0.5250    0.132142\n",
       "16        0.131313         0.5250    0.130869\n",
       "17        0.131313         0.5375    0.130773\n",
       "18        0.141414         0.5375    0.130684\n",
       "19        0.141414         0.5625    0.130673\n",
       "20        0.141414         0.7125    0.123897\n",
       "21        0.181818         0.7125    0.104951\n",
       "22        0.181818         0.7250    0.104627\n",
       "23        0.191919         0.7250    0.101193\n",
       "24        0.191919         0.7375    0.097178"
      ]
     },
     "execution_count": 198,
     "metadata": {},
     "output_type": "execute_result"
    }
   ],
   "source": [
    "ROC_df = pd.DataFrame()\n",
    "ROC_df['false_pos_rate'] = false_pos_rate\n",
    "ROC_df['true_pos_rate'] = true_pos_rate\n",
    "ROC_df['thresholds'] = thresholds\n",
    "ROC_df.head(25)"
   ]
  },
  {
   "cell_type": "markdown",
   "metadata": {},
   "source": [
    "### Recall vs. Precision Thresholding"
   ]
  },
  {
   "cell_type": "code",
   "execution_count": 199,
   "metadata": {},
   "outputs": [
    {
     "data": {
      "image/png": "[encoded data removed]",
      "text/plain": [
       "<Figure size 432x288 with 1 Axes>"
      ]
     },
     "metadata": {},
     "output_type": "display_data"
    }
   ],
   "source": [
    "precision_rt, recall_rt, threshold_rt = precision_recall_curve(df_error.Label, df_error.reconstruction_error)\n",
    "plt.plot(recall_rt, precision_rt, linewidth=5, label='Precision-Recall curve')\n",
    "plt.title('Recall vs Precision')\n",
    "plt.xlabel('Recall')\n",
    "plt.ylabel('Precision')\n",
    "plt.show()"
   ]
  },
  {
   "cell_type": "code",
   "execution_count": 200,
   "metadata": {},
   "outputs": [
    {
     "data": {
      "text/html": [
       "<div>\n",
       "<style scoped>\n",
       "    .dataframe tbody tr th:only-of-type {\n",
       "        vertical-align: middle;\n",
       "    }\n",
       "\n",
       "    .dataframe tbody tr th {\n",
       "        vertical-align: top;\n",
       "    }\n",
       "\n",
       "    .dataframe thead th {\n",
       "        text-align: right;\n",
       "    }\n",
       "</style>\n",
       "<table border=\"1\" class=\"dataframe\">\n",
       "  <thead>\n",
       "    <tr style=\"text-align: right;\">\n",
       "      <th></th>\n",
       "      <th>precision_rt</th>\n",
       "      <th>recall_rt</th>\n",
       "      <th>threshold_rt</th>\n",
       "    </tr>\n",
       "  </thead>\n",
       "  <tbody>\n",
       "    <tr>\n",
       "      <th>0</th>\n",
       "      <td>0.512987</td>\n",
       "      <td>0.9875</td>\n",
       "      <td>0.017554</td>\n",
       "    </tr>\n",
       "    <tr>\n",
       "      <th>1</th>\n",
       "      <td>0.509804</td>\n",
       "      <td>0.9750</td>\n",
       "      <td>0.017733</td>\n",
       "    </tr>\n",
       "    <tr>\n",
       "      <th>2</th>\n",
       "      <td>0.513158</td>\n",
       "      <td>0.9750</td>\n",
       "      <td>0.017745</td>\n",
       "    </tr>\n",
       "    <tr>\n",
       "      <th>3</th>\n",
       "      <td>0.509934</td>\n",
       "      <td>0.9625</td>\n",
       "      <td>0.017747</td>\n",
       "    </tr>\n",
       "    <tr>\n",
       "      <th>4</th>\n",
       "      <td>0.513333</td>\n",
       "      <td>0.9625</td>\n",
       "      <td>0.017826</td>\n",
       "    </tr>\n",
       "    <tr>\n",
       "      <th>5</th>\n",
       "      <td>0.516779</td>\n",
       "      <td>0.9625</td>\n",
       "      <td>0.017875</td>\n",
       "    </tr>\n",
       "    <tr>\n",
       "      <th>6</th>\n",
       "      <td>0.520270</td>\n",
       "      <td>0.9625</td>\n",
       "      <td>0.018032</td>\n",
       "    </tr>\n",
       "    <tr>\n",
       "      <th>7</th>\n",
       "      <td>0.527397</td>\n",
       "      <td>0.9625</td>\n",
       "      <td>0.018048</td>\n",
       "    </tr>\n",
       "    <tr>\n",
       "      <th>8</th>\n",
       "      <td>0.538462</td>\n",
       "      <td>0.9625</td>\n",
       "      <td>0.018060</td>\n",
       "    </tr>\n",
       "    <tr>\n",
       "      <th>9</th>\n",
       "      <td>0.535211</td>\n",
       "      <td>0.9500</td>\n",
       "      <td>0.018062</td>\n",
       "    </tr>\n",
       "    <tr>\n",
       "      <th>10</th>\n",
       "      <td>0.535714</td>\n",
       "      <td>0.9375</td>\n",
       "      <td>0.018107</td>\n",
       "    </tr>\n",
       "    <tr>\n",
       "      <th>11</th>\n",
       "      <td>0.539568</td>\n",
       "      <td>0.9375</td>\n",
       "      <td>0.018116</td>\n",
       "    </tr>\n",
       "    <tr>\n",
       "      <th>12</th>\n",
       "      <td>0.536232</td>\n",
       "      <td>0.9250</td>\n",
       "      <td>0.018116</td>\n",
       "    </tr>\n",
       "    <tr>\n",
       "      <th>13</th>\n",
       "      <td>0.540146</td>\n",
       "      <td>0.9250</td>\n",
       "      <td>0.018133</td>\n",
       "    </tr>\n",
       "    <tr>\n",
       "      <th>14</th>\n",
       "      <td>0.544118</td>\n",
       "      <td>0.9250</td>\n",
       "      <td>0.018135</td>\n",
       "    </tr>\n",
       "    <tr>\n",
       "      <th>15</th>\n",
       "      <td>0.548148</td>\n",
       "      <td>0.9250</td>\n",
       "      <td>0.018145</td>\n",
       "    </tr>\n",
       "    <tr>\n",
       "      <th>16</th>\n",
       "      <td>0.552239</td>\n",
       "      <td>0.9250</td>\n",
       "      <td>0.018511</td>\n",
       "    </tr>\n",
       "    <tr>\n",
       "      <th>17</th>\n",
       "      <td>0.548872</td>\n",
       "      <td>0.9125</td>\n",
       "      <td>0.018608</td>\n",
       "    </tr>\n",
       "    <tr>\n",
       "      <th>18</th>\n",
       "      <td>0.545455</td>\n",
       "      <td>0.9000</td>\n",
       "      <td>0.018745</td>\n",
       "    </tr>\n",
       "    <tr>\n",
       "      <th>19</th>\n",
       "      <td>0.549618</td>\n",
       "      <td>0.9000</td>\n",
       "      <td>0.018881</td>\n",
       "    </tr>\n",
       "  </tbody>\n",
       "</table>\n",
       "</div>"
      ],
      "text/plain": [
       "    precision_rt  recall_rt  threshold_rt\n",
       "0       0.512987     0.9875      0.017554\n",
       "1       0.509804     0.9750      0.017733\n",
       "2       0.513158     0.9750      0.017745\n",
       "3       0.509934     0.9625      0.017747\n",
       "4       0.513333     0.9625      0.017826\n",
       "5       0.516779     0.9625      0.017875\n",
       "6       0.520270     0.9625      0.018032\n",
       "7       0.527397     0.9625      0.018048\n",
       "8       0.538462     0.9625      0.018060\n",
       "9       0.535211     0.9500      0.018062\n",
       "10      0.535714     0.9375      0.018107\n",
       "11      0.539568     0.9375      0.018116\n",
       "12      0.536232     0.9250      0.018116\n",
       "13      0.540146     0.9250      0.018133\n",
       "14      0.544118     0.9250      0.018135\n",
       "15      0.548148     0.9250      0.018145\n",
       "16      0.552239     0.9250      0.018511\n",
       "17      0.548872     0.9125      0.018608\n",
       "18      0.545455     0.9000      0.018745\n",
       "19      0.549618     0.9000      0.018881"
      ]
     },
     "execution_count": 200,
     "metadata": {},
     "output_type": "execute_result"
    }
   ],
   "source": [
    "PR_df = pd.DataFrame()\n",
    "PR_df['precision_rt'] = precision_rt[1:len(threshold_rt)]\n",
    "PR_df['recall_rt'] = recall_rt[1:len(threshold_rt)]\n",
    "PR_df['threshold_rt'] = threshold_rt[1:len(threshold_rt)]\n",
    "PR_df.head(20)"
   ]
  },
  {
   "cell_type": "code",
   "execution_count": 201,
   "metadata": {},
   "outputs": [
    {
     "data": {
      "image/png": "[encoded data removed]",
      "text/plain": [
       "<Figure size 432x288 with 1 Axes>"
      ]
     },
     "metadata": {},
     "output_type": "display_data"
    }
   ],
   "source": [
    "plt.plot(threshold_rt, precision_rt[1:], label=\"Precision\",linewidth=5)\n",
    "plt.plot(threshold_rt, recall_rt[1:], label=\"Recall\",linewidth=5)\n",
    "plt.title('Precision and recall for different threshold values')\n",
    "plt.xlabel('Threshold')\n",
    "plt.ylabel('Precision/Recall')\n",
    "plt.legend()\n",
    "plt.show()"
   ]
  },
  {
   "cell_type": "markdown",
   "metadata": {},
   "source": [
    "### Reconstruction Error vs Threshold Check"
   ]
  },
  {
   "cell_type": "code",
   "execution_count": 205,
   "metadata": {},
   "outputs": [
    {
     "data": {
      "image/png": "[encoded data removed]",
      "text/plain": [
       "<Figure size 432x288 with 1 Axes>"
      ]
     },
     "metadata": {},
     "output_type": "display_data"
    }
   ],
   "source": [
    "threshold_fixed = 0.12\n",
    "groups = df_error.groupby('Label')\n",
    "fig, ax = plt.subplots()\n",
    "\n",
    "for name, group in groups:\n",
    "    ax.plot(group.index, group.reconstruction_error, marker='o', ms=3.5, linestyle='',\n",
    "            label= \"Survived\" if name == 1 else \"No Survived\")\n",
    "ax.hlines(threshold_fixed, ax.get_xlim()[0], ax.get_xlim()[1], colors=\"r\", zorder=100, label='Threshold')\n",
    "ax.legend()\n",
    "plt.title(\"Reconstruction error for different classes\")\n",
    "plt.ylabel(\"Reconstruction error\")\n",
    "plt.xlabel(\"Data point index\")\n",
    "plt.show();"
   ]
  },
  {
   "cell_type": "code",
   "execution_count": 206,
   "metadata": {},
   "outputs": [
    {
     "data": {
      "image/png": "[encoded data removed]",
      "text/plain": [
       "<Figure size 288x288 with 2 Axes>"
      ]
     },
     "metadata": {},
     "output_type": "display_data"
    }
   ],
   "source": [
    "pred_y = [1 if e > threshold_fixed else 0 for e in df_error.reconstruction_error.values]\n",
    "conf_matrix = confusion_matrix(df_error.Label, pred_y)\n",
    "\n",
    "plt.figure(figsize=(4, 4))\n",
    "sns.heatmap(conf_matrix, xticklabels=LABELS, yticklabels=LABELS, annot=True, fmt=\"d\");\n",
    "plt.title(\"Confusion matrix\")\n",
    "plt.ylabel('True class')\n",
    "plt.xlabel('Predicted class')\n",
    "plt.show()"
   ]
  },
  {
   "cell_type": "code",
   "execution_count": 207,
   "metadata": {},
   "outputs": [
    {
     "name": "stdout",
     "output_type": "stream",
     "text": [
      "              precision    recall  f1-score   support\n",
      "\n",
      "           0       0.79      0.85      0.82        99\n",
      "           1       0.79      0.71      0.75        80\n",
      "\n",
      "   micro avg       0.79      0.79      0.79       179\n",
      "   macro avg       0.79      0.78      0.78       179\n",
      "weighted avg       0.79      0.79      0.79       179\n",
      "\n"
     ]
    }
   ],
   "source": [
    "from sklearn.metrics import classification_report\n",
    "print(classification_report(y_test, pred_y))"
   ]
  },
  {
   "cell_type": "code",
   "execution_count": null,
   "metadata": {},
   "outputs": [],
   "source": []
  }
 ],
 "metadata": {
  "kernelspec": {
   "display_name": "Python 3",
   "language": "python",
   "name": "python3"
  },
  "language_info": {
   "codemirror_mode": {
    "name": "ipython",
    "version": 3
   },
   "file_extension": ".py",
   "mimetype": "text/x-python",
   "name": "python",
   "nbconvert_exporter": "python",
   "pygments_lexer": "ipython3",
   "version": "3.8.5"
  }
 },
 "nbformat": 4,
 "nbformat_minor": 2
}

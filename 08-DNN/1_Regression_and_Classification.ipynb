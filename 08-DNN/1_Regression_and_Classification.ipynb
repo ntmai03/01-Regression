{
 "cells": [
  {
   "cell_type": "markdown",
   "metadata": {
    "id": "3dh94P6jPUji"
   },
   "source": [
    "---\n",
    "---\n",
    "# <font color='#f78fb3'> **1 Setup**<br> </font> "
   ]
  },
  {
   "cell_type": "code",
   "execution_count": 7,
   "metadata": {
    "id": "Vxct6D9UPLeM"
   },
   "outputs": [],
   "source": [
    "# Python ≥3.5 is required\n",
    "import sys\n",
    "assert sys.version_info >= (3, 5)\n",
    "\n",
    "# Scikit-Learn ≥0.20 is required\n",
    "import sklearn\n",
    "assert sklearn.__version__ >= \"0.20\"\n",
    "import sklearn.decomposition as dec\n",
    "from sklearn.decomposition import PCA\n",
    "from sklearn.preprocessing import MinMaxScaler\n",
    "\n",
    "# Common imports\n",
    "import numpy as np\n",
    "import pandas as pd\n",
    "from sklearn.utils import shuffle\n",
    "import os\n",
    "\n",
    "# to make this notebook's output stable across runs\n",
    "np.random.seed(42)\n",
    "\n",
    "# TensorFlow ≥2.0 is required\n",
    "import tensorflow as tf\n",
    "from tensorflow import keras\n",
    "assert tf.__version__ >= \"2.0\"\n",
    "\n",
    "# To plot pretty figures\n",
    "%matplotlib inline\n",
    "import matplotlib as mpl\n",
    "import matplotlib.pyplot as plt\n",
    "import matplotlib.patheffects as PathEffects\n",
    "from matplotlib.offsetbox import AnnotationBbox, OffsetImage\n",
    "# import seaborn to make nice plots\n",
    "import seaborn as sns\n",
    "\n",
    "mpl.rc('axes', labelsize=14)\n",
    "mpl.rc('xtick', labelsize=12)\n",
    "mpl.rc('ytick', labelsize=12)"
   ]
  },
  {
   "cell_type": "markdown",
   "metadata": {
    "id": "YG7ad6P8bcnL"
   },
   "source": [
    "---\n",
    "---\n",
    "# <font color='#f78fb3'> **2 Regression**<br> </font> "
   ]
  },
  {
   "cell_type": "markdown",
   "metadata": {
    "id": "-nso-hQYbjTi"
   },
   "source": [
    "### <font color='#f78fb3'> <font color='#f9ca24'>**2.1 California housing**<br> </font>  "
   ]
  },
  {
   "cell_type": "markdown",
   "metadata": {
    "id": "Zmx4TZgEbvw-"
   },
   "source": [
    "#### <font color='lightgreen'>**Prepare data**</font>"
   ]
  },
  {
   "cell_type": "code",
   "execution_count": 1,
   "metadata": {
    "colab": {
     "base_uri": "https://localhost:8080/"
    },
    "id": "qrr2YiJpH0Sv",
    "outputId": "148be6be-5b17-4128-b95b-858c4759f65d"
   },
   "outputs": [
    {
     "data": {
      "text/plain": [
       "((11610, 8), (5160, 8))"
      ]
     },
     "execution_count": 1,
     "metadata": {},
     "output_type": "execute_result"
    }
   ],
   "source": [
    "from sklearn.datasets import fetch_california_housing\n",
    "from sklearn.model_selection import train_test_split\n",
    "from sklearn.preprocessing import StandardScaler\n",
    "\n",
    "housing = fetch_california_housing()\n",
    "X_train_full, X_test, y_train_full, y_test = train_test_split(housing.data, housing.target, random_state=42)\n",
    "X_train, X_valid, y_train, y_valid = train_test_split(X_train_full, y_train_full, random_state=42)\n",
    "\n",
    "scaler = StandardScaler()\n",
    "X_train = scaler.fit_transform(X_train)\n",
    "X_valid = scaler.transform(X_valid)\n",
    "X_test = scaler.transform(X_test)\n",
    "\n",
    "X_train.shape, X_test.shape"
   ]
  },
  {
   "cell_type": "code",
   "execution_count": 2,
   "metadata": {
    "colab": {
     "base_uri": "https://localhost:8080/"
    },
    "id": "c6z_cctGovVG",
    "outputId": "e18e979e-b692-4347-c847-124254ad1cbb"
   },
   "outputs": [
    {
     "data": {
      "text/plain": [
       "{'data': array([[   8.3252    ,   41.        ,    6.98412698, ...,    2.55555556,\n",
       "           37.88      , -122.23      ],\n",
       "        [   8.3014    ,   21.        ,    6.23813708, ...,    2.10984183,\n",
       "           37.86      , -122.22      ],\n",
       "        [   7.2574    ,   52.        ,    8.28813559, ...,    2.80225989,\n",
       "           37.85      , -122.24      ],\n",
       "        ...,\n",
       "        [   1.7       ,   17.        ,    5.20554273, ...,    2.3256351 ,\n",
       "           39.43      , -121.22      ],\n",
       "        [   1.8672    ,   18.        ,    5.32951289, ...,    2.12320917,\n",
       "           39.43      , -121.32      ],\n",
       "        [   2.3886    ,   16.        ,    5.25471698, ...,    2.61698113,\n",
       "           39.37      , -121.24      ]]),\n",
       " 'target': array([4.526, 3.585, 3.521, ..., 0.923, 0.847, 0.894]),\n",
       " 'frame': None,\n",
       " 'target_names': ['MedHouseVal'],\n",
       " 'feature_names': ['MedInc',\n",
       "  'HouseAge',\n",
       "  'AveRooms',\n",
       "  'AveBedrms',\n",
       "  'Population',\n",
       "  'AveOccup',\n",
       "  'Latitude',\n",
       "  'Longitude'],\n",
       " 'DESCR': '.. _california_housing_dataset:\\n\\nCalifornia Housing dataset\\n--------------------------\\n\\n**Data Set Characteristics:**\\n\\n    :Number of Instances: 20640\\n\\n    :Number of Attributes: 8 numeric, predictive attributes and the target\\n\\n    :Attribute Information:\\n        - MedInc        median income in block group\\n        - HouseAge      median house age in block group\\n        - AveRooms      average number of rooms per household\\n        - AveBedrms     average number of bedrooms per household\\n        - Population    block group population\\n        - AveOccup      average number of household members\\n        - Latitude      block group latitude\\n        - Longitude     block group longitude\\n\\n    :Missing Attribute Values: None\\n\\nThis dataset was obtained from the StatLib repository.\\nhttps://www.dcc.fc.up.pt/~ltorgo/Regression/cal_housing.html\\n\\nThe target variable is the median house value for California districts,\\nexpressed in hundreds of thousands of dollars ($100,000).\\n\\nThis dataset was derived from the 1990 U.S. census, using one row per census\\nblock group. A block group is the smallest geographical unit for which the U.S.\\nCensus Bureau publishes sample data (a block group typically has a population\\nof 600 to 3,000 people).\\n\\nAn household is a group of people residing within a home. Since the average\\nnumber of rooms and bedrooms in this dataset are provided per household, these\\ncolumns may take surpinsingly large values for block groups with few households\\nand many empty houses, such as vacation resorts.\\n\\nIt can be downloaded/loaded using the\\n:func:`sklearn.datasets.fetch_california_housing` function.\\n\\n.. topic:: References\\n\\n    - Pace, R. Kelley and Ronald Barry, Sparse Spatial Autoregressions,\\n      Statistics and Probability Letters, 33 (1997) 291-297\\n'}"
      ]
     },
     "execution_count": 2,
     "metadata": {},
     "output_type": "execute_result"
    }
   ],
   "source": [
    "housing"
   ]
  },
  {
   "cell_type": "markdown",
   "metadata": {
    "id": "G63jxlOLb37h"
   },
   "source": [
    "#### <font color='lightgreen'>**Construction Phase**</font>"
   ]
  },
  {
   "cell_type": "code",
   "execution_count": 16,
   "metadata": {
    "colab": {
     "base_uri": "https://localhost:8080/"
    },
    "id": "IJqd_iJkJo_9",
    "outputId": "866045e3-39d8-4824-d38f-3014bdb0be92"
   },
   "outputs": [
    {
     "name": "stdout",
     "output_type": "stream",
     "text": [
      "Model: \"sequential\"\n",
      "_________________________________________________________________\n",
      " Layer (type)                Output Shape              Param #   \n",
      "=================================================================\n",
      " dense (Dense)               (None, 30)                270       \n",
      "                                                                 \n",
      " dense_1 (Dense)             (None, 30)                930       \n",
      "                                                                 \n",
      " dense_2 (Dense)             (None, 1)                 31        \n",
      "                                                                 \n",
      "=================================================================\n",
      "Total params: 1,231\n",
      "Trainable params: 1,231\n",
      "Non-trainable params: 0\n",
      "_________________________________________________________________\n"
     ]
    }
   ],
   "source": [
    "keras.backend.clear_session()\n",
    "model = keras.models.Sequential([\n",
    "    keras.layers.Dense(30, activation=\"relu\", input_shape=X_train.shape[1:]),\n",
    "    keras.layers.Dense(30, activation=\"relu\"),\n",
    "    keras.layers.Dense(1)\n",
    "])\n",
    "# compile\n",
    "model.compile(loss=\"mean_squared_error\", optimizer=keras.optimizers.SGD(learning_rate=1e-3))\n",
    "# model.compile(optimizer='rmsprop', loss='mse')\n",
    "# using checkpoint to save the best model\n",
    "checkpoint_cb = keras.callbacks.ModelCheckpoint(\"california_housing_model.h5\", save_best_only=True)\n",
    "model.summary()"
   ]
  },
  {
   "cell_type": "markdown",
   "metadata": {
    "id": "lMixvJJmMQS2"
   },
   "source": [
    "#### <font color='lightgreen'>**Train model**</font>"
   ]
  },
  {
   "cell_type": "code",
   "execution_count": 17,
   "metadata": {
    "colab": {
     "base_uri": "https://localhost:8080/"
    },
    "id": "8KMjmkpWLMbf",
    "outputId": "20392c1b-e58b-401b-d917-8acc48a397b9"
   },
   "outputs": [
    {
     "name": "stdout",
     "output_type": "stream",
     "text": [
      "Epoch 1/20\n",
      "363/363 [==============================] - 2s 4ms/step - loss: 2.0082 - val_loss: 2.4826\n",
      "Epoch 2/20\n",
      "363/363 [==============================] - 1s 3ms/step - loss: 0.8225 - val_loss: 0.6988\n",
      "Epoch 3/20\n",
      "363/363 [==============================] - 1s 3ms/step - loss: 0.6848 - val_loss: 0.6466\n",
      "Epoch 4/20\n",
      "363/363 [==============================] - 1s 3ms/step - loss: 0.6335 - val_loss: 0.5826\n",
      "Epoch 5/20\n",
      "363/363 [==============================] - 1s 3ms/step - loss: 0.5955 - val_loss: 0.5603\n",
      "Epoch 6/20\n",
      "363/363 [==============================] - 1s 3ms/step - loss: 0.5647 - val_loss: 0.5311\n",
      "Epoch 7/20\n",
      "363/363 [==============================] - 1s 3ms/step - loss: 0.5396 - val_loss: 0.5038\n",
      "Epoch 8/20\n",
      "363/363 [==============================] - 1s 3ms/step - loss: 0.5181 - val_loss: 0.4852\n",
      "Epoch 9/20\n",
      "363/363 [==============================] - 1s 3ms/step - loss: 0.5006 - val_loss: 0.4689\n",
      "Epoch 10/20\n",
      "363/363 [==============================] - 1s 3ms/step - loss: 0.4855 - val_loss: 0.4577\n",
      "Epoch 11/20\n",
      "363/363 [==============================] - 1s 3ms/step - loss: 0.4724 - val_loss: 0.4588\n",
      "Epoch 12/20\n",
      "363/363 [==============================] - 1s 3ms/step - loss: 0.4614 - val_loss: 0.4382\n",
      "Epoch 13/20\n",
      "363/363 [==============================] - 1s 3ms/step - loss: 0.4518 - val_loss: 0.4302\n",
      "Epoch 14/20\n",
      "363/363 [==============================] - 1s 3ms/step - loss: 0.4434 - val_loss: 0.4210\n",
      "Epoch 15/20\n",
      "363/363 [==============================] - 1s 3ms/step - loss: 0.4360 - val_loss: 0.4274\n",
      "Epoch 16/20\n",
      "363/363 [==============================] - 1s 3ms/step - loss: 0.4296 - val_loss: 0.4107\n",
      "Epoch 17/20\n",
      "363/363 [==============================] - 1s 3ms/step - loss: 0.4238 - val_loss: 0.4082\n",
      "Epoch 18/20\n",
      "363/363 [==============================] - 1s 3ms/step - loss: 0.4183 - val_loss: 0.4041\n",
      "Epoch 19/20\n",
      "363/363 [==============================] - 1s 3ms/step - loss: 0.4135 - val_loss: 0.3975\n",
      "Epoch 20/20\n",
      "363/363 [==============================] - 1s 3ms/step - loss: 0.4090 - val_loss: 0.3952\n",
      "162/162 [==============================] - 0s 2ms/step - loss: 0.4070\n",
      "363/363 [==============================] - 1s 3ms/step - loss: 0.4061\n"
     ]
    }
   ],
   "source": [
    "history = model.fit(X_train, y_train, epochs=20, validation_data=(X_valid, y_valid), callbacks=[checkpoint_cb])\n",
    "# Using Callbacks during Training\n",
    "model = keras.models.load_model(\"california_housing_model.h5\")  #  rollback to best model\n",
    "mse_test = model.evaluate(X_test, y_test)\n",
    "mse_train = model.evaluate(X_train, y_train)"
   ]
  },
  {
   "cell_type": "code",
   "execution_count": 18,
   "metadata": {
    "colab": {
     "base_uri": "https://localhost:8080/"
    },
    "id": "rX0fX4BKO111",
    "outputId": "cb4279ae-ffe1-48be-c296-2ba084394a8b"
   },
   "outputs": [
    {
     "name": "stdout",
     "output_type": "stream",
     "text": [
      "Epoch 1/20\n",
      "358/363 [============================>.] - ETA: 0s - loss: 2.0673\n",
      "val/train: 0.46\n",
      "363/363 [==============================] - 2s 4ms/step - loss: 2.0563 - val_loss: 0.9415\n",
      "Epoch 2/20\n",
      "358/363 [============================>.] - ETA: 0s - loss: 0.8276\n",
      "val/train: 0.94\n",
      "363/363 [==============================] - 1s 3ms/step - loss: 0.8264 - val_loss: 0.7796\n",
      "Epoch 3/20\n",
      "362/363 [============================>.] - ETA: 0s - loss: 0.6919\n",
      "val/train: 0.91\n",
      "363/363 [==============================] - 1s 3ms/step - loss: 0.6908 - val_loss: 0.6284\n",
      "Epoch 4/20\n",
      "361/363 [============================>.] - ETA: 0s - loss: 0.6264\n",
      "val/train: 0.93\n",
      "363/363 [==============================] - 1s 3ms/step - loss: 0.6262 - val_loss: 0.5809\n",
      "Epoch 5/20\n",
      "363/363 [==============================] - ETA: 0s - loss: 0.5830\n",
      "val/train: 0.90\n",
      "363/363 [==============================] - 1s 3ms/step - loss: 0.5830 - val_loss: 0.5240\n",
      "Epoch 6/20\n",
      "343/363 [===========================>..] - ETA: 0s - loss: 0.5505\n",
      "val/train: 0.90\n",
      "363/363 [==============================] - 1s 3ms/step - loss: 0.5500 - val_loss: 0.4942\n",
      "Epoch 7/20\n",
      "361/363 [============================>.] - ETA: 0s - loss: 0.5244\n",
      "val/train: 0.90\n",
      "363/363 [==============================] - 1s 3ms/step - loss: 0.5240 - val_loss: 0.4712\n",
      "Epoch 8/20\n",
      "361/363 [============================>.] - ETA: 0s - loss: 0.5032\n",
      "val/train: 0.90\n",
      "363/363 [==============================] - 1s 3ms/step - loss: 0.5025 - val_loss: 0.4540\n",
      "Epoch 9/20\n",
      "357/363 [============================>.] - ETA: 0s - loss: 0.4875\n",
      "val/train: 0.93\n",
      "363/363 [==============================] - 1s 3ms/step - loss: 0.4858 - val_loss: 0.4503\n",
      "Epoch 10/20\n",
      "360/363 [============================>.] - ETA: 0s - loss: 0.4724\n",
      "val/train: 0.93\n",
      "363/363 [==============================] - 1s 3ms/step - loss: 0.4713 - val_loss: 0.4407\n",
      "Epoch 11/20\n",
      "354/363 [============================>.] - ETA: 0s - loss: 0.4580\n",
      "val/train: 0.95\n",
      "363/363 [==============================] - 1s 4ms/step - loss: 0.4594 - val_loss: 0.4346\n",
      "Epoch 12/20\n",
      "350/363 [===========================>..] - ETA: 0s - loss: 0.4500\n",
      "val/train: 0.99\n",
      "363/363 [==============================] - 1s 4ms/step - loss: 0.4499 - val_loss: 0.4453\n",
      "Epoch 13/20\n",
      "363/363 [==============================] - ETA: 0s - loss: 0.4416\n",
      "val/train: 1.02\n",
      "363/363 [==============================] - 1s 3ms/step - loss: 0.4416 - val_loss: 0.4507\n",
      "Epoch 14/20\n",
      "363/363 [==============================] - ETA: 0s - loss: 0.4342\n",
      "val/train: 1.02\n",
      "363/363 [==============================] - 1s 3ms/step - loss: 0.4342 - val_loss: 0.4420\n",
      "Epoch 15/20\n",
      "359/363 [============================>.] - ETA: 0s - loss: 0.4286\n",
      "val/train: 1.07\n",
      "363/363 [==============================] - 1s 3ms/step - loss: 0.4279 - val_loss: 0.4573\n",
      "Epoch 16/20\n",
      "348/363 [===========================>..] - ETA: 0s - loss: 0.4226\n",
      "val/train: 1.04\n",
      "363/363 [==============================] - 1s 3ms/step - loss: 0.4227 - val_loss: 0.4389\n",
      "Epoch 17/20\n",
      "355/363 [============================>.] - ETA: 0s - loss: 0.4177\n",
      "val/train: 1.07\n",
      "363/363 [==============================] - 1s 4ms/step - loss: 0.4176 - val_loss: 0.4475\n",
      "Epoch 18/20\n",
      "346/363 [===========================>..] - ETA: 0s - loss: 0.4064\n",
      "val/train: 1.08\n",
      "363/363 [==============================] - 1s 3ms/step - loss: 0.4135 - val_loss: 0.4468\n",
      "Epoch 19/20\n",
      "345/363 [===========================>..] - ETA: 0s - loss: 0.4055\n",
      "val/train: 1.12\n",
      "363/363 [==============================] - 1s 3ms/step - loss: 0.4095 - val_loss: 0.4578\n",
      "Epoch 20/20\n",
      "357/363 [============================>.] - ETA: 0s - loss: 0.4062\n",
      "val/train: 1.13\n",
      "363/363 [==============================] - 1s 3ms/step - loss: 0.4060 - val_loss: 0.4597\n",
      "162/162 [==============================] - 0s 2ms/step - loss: 0.4505\n",
      "363/363 [==============================] - 1s 2ms/step - loss: 0.4540\n"
     ]
    }
   ],
   "source": [
    "keras.backend.clear_session()\n",
    "\n",
    "class PrintValTrainRatioCallback(keras.callbacks.Callback):\n",
    "    def on_epoch_end(self, epoch, logs):\n",
    "        print(\"\\nval/train: {:.2f}\".format(logs[\"val_loss\"] / logs[\"loss\"]))\n",
    "\n",
    "model = keras.models.Sequential([\n",
    "    keras.layers.Dense(30, activation=\"relu\", input_shape=X_train.shape[1:]),\n",
    "    keras.layers.Dense(30, activation=\"relu\"),\n",
    "    keras.layers.Dense(1)\n",
    "])    \n",
    "model.compile(loss=\"mse\", optimizer=keras.optimizers.SGD(learning_rate=1e-3))\n",
    "\n",
    "val_train_ratio_cb = PrintValTrainRatioCallback()\n",
    "checkpoint_cb = keras.callbacks.ModelCheckpoint(\"california_housing_model2.h5\", save_best_only=True)\n",
    "history = model.fit(X_train, y_train, epochs=20,\n",
    "                    validation_data=(X_valid, y_valid),\n",
    "                    callbacks=[val_train_ratio_cb, checkpoint_cb])\n",
    "model = keras.models.load_model(\"california_housing_model.h5\")  #  rollback to best model\n",
    "mse_test = model.evaluate(X_test, y_test)\n",
    "mse_train = model.evaluate(X_train, y_train)"
   ]
  },
  {
   "cell_type": "code",
   "execution_count": 19,
   "metadata": {
    "colab": {
     "base_uri": "https://localhost:8080/"
    },
    "id": "JlEFTHIvJPHy",
    "outputId": "664aa368-2a1f-4c05-8be3-bacb0a2c7505"
   },
   "outputs": [
    {
     "name": "stdout",
     "output_type": "stream",
     "text": [
      "{'verbose': 1, 'epochs': 20, 'steps': 363}\n",
      "[0, 1, 2, 3, 4, 5, 6, 7, 8, 9, 10, 11, 12, 13, 14, 15, 16, 17, 18, 19]\n",
      "dict_keys(['loss', 'val_loss'])\n"
     ]
    }
   ],
   "source": [
    "print(history.params)\n",
    "print(history.epoch)\n",
    "print(history.history.keys())"
   ]
  },
  {
   "cell_type": "markdown",
   "metadata": {
    "id": "kdA4Q2n0cI0V"
   },
   "source": [
    "#### <font color='lightgreen'>**Performance Evaluation**</font>"
   ]
  },
  {
   "cell_type": "code",
   "execution_count": 20,
   "metadata": {
    "colab": {
     "base_uri": "https://localhost:8080/",
     "height": 273
    },
    "id": "VGOwsZjQcBVa",
    "outputId": "4bcec95b-b873-41c6-a514-1e191464f1c9"
   },
   "outputs": [
    {
     "data": {
      "image/png": "[encoded data removed]",
      "text/plain": [
       "<Figure size 432x288 with 1 Axes>"
      ]
     },
     "metadata": {
      "needs_background": "light"
     },
     "output_type": "display_data"
    }
   ],
   "source": [
    "plt.plot(pd.DataFrame(history.history))\n",
    "plt.grid(True)\n",
    "plt.gca().set_ylim(0, 1)\n",
    "plt.show()"
   ]
  },
  {
   "cell_type": "markdown",
   "metadata": {
    "id": "CWfYXGvcc8D2"
   },
   "source": [
    "#### <font color='lightgreen'>**Prediction**</font>"
   ]
  },
  {
   "cell_type": "code",
   "execution_count": 21,
   "metadata": {
    "colab": {
     "base_uri": "https://localhost:8080/"
    },
    "id": "6jOKFUecc1wf",
    "outputId": "8fd4aa33-c456-46dc-f709-38a854790f7a"
   },
   "outputs": [
    {
     "data": {
      "text/plain": [
       "array([[0.7490798],\n",
       "       [1.4009745],\n",
       "       [3.2893457]], dtype=float32)"
      ]
     },
     "execution_count": 21,
     "metadata": {},
     "output_type": "execute_result"
    }
   ],
   "source": [
    "X_new = X_test[:3]\n",
    "y_pred = model.predict(X_new)\n",
    "y_pred[:3]"
   ]
  },
  {
   "cell_type": "code",
   "execution_count": 23,
   "metadata": {
    "colab": {
     "base_uri": "https://localhost:8080/"
    },
    "id": "y2i-JrMzdDPY",
    "outputId": "c422bfc0-d224-452e-fab5-46a5916f5391"
   },
   "outputs": [
    {
     "data": {
      "text/plain": [
       "array([0.477  , 0.458  , 5.00001])"
      ]
     },
     "execution_count": 23,
     "metadata": {},
     "output_type": "execute_result"
    }
   ],
   "source": [
    "y_test[:3]"
   ]
  },
  {
   "cell_type": "code",
   "execution_count": 34,
   "metadata": {
    "colab": {
     "base_uri": "https://localhost:8080/",
     "height": 206
    },
    "id": "woAMc1NrtPhj",
    "outputId": "92c0d3a7-30c9-4794-c69e-e84feca6c664"
   },
   "outputs": [
    {
     "data": {
      "text/html": [
       "\n",
       "  <div id=\"df-91c59f91-b279-4f25-9983-b1fa231bcc4d\">\n",
       "    <div class=\"colab-df-container\">\n",
       "      <div>\n",
       "<style scoped>\n",
       "    .dataframe tbody tr th:only-of-type {\n",
       "        vertical-align: middle;\n",
       "    }\n",
       "\n",
       "    .dataframe tbody tr th {\n",
       "        vertical-align: top;\n",
       "    }\n",
       "\n",
       "    .dataframe thead th {\n",
       "        text-align: right;\n",
       "    }\n",
       "</style>\n",
       "<table border=\"1\" class=\"dataframe\">\n",
       "  <thead>\n",
       "    <tr style=\"text-align: right;\">\n",
       "      <th></th>\n",
       "      <th>Test Y</th>\n",
       "      <th>Model Prediction</th>\n",
       "      <th>Error</th>\n",
       "    </tr>\n",
       "  </thead>\n",
       "  <tbody>\n",
       "    <tr>\n",
       "      <th>0</th>\n",
       "      <td>0.47700</td>\n",
       "      <td>0.749080</td>\n",
       "      <td>-0.272080</td>\n",
       "    </tr>\n",
       "    <tr>\n",
       "      <th>1</th>\n",
       "      <td>0.45800</td>\n",
       "      <td>1.400974</td>\n",
       "      <td>-0.942974</td>\n",
       "    </tr>\n",
       "    <tr>\n",
       "      <th>2</th>\n",
       "      <td>5.00001</td>\n",
       "      <td>3.289346</td>\n",
       "      <td>1.710664</td>\n",
       "    </tr>\n",
       "    <tr>\n",
       "      <th>3</th>\n",
       "      <td>2.18600</td>\n",
       "      <td>2.478483</td>\n",
       "      <td>-0.292483</td>\n",
       "    </tr>\n",
       "    <tr>\n",
       "      <th>4</th>\n",
       "      <td>2.78000</td>\n",
       "      <td>2.458034</td>\n",
       "      <td>0.321966</td>\n",
       "    </tr>\n",
       "  </tbody>\n",
       "</table>\n",
       "</div>\n",
       "      <button class=\"colab-df-convert\" onclick=\"convertToInteractive('df-91c59f91-b279-4f25-9983-b1fa231bcc4d')\"\n",
       "              title=\"Convert this dataframe to an interactive table.\"\n",
       "              style=\"display:none;\">\n",
       "        \n",
       "  <svg xmlns=\"http://www.w3.org/2000/svg\" height=\"24px\"viewBox=\"0 0 24 24\"\n",
       "       width=\"24px\">\n",
       "    <path d=\"M0 0h24v24H0V0z\" fill=\"none\"/>\n",
       "    <path d=\"M18.56 5.44l.94 2.06.94-2.06 2.06-.94-2.06-.94-.94-2.06-.94 2.06-2.06.94zm-11 1L8.5 8.5l.94-2.06 2.06-.94-2.06-.94L8.5 2.5l-.94 2.06-2.06.94zm10 10l.94 2.06.94-2.06 2.06-.94-2.06-.94-.94-2.06-.94 2.06-2.06.94z\"/><path d=\"M17.41 7.96l-1.37-1.37c-.4-.4-.92-.59-1.43-.59-.52 0-1.04.2-1.43.59L10.3 9.45l-7.72 7.72c-.78.78-.78 2.05 0 2.83L4 21.41c.39.39.9.59 1.41.59.51 0 1.02-.2 1.41-.59l7.78-7.78 2.81-2.81c.8-.78.8-2.07 0-2.86zM5.41 20L4 18.59l7.72-7.72 1.47 1.35L5.41 20z\"/>\n",
       "  </svg>\n",
       "      </button>\n",
       "      \n",
       "  <style>\n",
       "    .colab-df-container {\n",
       "      display:flex;\n",
       "      flex-wrap:wrap;\n",
       "      gap: 12px;\n",
       "    }\n",
       "\n",
       "    .colab-df-convert {\n",
       "      background-color: #E8F0FE;\n",
       "      border: none;\n",
       "      border-radius: 50%;\n",
       "      cursor: pointer;\n",
       "      display: none;\n",
       "      fill: #1967D2;\n",
       "      height: 32px;\n",
       "      padding: 0 0 0 0;\n",
       "      width: 32px;\n",
       "    }\n",
       "\n",
       "    .colab-df-convert:hover {\n",
       "      background-color: #E2EBFA;\n",
       "      box-shadow: 0px 1px 2px rgba(60, 64, 67, 0.3), 0px 1px 3px 1px rgba(60, 64, 67, 0.15);\n",
       "      fill: #174EA6;\n",
       "    }\n",
       "\n",
       "    [theme=dark] .colab-df-convert {\n",
       "      background-color: #3B4455;\n",
       "      fill: #D2E3FC;\n",
       "    }\n",
       "\n",
       "    [theme=dark] .colab-df-convert:hover {\n",
       "      background-color: #434B5C;\n",
       "      box-shadow: 0px 1px 3px 1px rgba(0, 0, 0, 0.15);\n",
       "      filter: drop-shadow(0px 1px 2px rgba(0, 0, 0, 0.3));\n",
       "      fill: #FFFFFF;\n",
       "    }\n",
       "  </style>\n",
       "\n",
       "      <script>\n",
       "        const buttonEl =\n",
       "          document.querySelector('#df-91c59f91-b279-4f25-9983-b1fa231bcc4d button.colab-df-convert');\n",
       "        buttonEl.style.display =\n",
       "          google.colab.kernel.accessAllowed ? 'block' : 'none';\n",
       "\n",
       "        async function convertToInteractive(key) {\n",
       "          const element = document.querySelector('#df-91c59f91-b279-4f25-9983-b1fa231bcc4d');\n",
       "          const dataTable =\n",
       "            await google.colab.kernel.invokeFunction('convertToInteractive',\n",
       "                                                     [key], {});\n",
       "          if (!dataTable) return;\n",
       "\n",
       "          const docLinkHtml = 'Like what you see? Visit the ' +\n",
       "            '<a target=\"_blank\" href=https://colab.research.google.com/notebooks/data_table.ipynb>data table notebook</a>'\n",
       "            + ' to learn more about interactive tables.';\n",
       "          element.innerHTML = '';\n",
       "          dataTable['output_type'] = 'display_data';\n",
       "          await google.colab.output.renderOutput(dataTable, element);\n",
       "          const docLink = document.createElement('div');\n",
       "          docLink.innerHTML = docLinkHtml;\n",
       "          element.appendChild(docLink);\n",
       "        }\n",
       "      </script>\n",
       "    </div>\n",
       "  </div>\n",
       "  "
      ],
      "text/plain": [
       "    Test Y  Model Prediction     Error\n",
       "0  0.47700          0.749080 -0.272080\n",
       "1  0.45800          1.400974 -0.942974\n",
       "2  5.00001          3.289346  1.710664\n",
       "3  2.18600          2.478483 -0.292483\n",
       "4  2.78000          2.458034  0.321966"
      ]
     },
     "execution_count": 34,
     "metadata": {},
     "output_type": "execute_result"
    }
   ],
   "source": [
    "# Prediction\n",
    "test_predictions = model.predict(X_test)\n",
    "\n",
    "# Calculate error\n",
    "pred_df = pd.DataFrame(y_test, columns=['Test Y'])\n",
    "pred_df['Model Prediction'] = test_predictions\n",
    "pred_df['Error'] = pred_df['Test Y'] - pred_df['Model Prediction']\n",
    "pred_df.head()"
   ]
  },
  {
   "cell_type": "markdown",
   "metadata": {
    "id": "cxM7zF5vPUM_"
   },
   "source": [
    "#### <font color='lightgreen'>**Model Evaluation**</font>"
   ]
  },
  {
   "cell_type": "code",
   "execution_count": 35,
   "metadata": {
    "colab": {
     "base_uri": "https://localhost:8080/"
    },
    "id": "qJL6Fzu2cTqH",
    "outputId": "158aee8f-1390-47a5-ad80-c706127d594e"
   },
   "outputs": [
    {
     "name": "stdout",
     "output_type": "stream",
     "text": [
      "162/162 [==============================] - 0s 2ms/step - loss: 0.4505\n"
     ]
    },
    {
     "data": {
      "text/plain": [
       "0.45050787925720215"
      ]
     },
     "execution_count": 35,
     "metadata": {},
     "output_type": "execute_result"
    }
   ],
   "source": [
    "mse_test = model.evaluate(X_test, y_test)\n",
    "mse_test"
   ]
  },
  {
   "cell_type": "code",
   "execution_count": 36,
   "metadata": {
    "colab": {
     "base_uri": "https://localhost:8080/"
    },
    "id": "wC61NxTaJze6",
    "outputId": "01a5b4fd-83db-49f2-b4ed-4e89f539f6a0"
   },
   "outputs": [
    {
     "name": "stdout",
     "output_type": "stream",
     "text": [
      "0.45395687222480774 0.45050787925720215\n",
      "RMSE: 0.671\n",
      "MSE: 0.451\n",
      "MAE: 0.484\n",
      "r2: 0.660\n"
     ]
    }
   ],
   "source": [
    "from sklearn.metrics import mean_absolute_error, mean_squared_error, explained_variance_score\n",
    "\n",
    "# Train score, test score\n",
    "training_score = model.evaluate(X_train, y_train, verbose=0)\n",
    "test_score = model.evaluate(X_test, y_test, verbose=0)\n",
    "print(training_score, test_score)\n",
    "\n",
    "# Root Mean Square Error\n",
    "rmse = np.sqrt(mean_squared_error(y_test, test_predictions))\n",
    "print(\"RMSE: %.3f\" % rmse)\n",
    "\n",
    "# Mean Square Error\n",
    "mse = mean_squared_error(y_test, test_predictions)\n",
    "print(\"MSE: %.3f\" % mse)\n",
    "\n",
    "# Mean Absolute Error\n",
    "mae = mean_absolute_error(y_test, test_predictions)\n",
    "print(\"MAE: %.3f\"  % mae)\n",
    "      \n",
    "# r2 - coefficient of determination\n",
    "r2 = explained_variance_score(y_test, test_predictions)\n",
    "print(\"r2: %.3f\" %r2)"
   ]
  },
  {
   "cell_type": "markdown",
   "metadata": {
    "id": "rzKHfJh0fUTz"
   },
   "source": [
    "#### <font color='lightgreen'>**Saving and Restoring**</font>"
   ]
  },
  {
   "cell_type": "code",
   "execution_count": 37,
   "metadata": {
    "colab": {
     "base_uri": "https://localhost:8080/"
    },
    "id": "rmfeUJa5dF5f",
    "outputId": "4be48a96-245d-4458-c228-e63d5bc82677"
   },
   "outputs": [
    {
     "data": {
      "text/plain": [
       "array([[0.7490798],\n",
       "       [1.4009745],\n",
       "       [3.2893457]], dtype=float32)"
      ]
     },
     "execution_count": 37,
     "metadata": {},
     "output_type": "execute_result"
    }
   ],
   "source": [
    "model.save(\"california_housing_model1.h5\")\n",
    "model = keras.models.load_model(\"california_housing_model1.h5\")\n",
    "model.predict(X_new)"
   ]
  },
  {
   "cell_type": "code",
   "execution_count": 38,
   "metadata": {
    "colab": {
     "base_uri": "https://localhost:8080/"
    },
    "id": "gjsuBbExfmqF",
    "outputId": "652c74b0-fbab-4d87-e286-7f9d80697917"
   },
   "outputs": [
    {
     "data": {
      "text/plain": [
       "<tensorflow.python.training.tracking.util.CheckpointLoadStatus at 0x7efdf0dcec10>"
      ]
     },
     "execution_count": 38,
     "metadata": {},
     "output_type": "execute_result"
    }
   ],
   "source": [
    "model.save_weights(\"my_keras_weights.ckpt\")\n",
    "model.load_weights(\"my_keras_weights.ckpt\")"
   ]
  },
  {
   "cell_type": "markdown",
   "metadata": {
    "id": "x4CshJNAgVB5"
   },
   "source": [
    "#### <font color='lightgreen'>**Hyperparameter Tuning & Early Stopping**</font>"
   ]
  },
  {
   "cell_type": "code",
   "execution_count": 42,
   "metadata": {
    "id": "oLnhpH6mQesR"
   },
   "outputs": [],
   "source": [
    "keras.backend.clear_session()\n",
    "\n",
    "def build_model(n_hidden=1, n_neurons=30, learning_rate=3e-3, input_shape=[8]):\n",
    "  model =  keras.models.Sequential()\n",
    "  model.add(keras.layers.InputLayer(input_shape=input_shape))\n",
    "  for layer in range(n_hidden):\n",
    "    model.add(keras.layers.Dense(n_neurons, activation=\"relu\"))\n",
    "  model.add(keras.layers.Dense(1))\n",
    "  optimizer = keras.optimizers.SGD(learning_rate=learning_rate)\n",
    "  model.compile(loss=\"mse\", optimizer=optimizer)\n",
    "\n",
    "  return model"
   ]
  },
  {
   "cell_type": "code",
   "execution_count": 43,
   "metadata": {
    "colab": {
     "base_uri": "https://localhost:8080/"
    },
    "id": "s6nQ3FyfRsHe",
    "outputId": "4f8e2262-4ada-4136-9737-1e1f558852f8"
   },
   "outputs": [
    {
     "name": "stdout",
     "output_type": "stream",
     "text": [
      "Epoch 1/20\n"
     ]
    },
    {
     "name": "stderr",
     "output_type": "stream",
     "text": [
      "/usr/local/lib/python3.7/dist-packages/ipykernel_launcher.py:1: DeprecationWarning: KerasRegressor is deprecated, use Sci-Keras (https://github.com/adriangb/scikeras) instead. See https://www.adriangb.com/scikeras/stable/migration.html for help migrating.\n",
      "  \"\"\"Entry point for launching an IPython kernel.\n"
     ]
    },
    {
     "name": "stdout",
     "output_type": "stream",
     "text": [
      "363/363 [==============================] - 2s 4ms/step - loss: 1.2788 - val_loss: 7.3033\n",
      "Epoch 2/20\n",
      "363/363 [==============================] - 1s 3ms/step - loss: 0.6827 - val_loss: 2.7593\n",
      "Epoch 3/20\n",
      "363/363 [==============================] - 1s 3ms/step - loss: 0.5551 - val_loss: 0.7306\n",
      "Epoch 4/20\n",
      "363/363 [==============================] - 1s 3ms/step - loss: 0.5043 - val_loss: 0.5308\n",
      "Epoch 5/20\n",
      "363/363 [==============================] - 1s 3ms/step - loss: 0.4746 - val_loss: 0.4390\n",
      "Epoch 6/20\n",
      "363/363 [==============================] - 1s 3ms/step - loss: 0.4558 - val_loss: 0.4683\n",
      "Epoch 7/20\n",
      "363/363 [==============================] - 1s 3ms/step - loss: 0.4439 - val_loss: 0.4125\n",
      "Epoch 8/20\n",
      "363/363 [==============================] - 1s 3ms/step - loss: 0.4344 - val_loss: 0.4801\n",
      "Epoch 9/20\n",
      "363/363 [==============================] - 1s 3ms/step - loss: 0.4264 - val_loss: 0.3967\n",
      "Epoch 10/20\n",
      "363/363 [==============================] - 1s 3ms/step - loss: 0.4190 - val_loss: 0.4928\n",
      "Epoch 11/20\n",
      "363/363 [==============================] - 1s 3ms/step - loss: 0.4149 - val_loss: 0.4003\n",
      "Epoch 12/20\n",
      "363/363 [==============================] - 1s 3ms/step - loss: 0.4095 - val_loss: 0.3958\n",
      "Epoch 13/20\n",
      "363/363 [==============================] - 1s 4ms/step - loss: 0.4070 - val_loss: 0.4536\n",
      "Epoch 14/20\n",
      "363/363 [==============================] - 1s 4ms/step - loss: 0.4027 - val_loss: 0.4070\n",
      "Epoch 15/20\n",
      "363/363 [==============================] - 1s 4ms/step - loss: 0.3995 - val_loss: 0.3776\n",
      "Epoch 16/20\n",
      "363/363 [==============================] - 1s 3ms/step - loss: 0.3972 - val_loss: 0.5086\n",
      "Epoch 17/20\n",
      "363/363 [==============================] - 1s 3ms/step - loss: 0.3951 - val_loss: 0.3763\n",
      "Epoch 18/20\n",
      "363/363 [==============================] - 1s 3ms/step - loss: 0.3917 - val_loss: 0.3797\n",
      "Epoch 19/20\n",
      "363/363 [==============================] - 1s 3ms/step - loss: 0.3902 - val_loss: 0.3693\n",
      "Epoch 20/20\n",
      "363/363 [==============================] - 1s 3ms/step - loss: 0.3892 - val_loss: 0.4531\n"
     ]
    },
    {
     "data": {
      "text/plain": [
       "<keras.callbacks.History at 0x7efdf08cced0>"
      ]
     },
     "execution_count": 43,
     "metadata": {},
     "output_type": "execute_result"
    }
   ],
   "source": [
    "keras_reg = keras.wrappers.scikit_learn.KerasRegressor(build_model)\n",
    "early_stop = keras.callbacks.EarlyStopping(monitor='val_loss', mode='min', verbose=1, patience=10)\n",
    "keras_reg.fit(X_train, y_train, epochs=20,\n",
    "              validation_data=(X_valid, y_valid),\n",
    "              callbacks=[early_stop])"
   ]
  },
  {
   "cell_type": "code",
   "execution_count": 44,
   "metadata": {
    "colab": {
     "base_uri": "https://localhost:8080/"
    },
    "id": "4EyFAq47jpTe",
    "outputId": "a01457dd-15ad-431e-b382-aacc74e47a62"
   },
   "outputs": [
    {
     "name": "stdout",
     "output_type": "stream",
     "text": [
      "162/162 [==============================] - 0s 2ms/step - loss: 0.3872\n"
     ]
    }
   ],
   "source": [
    "mse_test = keras_reg.score(X_test, y_test)"
   ]
  },
  {
   "cell_type": "markdown",
   "metadata": {
    "id": "FosyV9ZDSnM8"
   },
   "source": [
    "#### <font color='lightgreen'>**RandomizedSearchCV**</font>"
   ]
  },
  {
   "cell_type": "code",
   "execution_count": 45,
   "metadata": {
    "colab": {
     "base_uri": "https://localhost:8080/"
    },
    "id": "WdD4ppCjqHQ8",
    "outputId": "487b569a-b2c9-41f1-f5be-cd1e05a45e30"
   },
   "outputs": [
    {
     "name": "stdout",
     "output_type": "stream",
     "text": [
      "Fitting 3 folds for each of 10 candidates, totalling 30 fits\n",
      "Epoch 1/10\n",
      "242/242 [==============================] - 1s 4ms/step - loss: 0.6975 - val_loss: 0.4435\n",
      "Epoch 2/10\n",
      "242/242 [==============================] - 1s 4ms/step - loss: 0.4414 - val_loss: 0.5119\n",
      "Epoch 3/10\n",
      "242/242 [==============================] - 1s 4ms/step - loss: 0.4004 - val_loss: 0.3816\n",
      "Epoch 4/10\n",
      "242/242 [==============================] - 1s 4ms/step - loss: 0.3776 - val_loss: 1.1420\n",
      "Epoch 5/10\n",
      "242/242 [==============================] - 1s 4ms/step - loss: 0.3770 - val_loss: 0.4037\n",
      "Epoch 6/10\n",
      "242/242 [==============================] - 1s 4ms/step - loss: 0.3597 - val_loss: 0.3610\n",
      "Epoch 7/10\n",
      "242/242 [==============================] - 1s 4ms/step - loss: 0.3504 - val_loss: 0.8322\n",
      "Epoch 8/10\n",
      "242/242 [==============================] - 1s 4ms/step - loss: 0.3498 - val_loss: 0.8170\n",
      "Epoch 9/10\n",
      "242/242 [==============================] - 1s 4ms/step - loss: 0.3499 - val_loss: 0.6382\n",
      "Epoch 10/10\n",
      "242/242 [==============================] - 1s 4ms/step - loss: 0.3355 - val_loss: 0.3170\n",
      "121/121 [==============================] - 0s 2ms/step - loss: 0.3476\n",
      "[CV] END learning_rate=0.022427493184466196, n_hidden=3, n_neurons=20; total time=   9.9s\n",
      "Epoch 1/10\n",
      "242/242 [==============================] - 1s 4ms/step - loss: 0.6595 - val_loss: 0.4343\n",
      "Epoch 2/10\n",
      "242/242 [==============================] - 1s 4ms/step - loss: 0.4297 - val_loss: 0.5413\n",
      "Epoch 3/10\n",
      "242/242 [==============================] - 1s 4ms/step - loss: 0.3969 - val_loss: 0.4488\n",
      "Epoch 4/10\n",
      "242/242 [==============================] - 1s 4ms/step - loss: 0.3850 - val_loss: 0.5521\n",
      "Epoch 5/10\n",
      "242/242 [==============================] - 1s 4ms/step - loss: 0.3751 - val_loss: 0.3620\n",
      "Epoch 6/10\n",
      "242/242 [==============================] - 1s 4ms/step - loss: 0.3715 - val_loss: 0.3588\n",
      "Epoch 7/10\n",
      "242/242 [==============================] - 1s 4ms/step - loss: 0.3619 - val_loss: 0.6724\n",
      "Epoch 8/10\n",
      "242/242 [==============================] - 1s 4ms/step - loss: 0.3630 - val_loss: 0.3502\n",
      "Epoch 9/10\n",
      "242/242 [==============================] - 1s 4ms/step - loss: 0.3573 - val_loss: 0.3515\n",
      "Epoch 10/10\n",
      "242/242 [==============================] - 1s 4ms/step - loss: 0.3540 - val_loss: 0.3558\n",
      "121/121 [==============================] - 0s 2ms/step - loss: 0.3554\n",
      "[CV] END learning_rate=0.022427493184466196, n_hidden=3, n_neurons=20; total time=   9.8s\n",
      "Epoch 1/10\n",
      "242/242 [==============================] - 1s 4ms/step - loss: 0.7109 - val_loss: 32.0633\n",
      "Epoch 2/10\n",
      "242/242 [==============================] - 1s 4ms/step - loss: 0.4341 - val_loss: 0.7868\n",
      "Epoch 3/10\n",
      "242/242 [==============================] - 1s 4ms/step - loss: 0.3890 - val_loss: 0.3723\n",
      "Epoch 4/10\n",
      "242/242 [==============================] - 1s 4ms/step - loss: 0.3738 - val_loss: 0.3855\n",
      "Epoch 5/10\n",
      "242/242 [==============================] - 1s 4ms/step - loss: 0.3680 - val_loss: 0.3444\n",
      "Epoch 6/10\n",
      "242/242 [==============================] - 1s 5ms/step - loss: 0.3639 - val_loss: 0.3723\n",
      "Epoch 7/10\n",
      "242/242 [==============================] - 1s 4ms/step - loss: 0.3568 - val_loss: 0.3856\n",
      "Epoch 8/10\n",
      "242/242 [==============================] - 1s 4ms/step - loss: 0.3551 - val_loss: 0.3366\n",
      "Epoch 9/10\n",
      "242/242 [==============================] - 1s 4ms/step - loss: 0.3483 - val_loss: 0.3604\n",
      "Epoch 10/10\n",
      "242/242 [==============================] - 1s 4ms/step - loss: 0.3446 - val_loss: 0.3159\n",
      "121/121 [==============================] - 0s 2ms/step - loss: 0.3281\n",
      "[CV] END learning_rate=0.022427493184466196, n_hidden=3, n_neurons=20; total time=  10.1s\n",
      "Epoch 1/10\n",
      "242/242 [==============================] - 1s 4ms/step - loss: 0.9984 - val_loss: 5.9656\n",
      "Epoch 2/10\n",
      "242/242 [==============================] - 1s 4ms/step - loss: 0.5842 - val_loss: 21.7219\n",
      "Epoch 3/10\n",
      "242/242 [==============================] - 1s 4ms/step - loss: 0.6560 - val_loss: 0.4510\n",
      "Epoch 4/10\n",
      "242/242 [==============================] - 1s 4ms/step - loss: 0.3994 - val_loss: 1.6347\n",
      "Epoch 5/10\n",
      "242/242 [==============================] - 1s 4ms/step - loss: 0.3946 - val_loss: 0.3648\n",
      "Epoch 6/10\n",
      "242/242 [==============================] - 1s 4ms/step - loss: 0.3743 - val_loss: 0.3597\n",
      "Epoch 7/10\n",
      "242/242 [==============================] - 1s 4ms/step - loss: 0.3692 - val_loss: 0.3513\n",
      "Epoch 8/10\n",
      "242/242 [==============================] - 1s 4ms/step - loss: 0.3614 - val_loss: 0.3512\n",
      "Epoch 9/10\n",
      "242/242 [==============================] - 1s 4ms/step - loss: 0.3575 - val_loss: 0.3509\n",
      "Epoch 10/10\n",
      "242/242 [==============================] - 1s 4ms/step - loss: 0.3525 - val_loss: 0.3513\n",
      "121/121 [==============================] - 0s 2ms/step - loss: 0.3660\n",
      "[CV] END learning_rate=0.008731907739399206, n_hidden=3, n_neurons=21; total time=   9.8s\n",
      "Epoch 1/10\n",
      "242/242 [==============================] - 1s 4ms/step - loss: 0.8868 - val_loss: 1.0705\n",
      "Epoch 2/10\n",
      "242/242 [==============================] - 1s 4ms/step - loss: 0.4607 - val_loss: 0.3870\n",
      "Epoch 3/10\n",
      "242/242 [==============================] - 1s 4ms/step - loss: 0.4027 - val_loss: 0.3769\n",
      "Epoch 4/10\n",
      "242/242 [==============================] - 1s 4ms/step - loss: 0.3838 - val_loss: 0.4068\n",
      "Epoch 5/10\n",
      "242/242 [==============================] - 1s 4ms/step - loss: 0.3754 - val_loss: 0.4125\n",
      "Epoch 6/10\n",
      "242/242 [==============================] - 1s 4ms/step - loss: 0.3653 - val_loss: 0.4054\n",
      "Epoch 7/10\n",
      "242/242 [==============================] - 1s 4ms/step - loss: 0.3628 - val_loss: 0.3939\n",
      "Epoch 8/10\n",
      "242/242 [==============================] - 1s 4ms/step - loss: 0.3569 - val_loss: 0.4306\n",
      "Epoch 9/10\n",
      "242/242 [==============================] - 1s 4ms/step - loss: 0.3558 - val_loss: 0.3932\n",
      "Epoch 10/10\n",
      "242/242 [==============================] - 1s 4ms/step - loss: 0.3498 - val_loss: 0.4561\n",
      "121/121 [==============================] - 0s 2ms/step - loss: 0.3593\n",
      "[CV] END learning_rate=0.008731907739399206, n_hidden=3, n_neurons=21; total time=   9.8s\n",
      "Epoch 1/10\n",
      "242/242 [==============================] - 1s 4ms/step - loss: 1.0091 - val_loss: 0.6459\n",
      "Epoch 2/10\n",
      "242/242 [==============================] - 1s 4ms/step - loss: 0.4897 - val_loss: 0.4360\n",
      "Epoch 3/10\n",
      "242/242 [==============================] - 1s 4ms/step - loss: 0.4253 - val_loss: 0.3802\n",
      "Epoch 4/10\n",
      "242/242 [==============================] - 1s 4ms/step - loss: 0.4020 - val_loss: 0.3629\n",
      "Epoch 5/10\n",
      "242/242 [==============================] - 1s 4ms/step - loss: 0.3891 - val_loss: 0.3605\n",
      "Epoch 6/10\n",
      "242/242 [==============================] - 1s 4ms/step - loss: 0.3842 - val_loss: 0.3595\n",
      "Epoch 7/10\n",
      "242/242 [==============================] - 1s 4ms/step - loss: 0.3781 - val_loss: 0.3556\n",
      "Epoch 8/10\n",
      "242/242 [==============================] - 1s 4ms/step - loss: 0.3733 - val_loss: 0.3579\n",
      "Epoch 9/10\n",
      "242/242 [==============================] - 1s 4ms/step - loss: 0.3710 - val_loss: 0.3547\n",
      "Epoch 10/10\n",
      "242/242 [==============================] - 1s 4ms/step - loss: 0.3654 - val_loss: 0.3546\n",
      "121/121 [==============================] - 0s 2ms/step - loss: 0.3522\n",
      "[CV] END learning_rate=0.008731907739399206, n_hidden=3, n_neurons=21; total time=  11.0s\n",
      "Epoch 1/10\n",
      "242/242 [==============================] - 1s 4ms/step - loss: 3.4479 - val_loss: 10.6297\n",
      "Epoch 2/10\n",
      "242/242 [==============================] - 1s 4ms/step - loss: 2.0115 - val_loss: 7.3848\n",
      "Epoch 3/10\n",
      "242/242 [==============================] - 1s 4ms/step - loss: 1.4671 - val_loss: 4.9355\n",
      "Epoch 4/10\n",
      "242/242 [==============================] - 1s 3ms/step - loss: 1.1976 - val_loss: 3.4096\n",
      "Epoch 5/10\n",
      "242/242 [==============================] - 1s 4ms/step - loss: 1.0394 - val_loss: 1.9440\n",
      "Epoch 6/10\n",
      "242/242 [==============================] - 1s 4ms/step - loss: 0.9285 - val_loss: 1.3049\n",
      "Epoch 7/10\n",
      "242/242 [==============================] - 1s 4ms/step - loss: 0.8544 - val_loss: 0.9583\n",
      "Epoch 8/10\n",
      "242/242 [==============================] - 1s 4ms/step - loss: 0.8038 - val_loss: 0.7851\n",
      "Epoch 9/10\n",
      "242/242 [==============================] - 1s 4ms/step - loss: 0.7676 - val_loss: 0.7195\n",
      "Epoch 10/10\n",
      "242/242 [==============================] - 1s 4ms/step - loss: 0.7405 - val_loss: 0.6869\n",
      "121/121 [==============================] - 0s 2ms/step - loss: 0.7221\n",
      "[CV] END learning_rate=0.00036189189723541794, n_hidden=2, n_neurons=21; total time=  11.0s\n",
      "Epoch 1/10\n",
      "242/242 [==============================] - 1s 4ms/step - loss: 5.2713 - val_loss: 3.5311\n",
      "Epoch 2/10\n",
      "242/242 [==============================] - 1s 4ms/step - loss: 2.7470 - val_loss: 4.1826\n",
      "Epoch 3/10\n",
      "242/242 [==============================] - 1s 4ms/step - loss: 1.6489 - val_loss: 7.4650\n",
      "Epoch 4/10\n",
      "242/242 [==============================] - 1s 4ms/step - loss: 1.2468 - val_loss: 8.0127\n",
      "Epoch 5/10\n",
      "242/242 [==============================] - 1s 4ms/step - loss: 1.0660 - val_loss: 6.8812\n",
      "Epoch 6/10\n",
      "242/242 [==============================] - 1s 3ms/step - loss: 0.9546 - val_loss: 5.3777\n",
      "Epoch 7/10\n",
      "242/242 [==============================] - 1s 4ms/step - loss: 0.8792 - val_loss: 4.0212\n",
      "Epoch 8/10\n",
      "242/242 [==============================] - 1s 4ms/step - loss: 0.8264 - val_loss: 2.8909\n",
      "Epoch 9/10\n",
      "242/242 [==============================] - 1s 3ms/step - loss: 0.7883 - val_loss: 2.0393\n",
      "Epoch 10/10\n",
      "242/242 [==============================] - 1s 4ms/step - loss: 0.7597 - val_loss: 1.4180\n",
      "121/121 [==============================] - 0s 2ms/step - loss: 0.7676\n",
      "[CV] END learning_rate=0.00036189189723541794, n_hidden=2, n_neurons=21; total time=   9.7s\n",
      "Epoch 1/10\n",
      "242/242 [==============================] - 1s 4ms/step - loss: 4.1912 - val_loss: 3.6923\n",
      "Epoch 2/10\n",
      "242/242 [==============================] - 1s 4ms/step - loss: 1.9899 - val_loss: 4.7121\n",
      "Epoch 3/10\n",
      "242/242 [==============================] - 1s 4ms/step - loss: 1.3400 - val_loss: 3.6463\n",
      "Epoch 4/10\n",
      "242/242 [==============================] - 1s 4ms/step - loss: 1.0743 - val_loss: 2.4298\n",
      "Epoch 5/10\n",
      "242/242 [==============================] - 1s 4ms/step - loss: 0.9319 - val_loss: 1.6492\n",
      "Epoch 6/10\n",
      "242/242 [==============================] - 1s 4ms/step - loss: 0.8450 - val_loss: 1.1496\n",
      "Epoch 7/10\n",
      "242/242 [==============================] - 1s 4ms/step - loss: 0.7899 - val_loss: 0.8952\n",
      "Epoch 8/10\n",
      "242/242 [==============================] - 1s 4ms/step - loss: 0.7524 - val_loss: 0.7670\n",
      "Epoch 9/10\n",
      "242/242 [==============================] - 1s 3ms/step - loss: 0.7250 - val_loss: 0.6974\n",
      "Epoch 10/10\n",
      "242/242 [==============================] - 1s 4ms/step - loss: 0.7034 - val_loss: 0.6645\n",
      "121/121 [==============================] - 0s 2ms/step - loss: 0.7107\n",
      "[CV] END learning_rate=0.00036189189723541794, n_hidden=2, n_neurons=21; total time=   9.6s\n",
      "Epoch 1/10\n",
      "242/242 [==============================] - 1s 4ms/step - loss: 1.8685 - val_loss: 0.8590\n",
      "Epoch 2/10\n",
      "242/242 [==============================] - 1s 4ms/step - loss: 0.7613 - val_loss: 0.6668\n",
      "Epoch 3/10\n",
      "242/242 [==============================] - 1s 4ms/step - loss: 0.6388 - val_loss: 0.5684\n",
      "Epoch 4/10\n",
      "242/242 [==============================] - 1s 4ms/step - loss: 0.5793 - val_loss: 0.5526\n",
      "Epoch 5/10\n",
      "242/242 [==============================] - 1s 4ms/step - loss: 0.5368 - val_loss: 0.5009\n",
      "Epoch 6/10\n",
      "242/242 [==============================] - 1s 4ms/step - loss: 0.5030 - val_loss: 0.4622\n",
      "Epoch 7/10\n",
      "242/242 [==============================] - 1s 4ms/step - loss: 0.4760 - val_loss: 0.4582\n",
      "Epoch 8/10\n",
      "242/242 [==============================] - 1s 4ms/step - loss: 0.4548 - val_loss: 0.4523\n",
      "Epoch 9/10\n",
      "242/242 [==============================] - 1s 4ms/step - loss: 0.4389 - val_loss: 0.4361\n",
      "Epoch 10/10\n",
      "242/242 [==============================] - 1s 4ms/step - loss: 0.4249 - val_loss: 0.4516\n",
      "121/121 [==============================] - 0s 2ms/step - loss: 0.4469\n",
      "[CV] END learning_rate=0.0022354981406786253, n_hidden=3, n_neurons=21; total time=   9.9s\n",
      "Epoch 1/10\n",
      "242/242 [==============================] - 1s 4ms/step - loss: 2.0404 - val_loss: 2.1980\n",
      "Epoch 2/10\n",
      "242/242 [==============================] - 1s 4ms/step - loss: 0.7347 - val_loss: 1.2019\n",
      "Epoch 3/10\n",
      "242/242 [==============================] - 1s 4ms/step - loss: 0.6433 - val_loss: 0.8899\n",
      "Epoch 4/10\n",
      "242/242 [==============================] - 1s 4ms/step - loss: 0.5948 - val_loss: 0.7198\n",
      "Epoch 5/10\n",
      "242/242 [==============================] - 1s 4ms/step - loss: 0.5555 - val_loss: 0.6240\n",
      "Epoch 6/10\n",
      "242/242 [==============================] - 1s 4ms/step - loss: 0.5220 - val_loss: 0.5625\n",
      "Epoch 7/10\n",
      "242/242 [==============================] - 1s 4ms/step - loss: 0.4947 - val_loss: 0.5414\n",
      "Epoch 8/10\n",
      "242/242 [==============================] - 1s 4ms/step - loss: 0.4736 - val_loss: 0.5042\n",
      "Epoch 9/10\n",
      "242/242 [==============================] - 1s 4ms/step - loss: 0.4555 - val_loss: 0.4795\n",
      "Epoch 10/10\n",
      "242/242 [==============================] - 1s 4ms/step - loss: 0.4423 - val_loss: 0.4986\n",
      "121/121 [==============================] - 0s 2ms/step - loss: 0.4512\n",
      "[CV] END learning_rate=0.0022354981406786253, n_hidden=3, n_neurons=21; total time=   9.8s\n",
      "Epoch 1/10\n",
      "242/242 [==============================] - 1s 4ms/step - loss: 2.0987 - val_loss: 2.6945\n",
      "Epoch 2/10\n",
      "242/242 [==============================] - 1s 4ms/step - loss: 0.7780 - val_loss: 0.9487\n",
      "Epoch 3/10\n",
      "242/242 [==============================] - 1s 4ms/step - loss: 0.5963 - val_loss: 0.6118\n",
      "Epoch 4/10\n",
      "242/242 [==============================] - 1s 4ms/step - loss: 0.5380 - val_loss: 0.4932\n",
      "Epoch 5/10\n",
      "242/242 [==============================] - 1s 4ms/step - loss: 0.5016 - val_loss: 0.4592\n",
      "Epoch 6/10\n",
      "242/242 [==============================] - 1s 4ms/step - loss: 0.4760 - val_loss: 0.5081\n",
      "Epoch 7/10\n",
      "242/242 [==============================] - 1s 4ms/step - loss: 0.4563 - val_loss: 0.4184\n",
      "Epoch 8/10\n",
      "242/242 [==============================] - 1s 4ms/step - loss: 0.4422 - val_loss: 0.5395\n",
      "Epoch 9/10\n",
      "242/242 [==============================] - 1s 4ms/step - loss: 0.4327 - val_loss: 0.4053\n",
      "Epoch 10/10\n",
      "242/242 [==============================] - 1s 4ms/step - loss: 0.4228 - val_loss: 0.4279\n",
      "121/121 [==============================] - 0s 2ms/step - loss: 0.4167\n",
      "[CV] END learning_rate=0.0022354981406786253, n_hidden=3, n_neurons=21; total time=   9.8s\n",
      "Epoch 1/10\n",
      "242/242 [==============================] - 1s 4ms/step - loss: 0.8139 - val_loss: 17.8760\n",
      "Epoch 2/10\n",
      "242/242 [==============================] - 1s 4ms/step - loss: 0.8745 - val_loss: 0.8674\n",
      "Epoch 3/10\n",
      "242/242 [==============================] - 1s 4ms/step - loss: 0.4264 - val_loss: 0.4345\n",
      "Epoch 4/10\n",
      "242/242 [==============================] - 1s 4ms/step - loss: 0.4016 - val_loss: 1.3228\n",
      "Epoch 5/10\n",
      "242/242 [==============================] - 1s 4ms/step - loss: 0.3920 - val_loss: 1.4566\n",
      "Epoch 6/10\n",
      "242/242 [==============================] - 1s 4ms/step - loss: 0.3883 - val_loss: 0.7677\n",
      "Epoch 7/10\n",
      "242/242 [==============================] - 1s 4ms/step - loss: 0.3735 - val_loss: 0.3813\n",
      "Epoch 8/10\n",
      "242/242 [==============================] - 1s 4ms/step - loss: 0.3624 - val_loss: 0.3436\n",
      "Epoch 9/10\n",
      "242/242 [==============================] - 1s 4ms/step - loss: 0.3554 - val_loss: 0.3440\n",
      "Epoch 10/10\n",
      "242/242 [==============================] - 1s 4ms/step - loss: 0.3521 - val_loss: 0.3391\n",
      "121/121 [==============================] - 0s 2ms/step - loss: 0.3740\n",
      "[CV] END learning_rate=0.01848314861814289, n_hidden=3, n_neurons=21; total time=   9.8s\n",
      "Epoch 1/10\n",
      "242/242 [==============================] - 1s 4ms/step - loss: 0.7215 - val_loss: 0.4876\n",
      "Epoch 2/10\n",
      "242/242 [==============================] - 1s 4ms/step - loss: 0.4349 - val_loss: 0.6648\n",
      "Epoch 3/10\n",
      "242/242 [==============================] - 1s 4ms/step - loss: 0.4157 - val_loss: 0.7175\n",
      "Epoch 4/10\n",
      "242/242 [==============================] - 1s 4ms/step - loss: 0.3949 - val_loss: 0.8280\n",
      "Epoch 5/10\n",
      "242/242 [==============================] - 1s 4ms/step - loss: 0.3835 - val_loss: 0.8020\n",
      "Epoch 6/10\n",
      "242/242 [==============================] - 1s 4ms/step - loss: 0.3723 - val_loss: 0.7220\n",
      "Epoch 7/10\n",
      "242/242 [==============================] - 1s 4ms/step - loss: 0.3616 - val_loss: 0.7898\n",
      "Epoch 8/10\n",
      "242/242 [==============================] - 1s 4ms/step - loss: 0.3587 - val_loss: 0.6823\n",
      "Epoch 9/10\n",
      "242/242 [==============================] - 1s 4ms/step - loss: 0.3523 - val_loss: 0.6704\n",
      "Epoch 10/10\n",
      "242/242 [==============================] - 1s 4ms/step - loss: 0.3506 - val_loss: 0.6795\n",
      "121/121 [==============================] - 0s 2ms/step - loss: 0.3644\n",
      "[CV] END learning_rate=0.01848314861814289, n_hidden=3, n_neurons=21; total time=   9.9s\n",
      "Epoch 1/10\n",
      "242/242 [==============================] - 1s 4ms/step - loss: 0.7204 - val_loss: 2.9655\n",
      "Epoch 2/10\n",
      "242/242 [==============================] - 1s 4ms/step - loss: 0.5053 - val_loss: 0.3942\n",
      "Epoch 3/10\n",
      "242/242 [==============================] - 1s 4ms/step - loss: 0.5273 - val_loss: 0.6721\n",
      "Epoch 4/10\n",
      "242/242 [==============================] - 1s 4ms/step - loss: 0.4188 - val_loss: 0.3876\n",
      "Epoch 5/10\n",
      "242/242 [==============================] - 1s 4ms/step - loss: 0.3910 - val_loss: 0.3708\n",
      "Epoch 6/10\n",
      "242/242 [==============================] - 1s 4ms/step - loss: 0.3802 - val_loss: 0.3617\n",
      "Epoch 7/10\n",
      "242/242 [==============================] - 1s 4ms/step - loss: 0.3697 - val_loss: 0.3589\n",
      "Epoch 8/10\n",
      "242/242 [==============================] - 1s 4ms/step - loss: 0.3677 - val_loss: 0.3626\n",
      "Epoch 9/10\n",
      "242/242 [==============================] - 1s 4ms/step - loss: 0.3618 - val_loss: 0.3500\n",
      "Epoch 10/10\n",
      "242/242 [==============================] - 1s 4ms/step - loss: 0.3568 - val_loss: 0.3695\n",
      "121/121 [==============================] - 0s 2ms/step - loss: 0.3666\n",
      "[CV] END learning_rate=0.01848314861814289, n_hidden=3, n_neurons=21; total time=   9.8s\n",
      "Epoch 1/10\n",
      "242/242 [==============================] - 1s 4ms/step - loss: 1.7956 - val_loss: 1.6339\n",
      "Epoch 2/10\n",
      "242/242 [==============================] - 1s 4ms/step - loss: 0.8385 - val_loss: 0.7544\n",
      "Epoch 3/10\n",
      "242/242 [==============================] - 1s 4ms/step - loss: 0.6804 - val_loss: 0.6271\n",
      "Epoch 4/10\n",
      "242/242 [==============================] - 1s 4ms/step - loss: 0.6308 - val_loss: 0.5829\n",
      "Epoch 5/10\n",
      "242/242 [==============================] - 1s 4ms/step - loss: 0.5978 - val_loss: 0.5587\n",
      "Epoch 6/10\n",
      "242/242 [==============================] - 1s 4ms/step - loss: 0.5725 - val_loss: 0.5343\n",
      "Epoch 7/10\n",
      "242/242 [==============================] - 1s 4ms/step - loss: 0.5513 - val_loss: 0.5174\n",
      "Epoch 8/10\n",
      "242/242 [==============================] - 1s 4ms/step - loss: 0.5333 - val_loss: 0.5026\n",
      "Epoch 9/10\n",
      "242/242 [==============================] - 1s 4ms/step - loss: 0.5169 - val_loss: 0.4964\n",
      "Epoch 10/10\n",
      "242/242 [==============================] - 1s 4ms/step - loss: 0.5027 - val_loss: 0.4934\n",
      "121/121 [==============================] - 0s 2ms/step - loss: 0.4940\n",
      "[CV] END learning_rate=0.0012562784156701877, n_hidden=3, n_neurons=20; total time=  10.3s\n",
      "Epoch 1/10\n",
      "242/242 [==============================] - 1s 4ms/step - loss: 1.7971 - val_loss: 11.7631\n",
      "Epoch 2/10\n",
      "242/242 [==============================] - 1s 4ms/step - loss: 0.8946 - val_loss: 6.4912\n",
      "Epoch 3/10\n",
      "242/242 [==============================] - 1s 4ms/step - loss: 0.7281 - val_loss: 4.4718\n",
      "Epoch 4/10\n",
      "242/242 [==============================] - 1s 4ms/step - loss: 0.6577 - val_loss: 2.6572\n",
      "Epoch 5/10\n",
      "242/242 [==============================] - 1s 4ms/step - loss: 0.6119 - val_loss: 1.6498\n",
      "Epoch 6/10\n",
      "242/242 [==============================] - 1s 4ms/step - loss: 0.5770 - val_loss: 1.0989\n",
      "Epoch 7/10\n",
      "242/242 [==============================] - 1s 4ms/step - loss: 0.5484 - val_loss: 0.7841\n",
      "Epoch 8/10\n",
      "242/242 [==============================] - 1s 5ms/step - loss: 0.5241 - val_loss: 0.6490\n",
      "Epoch 9/10\n",
      "242/242 [==============================] - 1s 4ms/step - loss: 0.5035 - val_loss: 0.5664\n",
      "Epoch 10/10\n",
      "242/242 [==============================] - 1s 4ms/step - loss: 0.4859 - val_loss: 0.5048\n",
      "121/121 [==============================] - 0s 2ms/step - loss: 0.4864\n",
      "[CV] END learning_rate=0.0012562784156701877, n_hidden=3, n_neurons=20; total time=  10.3s\n",
      "Epoch 1/10\n",
      "242/242 [==============================] - 1s 4ms/step - loss: 2.0891 - val_loss: 1.4648\n",
      "Epoch 2/10\n",
      "242/242 [==============================] - 1s 4ms/step - loss: 0.7261 - val_loss: 0.7065\n",
      "Epoch 3/10\n",
      "242/242 [==============================] - 1s 4ms/step - loss: 0.5711 - val_loss: 0.5603\n",
      "Epoch 4/10\n",
      "242/242 [==============================] - 1s 4ms/step - loss: 0.5324 - val_loss: 0.5223\n",
      "Epoch 5/10\n",
      "242/242 [==============================] - 1s 4ms/step - loss: 0.5099 - val_loss: 0.4884\n",
      "Epoch 6/10\n",
      "242/242 [==============================] - 1s 4ms/step - loss: 0.4903 - val_loss: 0.4689\n",
      "Epoch 7/10\n",
      "242/242 [==============================] - 1s 4ms/step - loss: 0.4738 - val_loss: 0.4550\n",
      "Epoch 8/10\n",
      "242/242 [==============================] - 1s 4ms/step - loss: 0.4587 - val_loss: 0.4389\n",
      "Epoch 9/10\n",
      "242/242 [==============================] - 1s 4ms/step - loss: 0.4455 - val_loss: 0.4349\n",
      "Epoch 10/10\n",
      "242/242 [==============================] - 1s 4ms/step - loss: 0.4343 - val_loss: 0.4258\n",
      "121/121 [==============================] - 0s 2ms/step - loss: 0.4323\n",
      "[CV] END learning_rate=0.0012562784156701877, n_hidden=3, n_neurons=20; total time=  10.2s\n",
      "Epoch 1/10\n",
      "242/242 [==============================] - 1s 4ms/step - loss: 3.1210 - val_loss: 4.3520\n",
      "Epoch 2/10\n",
      "242/242 [==============================] - 1s 4ms/step - loss: 1.4402 - val_loss: 2.1509\n",
      "Epoch 3/10\n",
      "242/242 [==============================] - 1s 4ms/step - loss: 1.0358 - val_loss: 1.4556\n",
      "Epoch 4/10\n",
      "242/242 [==============================] - 1s 5ms/step - loss: 0.8944 - val_loss: 1.0908\n",
      "Epoch 5/10\n",
      "242/242 [==============================] - 1s 4ms/step - loss: 0.8244 - val_loss: 0.9154\n",
      "Epoch 6/10\n",
      "242/242 [==============================] - 1s 4ms/step - loss: 0.7840 - val_loss: 0.8092\n",
      "Epoch 7/10\n",
      "242/242 [==============================] - 1s 4ms/step - loss: 0.7558 - val_loss: 0.7446\n",
      "Epoch 8/10\n",
      "242/242 [==============================] - 1s 4ms/step - loss: 0.7331 - val_loss: 0.7027\n",
      "Epoch 9/10\n",
      "242/242 [==============================] - 1s 4ms/step - loss: 0.7136 - val_loss: 0.6736\n",
      "Epoch 10/10\n",
      "242/242 [==============================] - 1s 4ms/step - loss: 0.6960 - val_loss: 0.6522\n",
      "121/121 [==============================] - 0s 2ms/step - loss: 0.6761\n",
      "[CV] END learning_rate=0.00044067933776143755, n_hidden=3, n_neurons=21; total time=  10.7s\n",
      "Epoch 1/10\n",
      "242/242 [==============================] - 1s 4ms/step - loss: 2.9851 - val_loss: 2.7389\n",
      "Epoch 2/10\n",
      "242/242 [==============================] - 1s 4ms/step - loss: 1.3247 - val_loss: 4.2910\n",
      "Epoch 3/10\n",
      "242/242 [==============================] - 1s 4ms/step - loss: 1.0449 - val_loss: 4.1454\n",
      "Epoch 4/10\n",
      "242/242 [==============================] - 1s 4ms/step - loss: 0.9201 - val_loss: 3.5961\n",
      "Epoch 5/10\n",
      "242/242 [==============================] - 1s 4ms/step - loss: 0.8528 - val_loss: 3.0314\n",
      "Epoch 6/10\n",
      "242/242 [==============================] - 1s 4ms/step - loss: 0.8094 - val_loss: 2.4643\n",
      "Epoch 7/10\n",
      "242/242 [==============================] - 1s 4ms/step - loss: 0.7772 - val_loss: 2.0065\n",
      "Epoch 8/10\n",
      "242/242 [==============================] - 1s 4ms/step - loss: 0.7515 - val_loss: 1.7467\n",
      "Epoch 9/10\n",
      "242/242 [==============================] - 1s 4ms/step - loss: 0.7297 - val_loss: 1.5761\n",
      "Epoch 10/10\n",
      "242/242 [==============================] - 1s 4ms/step - loss: 0.7102 - val_loss: 1.4185\n",
      "121/121 [==============================] - 0s 2ms/step - loss: 0.7243\n",
      "[CV] END learning_rate=0.00044067933776143755, n_hidden=3, n_neurons=21; total time=   9.9s\n",
      "Epoch 1/10\n",
      "242/242 [==============================] - 1s 4ms/step - loss: 3.8929 - val_loss: 2.2715\n",
      "Epoch 2/10\n",
      "242/242 [==============================] - 1s 4ms/step - loss: 1.5912 - val_loss: 0.9869\n",
      "Epoch 3/10\n",
      "242/242 [==============================] - 1s 4ms/step - loss: 0.8906 - val_loss: 0.7836\n",
      "Epoch 4/10\n",
      "242/242 [==============================] - 1s 4ms/step - loss: 0.7799 - val_loss: 0.7311\n",
      "Epoch 5/10\n",
      "242/242 [==============================] - 1s 4ms/step - loss: 0.7460 - val_loss: 0.7040\n",
      "Epoch 6/10\n",
      "242/242 [==============================] - 1s 4ms/step - loss: 0.7233 - val_loss: 0.6840\n",
      "Epoch 7/10\n",
      "242/242 [==============================] - 1s 4ms/step - loss: 0.7046 - val_loss: 0.6688\n",
      "Epoch 8/10\n",
      "242/242 [==============================] - 1s 4ms/step - loss: 0.6884 - val_loss: 0.6531\n",
      "Epoch 9/10\n",
      "242/242 [==============================] - 1s 4ms/step - loss: 0.6736 - val_loss: 0.6402\n",
      "Epoch 10/10\n",
      "242/242 [==============================] - 1s 4ms/step - loss: 0.6604 - val_loss: 0.6295\n",
      "121/121 [==============================] - 0s 2ms/step - loss: 0.6674\n",
      "[CV] END learning_rate=0.00044067933776143755, n_hidden=3, n_neurons=21; total time=  10.0s\n",
      "Epoch 1/10\n",
      "242/242 [==============================] - 1s 4ms/step - loss: 2.8580 - val_loss: 1.3627\n",
      "Epoch 2/10\n",
      "242/242 [==============================] - 1s 4ms/step - loss: 1.0101 - val_loss: 0.9871\n",
      "Epoch 3/10\n",
      "242/242 [==============================] - 1s 4ms/step - loss: 0.7409 - val_loss: 0.8763\n",
      "Epoch 4/10\n",
      "242/242 [==============================] - 1s 4ms/step - loss: 0.6747 - val_loss: 0.6793\n",
      "Epoch 5/10\n",
      "242/242 [==============================] - 1s 4ms/step - loss: 0.6210 - val_loss: 0.6531\n",
      "Epoch 6/10\n",
      "242/242 [==============================] - 1s 4ms/step - loss: 0.5859 - val_loss: 0.6468\n",
      "Epoch 7/10\n",
      "242/242 [==============================] - 1s 4ms/step - loss: 0.5501 - val_loss: 0.5394\n",
      "Epoch 8/10\n",
      "242/242 [==============================] - 1s 4ms/step - loss: 0.5239 - val_loss: 0.7010\n",
      "Epoch 9/10\n",
      "242/242 [==============================] - 1s 4ms/step - loss: 0.4947 - val_loss: 0.4718\n",
      "Epoch 10/10\n",
      "242/242 [==============================] - 1s 4ms/step - loss: 0.4722 - val_loss: 0.6471\n",
      "121/121 [==============================] - 0s 2ms/step - loss: 0.4579\n",
      "[CV] END learning_rate=0.0018742712903393847, n_hidden=2, n_neurons=20; total time=   9.6s\n",
      "Epoch 1/10\n",
      "242/242 [==============================] - 1s 4ms/step - loss: 1.6292 - val_loss: 8.2359\n",
      "Epoch 2/10\n",
      "242/242 [==============================] - 1s 4ms/step - loss: 0.7999 - val_loss: 2.2403\n",
      "Epoch 3/10\n",
      "242/242 [==============================] - 1s 4ms/step - loss: 0.6979 - val_loss: 1.1902\n",
      "Epoch 4/10\n",
      "242/242 [==============================] - 1s 4ms/step - loss: 0.6446 - val_loss: 0.7891\n",
      "Epoch 5/10\n",
      "242/242 [==============================] - 1s 4ms/step - loss: 0.6043 - val_loss: 0.6148\n",
      "Epoch 6/10\n",
      "242/242 [==============================] - 1s 4ms/step - loss: 0.5698 - val_loss: 0.5455\n",
      "Epoch 7/10\n",
      "242/242 [==============================] - 1s 4ms/step - loss: 0.5408 - val_loss: 0.5095\n",
      "Epoch 8/10\n",
      "242/242 [==============================] - 1s 4ms/step - loss: 0.5163 - val_loss: 0.4820\n",
      "Epoch 9/10\n",
      "242/242 [==============================] - 1s 4ms/step - loss: 0.4953 - val_loss: 0.4585\n",
      "Epoch 10/10\n",
      "242/242 [==============================] - 1s 4ms/step - loss: 0.4777 - val_loss: 0.4433\n",
      "121/121 [==============================] - 0s 2ms/step - loss: 0.4924\n",
      "[CV] END learning_rate=0.0018742712903393847, n_hidden=2, n_neurons=20; total time=  11.0s\n",
      "Epoch 1/10\n",
      "242/242 [==============================] - 1s 4ms/step - loss: 1.4104 - val_loss: 1.3215\n",
      "Epoch 2/10\n",
      "242/242 [==============================] - 1s 4ms/step - loss: 0.7467 - val_loss: 0.7852\n",
      "Epoch 3/10\n",
      "242/242 [==============================] - 1s 4ms/step - loss: 0.6898 - val_loss: 0.6938\n",
      "Epoch 4/10\n",
      "242/242 [==============================] - 1s 4ms/step - loss: 0.6484 - val_loss: 0.6315\n",
      "Epoch 5/10\n",
      "242/242 [==============================] - 1s 4ms/step - loss: 0.6155 - val_loss: 0.5973\n",
      "Epoch 6/10\n",
      "242/242 [==============================] - 1s 4ms/step - loss: 0.5859 - val_loss: 0.5618\n",
      "Epoch 7/10\n",
      "242/242 [==============================] - 1s 4ms/step - loss: 0.5602 - val_loss: 0.5320\n",
      "Epoch 8/10\n",
      "242/242 [==============================] - 1s 4ms/step - loss: 0.5381 - val_loss: 0.5202\n",
      "Epoch 9/10\n",
      "242/242 [==============================] - 1s 4ms/step - loss: 0.5181 - val_loss: 0.5029\n",
      "Epoch 10/10\n",
      "242/242 [==============================] - 1s 4ms/step - loss: 0.5003 - val_loss: 0.4846\n",
      "121/121 [==============================] - 0s 2ms/step - loss: 0.5008\n",
      "[CV] END learning_rate=0.0018742712903393847, n_hidden=2, n_neurons=20; total time=   9.7s\n",
      "Epoch 1/10\n",
      "242/242 [==============================] - 1s 4ms/step - loss: 2.4414 - val_loss: 1.1600\n",
      "Epoch 2/10\n",
      "242/242 [==============================] - 1s 4ms/step - loss: 0.8762 - val_loss: 0.6800\n",
      "Epoch 3/10\n",
      "242/242 [==============================] - 1s 4ms/step - loss: 0.6425 - val_loss: 0.5804\n",
      "Epoch 4/10\n",
      "242/242 [==============================] - 1s 4ms/step - loss: 0.5766 - val_loss: 0.5274\n",
      "Epoch 5/10\n",
      "242/242 [==============================] - 1s 4ms/step - loss: 0.5289 - val_loss: 0.4869\n",
      "Epoch 6/10\n",
      "242/242 [==============================] - 1s 4ms/step - loss: 0.4899 - val_loss: 0.4575\n",
      "Epoch 7/10\n",
      "242/242 [==============================] - 1s 4ms/step - loss: 0.4607 - val_loss: 0.4406\n",
      "Epoch 8/10\n",
      "242/242 [==============================] - 1s 4ms/step - loss: 0.4403 - val_loss: 0.4274\n",
      "Epoch 9/10\n",
      "242/242 [==============================] - 1s 4ms/step - loss: 0.4257 - val_loss: 0.4130\n",
      "Epoch 10/10\n",
      "242/242 [==============================] - 1s 4ms/step - loss: 0.4155 - val_loss: 0.4147\n",
      "121/121 [==============================] - 0s 2ms/step - loss: 0.4226\n",
      "[CV] END learning_rate=0.002518447268616922, n_hidden=2, n_neurons=20; total time=   9.7s\n",
      "Epoch 1/10\n",
      "242/242 [==============================] - 1s 4ms/step - loss: 2.4056 - val_loss: 12.5298\n",
      "Epoch 2/10\n",
      "242/242 [==============================] - 1s 4ms/step - loss: 0.9118 - val_loss: 4.0992\n",
      "Epoch 3/10\n",
      "242/242 [==============================] - 1s 4ms/step - loss: 0.7103 - val_loss: 1.0641\n",
      "Epoch 4/10\n",
      "242/242 [==============================] - 1s 4ms/step - loss: 0.6416 - val_loss: 0.5867\n",
      "Epoch 5/10\n",
      "242/242 [==============================] - 1s 4ms/step - loss: 0.5929 - val_loss: 0.9237\n",
      "Epoch 6/10\n",
      "242/242 [==============================] - 1s 4ms/step - loss: 0.5526 - val_loss: 1.5420\n",
      "Epoch 7/10\n",
      "242/242 [==============================] - 1s 4ms/step - loss: 0.5198 - val_loss: 2.0161\n",
      "Epoch 8/10\n",
      "242/242 [==============================] - 1s 4ms/step - loss: 0.4935 - val_loss: 2.2029\n",
      "Epoch 9/10\n",
      "242/242 [==============================] - 1s 4ms/step - loss: 0.4729 - val_loss: 2.6681\n",
      "Epoch 10/10\n",
      "242/242 [==============================] - 1s 4ms/step - loss: 0.4564 - val_loss: 2.4976\n",
      "121/121 [==============================] - 0s 2ms/step - loss: 0.5198\n",
      "[CV] END learning_rate=0.002518447268616922, n_hidden=2, n_neurons=20; total time=   9.9s\n",
      "Epoch 1/10\n",
      "242/242 [==============================] - 1s 4ms/step - loss: 1.3446 - val_loss: 1.2298\n",
      "Epoch 2/10\n",
      "242/242 [==============================] - 1s 4ms/step - loss: 0.6520 - val_loss: 0.6100\n",
      "Epoch 3/10\n",
      "242/242 [==============================] - 1s 4ms/step - loss: 0.5584 - val_loss: 0.5133\n",
      "Epoch 4/10\n",
      "242/242 [==============================] - 1s 4ms/step - loss: 0.5125 - val_loss: 0.4739\n",
      "Epoch 5/10\n",
      "242/242 [==============================] - 1s 4ms/step - loss: 0.4826 - val_loss: 0.4506\n",
      "Epoch 6/10\n",
      "242/242 [==============================] - 1s 4ms/step - loss: 0.4620 - val_loss: 0.4401\n",
      "Epoch 7/10\n",
      "242/242 [==============================] - 1s 4ms/step - loss: 0.4464 - val_loss: 0.4291\n",
      "Epoch 8/10\n",
      "242/242 [==============================] - 1s 4ms/step - loss: 0.4351 - val_loss: 0.4298\n",
      "Epoch 9/10\n",
      "242/242 [==============================] - 1s 4ms/step - loss: 0.4258 - val_loss: 0.4271\n",
      "Epoch 10/10\n",
      "242/242 [==============================] - 1s 4ms/step - loss: 0.4193 - val_loss: 0.4456\n",
      "121/121 [==============================] - 0s 2ms/step - loss: 0.4194\n",
      "[CV] END learning_rate=0.002518447268616922, n_hidden=2, n_neurons=20; total time=  11.0s\n",
      "Epoch 1/10\n",
      "242/242 [==============================] - 1s 4ms/step - loss: 0.8967 - val_loss: 3.0423\n",
      "Epoch 2/10\n",
      "242/242 [==============================] - 1s 4ms/step - loss: 0.5696 - val_loss: 1.7078\n",
      "Epoch 3/10\n",
      "242/242 [==============================] - 1s 4ms/step - loss: 0.4757 - val_loss: 1.9261\n",
      "Epoch 4/10\n",
      "242/242 [==============================] - 1s 4ms/step - loss: 0.4356 - val_loss: 0.3797\n",
      "Epoch 5/10\n",
      "242/242 [==============================] - 1s 4ms/step - loss: 0.4120 - val_loss: 0.3733\n",
      "Epoch 6/10\n",
      "242/242 [==============================] - 1s 4ms/step - loss: 0.3946 - val_loss: 0.3735\n",
      "Epoch 7/10\n",
      "242/242 [==============================] - 1s 4ms/step - loss: 0.3804 - val_loss: 0.3702\n",
      "Epoch 8/10\n",
      "242/242 [==============================] - 1s 4ms/step - loss: 0.3738 - val_loss: 0.3838\n",
      "Epoch 9/10\n",
      "242/242 [==============================] - 1s 4ms/step - loss: 0.3672 - val_loss: 0.3617\n",
      "Epoch 10/10\n",
      "242/242 [==============================] - 1s 4ms/step - loss: 0.3629 - val_loss: 0.3586\n",
      "121/121 [==============================] - 0s 3ms/step - loss: 0.3723\n",
      "[CV] END learning_rate=0.013208131171341172, n_hidden=3, n_neurons=20; total time=  10.1s\n",
      "Epoch 1/10\n",
      "242/242 [==============================] - 2s 5ms/step - loss: 0.7681 - val_loss: 0.6348\n",
      "Epoch 2/10\n",
      "242/242 [==============================] - 1s 4ms/step - loss: 0.4439 - val_loss: 0.6048\n",
      "Epoch 3/10\n",
      "242/242 [==============================] - 1s 4ms/step - loss: 0.3985 - val_loss: 0.4065\n",
      "Epoch 4/10\n",
      "242/242 [==============================] - 1s 4ms/step - loss: 0.3776 - val_loss: 0.4353\n",
      "Epoch 5/10\n",
      "242/242 [==============================] - 1s 4ms/step - loss: 0.3667 - val_loss: 0.4457\n",
      "Epoch 6/10\n",
      "242/242 [==============================] - 1s 4ms/step - loss: 0.3602 - val_loss: 0.3812\n",
      "Epoch 7/10\n",
      "242/242 [==============================] - 1s 4ms/step - loss: 0.3530 - val_loss: 0.3530\n",
      "Epoch 8/10\n",
      "242/242 [==============================] - 1s 4ms/step - loss: 0.3514 - val_loss: 0.3331\n",
      "Epoch 9/10\n",
      "242/242 [==============================] - 1s 4ms/step - loss: 0.3452 - val_loss: 0.4200\n",
      "Epoch 10/10\n",
      "242/242 [==============================] - 1s 4ms/step - loss: 0.3431 - val_loss: 0.3297\n",
      "121/121 [==============================] - 0s 2ms/step - loss: 0.3555\n",
      "[CV] END learning_rate=0.013208131171341172, n_hidden=3, n_neurons=20; total time=  10.0s\n",
      "Epoch 1/10\n",
      "242/242 [==============================] - 1s 4ms/step - loss: 0.9805 - val_loss: 1.0239\n",
      "Epoch 2/10\n",
      "242/242 [==============================] - 1s 4ms/step - loss: 0.4935 - val_loss: 0.4213\n",
      "Epoch 3/10\n",
      "242/242 [==============================] - 1s 4ms/step - loss: 0.4492 - val_loss: 1.3788\n",
      "Epoch 4/10\n",
      "242/242 [==============================] - 1s 4ms/step - loss: 0.4355 - val_loss: 1.4852\n",
      "Epoch 5/10\n",
      "242/242 [==============================] - 1s 4ms/step - loss: 0.4069 - val_loss: 0.7867\n",
      "Epoch 6/10\n",
      "242/242 [==============================] - 1s 4ms/step - loss: 0.3973 - val_loss: 0.3708\n",
      "Epoch 7/10\n",
      "242/242 [==============================] - 1s 4ms/step - loss: 0.3832 - val_loss: 0.3486\n",
      "Epoch 8/10\n",
      "242/242 [==============================] - 1s 4ms/step - loss: 0.3741 - val_loss: 0.3423\n",
      "Epoch 9/10\n",
      "242/242 [==============================] - 1s 4ms/step - loss: 0.3687 - val_loss: 0.3426\n",
      "Epoch 10/10\n",
      "242/242 [==============================] - 1s 4ms/step - loss: 0.3637 - val_loss: 0.3482\n",
      "121/121 [==============================] - 0s 2ms/step - loss: 0.3718\n",
      "[CV] END learning_rate=0.013208131171341172, n_hidden=3, n_neurons=20; total time=   9.9s\n",
      "Epoch 1/10\n",
      "363/363 [==============================] - 2s 4ms/step - loss: 0.6756 - val_loss: 1.7159\n",
      "Epoch 2/10\n",
      "363/363 [==============================] - 1s 3ms/step - loss: 0.4217 - val_loss: 1.1702\n",
      "Epoch 3/10\n",
      "363/363 [==============================] - 1s 3ms/step - loss: 0.4135 - val_loss: 0.8876\n",
      "Epoch 4/10\n",
      "363/363 [==============================] - 1s 3ms/step - loss: 0.3905 - val_loss: 1.4376\n",
      "Epoch 5/10\n",
      "363/363 [==============================] - 1s 3ms/step - loss: 0.3946 - val_loss: 0.9142\n",
      "Epoch 6/10\n",
      "363/363 [==============================] - 1s 3ms/step - loss: 0.3682 - val_loss: 2.5890\n",
      "Epoch 7/10\n",
      "363/363 [==============================] - 1s 3ms/step - loss: 0.3720 - val_loss: 0.3339\n",
      "Epoch 8/10\n",
      "363/363 [==============================] - 1s 3ms/step - loss: 0.3520 - val_loss: 0.3218\n",
      "Epoch 9/10\n",
      "363/363 [==============================] - 1s 3ms/step - loss: 0.3425 - val_loss: 0.3297\n",
      "Epoch 10/10\n",
      "363/363 [==============================] - 1s 3ms/step - loss: 0.3357 - val_loss: 0.3142\n"
     ]
    },
    {
     "data": {
      "text/plain": [
       "RandomizedSearchCV(cv=3,\n",
       "                   estimator=<keras.wrappers.scikit_learn.KerasRegressor object at 0x7efdf0d34c50>,\n",
       "                   param_distributions={'learning_rate': [0.001683454924600351,\n",
       "                                                          0.02390836445593178,\n",
       "                                                          0.008731907739399206,\n",
       "                                                          0.004725396149933917,\n",
       "                                                          0.0006154014789262348,\n",
       "                                                          0.0006153331256530192,\n",
       "                                                          0.0003920021771415983,\n",
       "                                                          0.01619845322936229,\n",
       "                                                          0.004779156784872302,\n",
       "                                                          0.007821074275112298,...\n",
       "                                                          0.0012178834831452913,\n",
       "                                                          0.00336228186355817,\n",
       "                                                          0.0021928619507738728,\n",
       "                                                          0.0011470425674025553,\n",
       "                                                          0.005021425736625637,\n",
       "                                                          0.0005703073595961105,\n",
       "                                                          0.001151888789941251,\n",
       "                                                          0.001621231156394198,\n",
       "                                                          0.0024505367684280487,\n",
       "                                                          0.011155092541719619,\n",
       "                                                          0.0007524347058135697,\n",
       "                                                          0.0032032448128444043,\n",
       "                                                          0.004591455636549438,\n",
       "                                                          0.0003715541189658278, ...],\n",
       "                                        'n_hidden': [2, 3],\n",
       "                                        'n_neurons': [20, 21]},\n",
       "                   verbose=2)"
      ]
     },
     "execution_count": 45,
     "metadata": {},
     "output_type": "execute_result"
    }
   ],
   "source": [
    "from scipy.stats import reciprocal\n",
    "from sklearn.model_selection import RandomizedSearchCV\n",
    "\n",
    "keras.backend.clear_session()\n",
    "param_distribs = {\n",
    "    \"n_hidden\": [2, 3],\n",
    "    \"n_neurons\": np.arange(20, 22).tolist(),\n",
    "    \"learning_rate\": reciprocal(3e-4, 3e-2).rvs(1000).tolist(),\n",
    "\n",
    "}\n",
    "\n",
    "rnd_search_cv = RandomizedSearchCV(keras_reg, param_distribs, n_iter=10, cv=3, verbose=2)\n",
    "rnd_search_cv.fit(X_train, y_train, epochs=10,\n",
    "                  validation_data=(X_valid, y_valid),\n",
    "                  callbacks=[keras.callbacks.EarlyStopping(patience=10)])"
   ]
  },
  {
   "cell_type": "code",
   "execution_count": 46,
   "metadata": {
    "colab": {
     "base_uri": "https://localhost:8080/"
    },
    "id": "u4ZRgWyxq-iO",
    "outputId": "f05ce743-37a4-4295-b4c1-774aaf0b271f"
   },
   "outputs": [
    {
     "data": {
      "text/plain": [
       "{'n_neurons': 20, 'n_hidden': 3, 'learning_rate': 0.022427493184466196}"
      ]
     },
     "execution_count": 46,
     "metadata": {},
     "output_type": "execute_result"
    }
   ],
   "source": [
    "rnd_search_cv.best_params_"
   ]
  },
  {
   "cell_type": "code",
   "execution_count": 47,
   "metadata": {
    "colab": {
     "base_uri": "https://localhost:8080/"
    },
    "id": "WcHT7W_zKbaS",
    "outputId": "631692b6-62d5-4444-c553-4b782fd61641"
   },
   "outputs": [
    {
     "data": {
      "text/plain": [
       "-0.34370388587315875"
      ]
     },
     "execution_count": 47,
     "metadata": {},
     "output_type": "execute_result"
    }
   ],
   "source": [
    "rnd_search_cv.best_score_"
   ]
  },
  {
   "cell_type": "code",
   "execution_count": 48,
   "metadata": {
    "colab": {
     "base_uri": "https://localhost:8080/"
    },
    "id": "6wYZAWg0KbaS",
    "outputId": "c12b7e54-d31e-410f-dbfe-df0d0035945f"
   },
   "outputs": [
    {
     "data": {
      "text/plain": [
       "<keras.wrappers.scikit_learn.KerasRegressor at 0x7efdf0625f50>"
      ]
     },
     "execution_count": 48,
     "metadata": {},
     "output_type": "execute_result"
    }
   ],
   "source": [
    "rnd_search_cv.best_estimator_"
   ]
  },
  {
   "cell_type": "code",
   "execution_count": 49,
   "metadata": {
    "colab": {
     "base_uri": "https://localhost:8080/"
    },
    "id": "hUovM1pwKbaT",
    "outputId": "a866a3b4-7d01-424d-e1fb-6e06f1cb4249"
   },
   "outputs": [
    {
     "name": "stdout",
     "output_type": "stream",
     "text": [
      "162/162 [==============================] - 0s 2ms/step - loss: 0.3351\n"
     ]
    },
    {
     "data": {
      "text/plain": [
       "-0.33505550026893616"
      ]
     },
     "execution_count": 49,
     "metadata": {},
     "output_type": "execute_result"
    }
   ],
   "source": [
    "rnd_search_cv.score(X_test, y_test)"
   ]
  },
  {
   "cell_type": "code",
   "execution_count": 50,
   "metadata": {
    "colab": {
     "base_uri": "https://localhost:8080/"
    },
    "id": "GXOvffS0KbaT",
    "outputId": "c4c2229c-d415-4644-e107-bb9ba51f9ead"
   },
   "outputs": [
    {
     "data": {
      "text/plain": [
       "<keras.engine.sequential.Sequential at 0x7efdf0a68fd0>"
      ]
     },
     "execution_count": 50,
     "metadata": {},
     "output_type": "execute_result"
    }
   ],
   "source": [
    "model = rnd_search_cv.best_estimator_.model\n",
    "model"
   ]
  },
  {
   "cell_type": "code",
   "execution_count": 51,
   "metadata": {
    "colab": {
     "base_uri": "https://localhost:8080/"
    },
    "id": "OlJtmGXEKbaT",
    "outputId": "8a6a5420-97b9-4c90-b4ee-ce042356c043",
    "scrolled": true
   },
   "outputs": [
    {
     "name": "stdout",
     "output_type": "stream",
     "text": [
      "162/162 [==============================] - 0s 2ms/step - loss: 0.3351\n"
     ]
    },
    {
     "data": {
      "text/plain": [
       "0.33505550026893616"
      ]
     },
     "execution_count": 51,
     "metadata": {},
     "output_type": "execute_result"
    }
   ],
   "source": [
    "model.evaluate(X_test, y_test)"
   ]
  },
  {
   "cell_type": "markdown",
   "metadata": {
    "id": "3cYH7AvzkSTK"
   },
   "source": [
    "---\n",
    "---\n",
    "# <font color='#f78fb3'> **3. Classification**<br> </font> "
   ]
  },
  {
   "cell_type": "markdown",
   "metadata": {
    "id": "zqX9wsewkSTL"
   },
   "source": [
    "### <font color='#f78fb3'> <font color='#f9ca24'>**3.1 Fashion MNISTS**<br> </font>  "
   ]
  },
  {
   "cell_type": "markdown",
   "metadata": {
    "id": "Mxa4Y94ekSTM"
   },
   "source": [
    "#### <font color='lightgreen'>**Prepare data**</font>"
   ]
  },
  {
   "cell_type": "code",
   "execution_count": 52,
   "metadata": {
    "colab": {
     "base_uri": "https://localhost:8080/"
    },
    "id": "BjJ-UWS1XMqa",
    "outputId": "8699a0ca-8234-43d3-85bc-88936c61d29e"
   },
   "outputs": [
    {
     "name": "stdout",
     "output_type": "stream",
     "text": [
      "Downloading data from https://storage.googleapis.com/tensorflow/tf-keras-datasets/train-labels-idx1-ubyte.gz\n",
      "32768/29515 [=================================] - 0s 0us/step\n",
      "40960/29515 [=========================================] - 0s 0us/step\n",
      "Downloading data from https://storage.googleapis.com/tensorflow/tf-keras-datasets/train-images-idx3-ubyte.gz\n",
      "26427392/26421880 [==============================] - 0s 0us/step\n",
      "26435584/26421880 [==============================] - 0s 0us/step\n",
      "Downloading data from https://storage.googleapis.com/tensorflow/tf-keras-datasets/t10k-labels-idx1-ubyte.gz\n",
      "16384/5148 [===============================================================================================] - 0s 0us/step\n",
      "Downloading data from https://storage.googleapis.com/tensorflow/tf-keras-datasets/t10k-images-idx3-ubyte.gz\n",
      "4423680/4422102 [==============================] - 0s 0us/step\n",
      "4431872/4422102 [==============================] - 0s 0us/step\n"
     ]
    }
   ],
   "source": [
    "fashion_mnist = keras.datasets.fashion_mnist\n",
    "(X_train_full, y_train_full), (X_test, y_test) = fashion_mnist.load_data()"
   ]
  },
  {
   "cell_type": "code",
   "execution_count": 53,
   "metadata": {
    "colab": {
     "base_uri": "https://localhost:8080/"
    },
    "id": "vG9JOM5fkSTO",
    "outputId": "8f5ac31f-d366-4705-8603-47f23bdb71f8"
   },
   "outputs": [
    {
     "data": {
      "text/plain": [
       "((60000, 28, 28), (10000, 28, 28))"
      ]
     },
     "execution_count": 53,
     "metadata": {},
     "output_type": "execute_result"
    }
   ],
   "source": [
    "X_train_full.shape, X_test.shape"
   ]
  },
  {
   "cell_type": "code",
   "execution_count": 54,
   "metadata": {
    "id": "8wwO-cx0kSTO"
   },
   "outputs": [],
   "source": [
    "X_valid, X_train = X_train_full[:5000] / 255., X_train_full[5000:] / 255.\n",
    "y_valid, y_train = y_train_full[:5000], y_train_full[5000:]\n",
    "X_test = X_test / 255."
   ]
  },
  {
   "cell_type": "markdown",
   "metadata": {
    "id": "o5b3v29HkSTP"
   },
   "source": [
    "#### <font color='lightgreen'>**Construction Phase**</font>"
   ]
  },
  {
   "cell_type": "code",
   "execution_count": 55,
   "metadata": {
    "colab": {
     "base_uri": "https://localhost:8080/"
    },
    "id": "0tr4jILzXhBO",
    "outputId": "fbe3efe3-2ad9-420e-b640-fe39da4b8e6f"
   },
   "outputs": [
    {
     "name": "stdout",
     "output_type": "stream",
     "text": [
      "Model: \"sequential\"\n",
      "_________________________________________________________________\n",
      " Layer (type)                Output Shape              Param #   \n",
      "=================================================================\n",
      " flatten (Flatten)           (None, 784)               0         \n",
      "                                                                 \n",
      " dense (Dense)               (None, 300)               235500    \n",
      "                                                                 \n",
      " dense_1 (Dense)             (None, 100)               30100     \n",
      "                                                                 \n",
      " dense_2 (Dense)             (None, 10)                1010      \n",
      "                                                                 \n",
      "=================================================================\n",
      "Total params: 266,610\n",
      "Trainable params: 266,610\n",
      "Non-trainable params: 0\n",
      "_________________________________________________________________\n"
     ]
    }
   ],
   "source": [
    "keras.backend.clear_session()\n",
    "model = keras.models.Sequential([\n",
    "    keras.layers.Flatten(input_shape=[28,28]),\n",
    "    keras.layers.Dense(300, activation='relu'),\n",
    "    keras.layers.Dense(100, activation='relu'),\n",
    "    keras.layers.Dense(10, activation='softmax')  # 10 classes\n",
    "])\n",
    "\n",
    "model.summary()"
   ]
  },
  {
   "cell_type": "code",
   "execution_count": 56,
   "metadata": {
    "colab": {
     "base_uri": "https://localhost:8080/",
     "height": 533
    },
    "id": "i5soZNUckSTQ",
    "outputId": "7e743b93-1d8a-4f30-edb2-2cc21597c9e0"
   },
   "outputs": [
    {
     "data": {
      "image/png": "[encoded data removed]",
      "text/plain": [
       "<IPython.core.display.Image object>"
      ]
     },
     "execution_count": 56,
     "metadata": {},
     "output_type": "execute_result"
    }
   ],
   "source": [
    "keras.utils.plot_model(model, \"my_fashion_mnist_model.png\", show_shapes=True)"
   ]
  },
  {
   "cell_type": "code",
   "execution_count": 57,
   "metadata": {
    "colab": {
     "base_uri": "https://localhost:8080/"
    },
    "id": "6IoS4Y8yYTR9",
    "outputId": "5430f433-4a55-4130-ea34-4a38b2136473"
   },
   "outputs": [
    {
     "data": {
      "text/plain": [
       "(784, 300)"
      ]
     },
     "execution_count": 57,
     "metadata": {},
     "output_type": "execute_result"
    }
   ],
   "source": [
    "hidden1 = model.layers[1]\n",
    "weights, biases = hidden1.get_weights()\n",
    "weights.shape"
   ]
  },
  {
   "cell_type": "markdown",
   "metadata": {
    "id": "lXZ9fAiikSTR"
   },
   "source": [
    "#### <font color='lightgreen'>**Execution Phase**</font>"
   ]
  },
  {
   "cell_type": "code",
   "execution_count": 58,
   "metadata": {
    "colab": {
     "base_uri": "https://localhost:8080/"
    },
    "id": "FPLuBcp6kSTS",
    "outputId": "49630285-f2e5-47f3-ff58-b2f95ebbb811"
   },
   "outputs": [
    {
     "name": "stdout",
     "output_type": "stream",
     "text": [
      "Epoch 1/30\n",
      "1719/1719 [==============================] - 6s 3ms/step - loss: 0.7157 - accuracy: 0.7678 - val_loss: 0.5303 - val_accuracy: 0.8176\n",
      "Epoch 2/30\n",
      "1719/1719 [==============================] - 5s 3ms/step - loss: 0.4878 - accuracy: 0.8309 - val_loss: 0.4537 - val_accuracy: 0.8462\n",
      "Epoch 3/30\n",
      "1719/1719 [==============================] - 5s 3ms/step - loss: 0.4443 - accuracy: 0.8449 - val_loss: 0.4561 - val_accuracy: 0.8412\n",
      "Epoch 4/30\n",
      "1719/1719 [==============================] - 6s 3ms/step - loss: 0.4174 - accuracy: 0.8533 - val_loss: 0.4180 - val_accuracy: 0.8512\n",
      "Epoch 5/30\n",
      "1719/1719 [==============================] - 5s 3ms/step - loss: 0.3966 - accuracy: 0.8607 - val_loss: 0.3824 - val_accuracy: 0.8656\n",
      "Epoch 6/30\n",
      "1719/1719 [==============================] - 5s 3ms/step - loss: 0.3810 - accuracy: 0.8642 - val_loss: 0.4110 - val_accuracy: 0.8500\n",
      "Epoch 7/30\n",
      "1719/1719 [==============================] - 5s 3ms/step - loss: 0.3677 - accuracy: 0.8699 - val_loss: 0.3732 - val_accuracy: 0.8668\n",
      "Epoch 8/30\n",
      "1719/1719 [==============================] - 5s 3ms/step - loss: 0.3552 - accuracy: 0.8737 - val_loss: 0.3563 - val_accuracy: 0.8772\n",
      "Epoch 9/30\n",
      "1719/1719 [==============================] - 5s 3ms/step - loss: 0.3449 - accuracy: 0.8772 - val_loss: 0.3539 - val_accuracy: 0.8736\n",
      "Epoch 10/30\n",
      "1719/1719 [==============================] - 5s 3ms/step - loss: 0.3357 - accuracy: 0.8804 - val_loss: 0.3533 - val_accuracy: 0.8740\n",
      "Epoch 11/30\n",
      "1719/1719 [==============================] - 5s 3ms/step - loss: 0.3261 - accuracy: 0.8835 - val_loss: 0.3418 - val_accuracy: 0.8798\n",
      "Epoch 12/30\n",
      "1719/1719 [==============================] - 5s 3ms/step - loss: 0.3183 - accuracy: 0.8860 - val_loss: 0.3300 - val_accuracy: 0.8818\n",
      "Epoch 13/30\n",
      "1719/1719 [==============================] - 5s 3ms/step - loss: 0.3106 - accuracy: 0.8884 - val_loss: 0.3427 - val_accuracy: 0.8744\n",
      "Epoch 14/30\n",
      "1719/1719 [==============================] - 5s 3ms/step - loss: 0.3032 - accuracy: 0.8913 - val_loss: 0.3351 - val_accuracy: 0.8782\n",
      "Epoch 15/30\n",
      "1719/1719 [==============================] - 5s 3ms/step - loss: 0.2965 - accuracy: 0.8940 - val_loss: 0.3263 - val_accuracy: 0.8844\n",
      "Epoch 16/30\n",
      "1719/1719 [==============================] - 5s 3ms/step - loss: 0.2903 - accuracy: 0.8948 - val_loss: 0.3244 - val_accuracy: 0.8834\n",
      "Epoch 17/30\n",
      "1719/1719 [==============================] - 5s 3ms/step - loss: 0.2858 - accuracy: 0.8969 - val_loss: 0.3171 - val_accuracy: 0.8878\n",
      "Epoch 18/30\n",
      "1719/1719 [==============================] - 5s 3ms/step - loss: 0.2803 - accuracy: 0.8986 - val_loss: 0.3251 - val_accuracy: 0.8844\n",
      "Epoch 19/30\n",
      "1719/1719 [==============================] - 5s 3ms/step - loss: 0.2738 - accuracy: 0.9009 - val_loss: 0.3203 - val_accuracy: 0.8858\n",
      "Epoch 20/30\n",
      "1719/1719 [==============================] - 5s 3ms/step - loss: 0.2686 - accuracy: 0.9030 - val_loss: 0.3338 - val_accuracy: 0.8814\n",
      "Epoch 21/30\n",
      "1719/1719 [==============================] - 6s 3ms/step - loss: 0.2644 - accuracy: 0.9045 - val_loss: 0.3185 - val_accuracy: 0.8840\n",
      "Epoch 22/30\n",
      "1719/1719 [==============================] - 5s 3ms/step - loss: 0.2602 - accuracy: 0.9057 - val_loss: 0.3127 - val_accuracy: 0.8868\n",
      "Epoch 23/30\n",
      "1719/1719 [==============================] - 5s 3ms/step - loss: 0.2553 - accuracy: 0.9082 - val_loss: 0.3124 - val_accuracy: 0.8868\n",
      "Epoch 24/30\n",
      "1719/1719 [==============================] - 5s 3ms/step - loss: 0.2512 - accuracy: 0.9096 - val_loss: 0.2976 - val_accuracy: 0.8914\n",
      "Epoch 25/30\n",
      "1719/1719 [==============================] - 5s 3ms/step - loss: 0.2468 - accuracy: 0.9115 - val_loss: 0.3062 - val_accuracy: 0.8886\n",
      "Epoch 26/30\n",
      "1719/1719 [==============================] - 5s 3ms/step - loss: 0.2424 - accuracy: 0.9118 - val_loss: 0.2920 - val_accuracy: 0.8940\n",
      "Epoch 27/30\n",
      "1719/1719 [==============================] - 5s 3ms/step - loss: 0.2382 - accuracy: 0.9145 - val_loss: 0.2949 - val_accuracy: 0.8940\n",
      "Epoch 28/30\n",
      "1719/1719 [==============================] - 5s 3ms/step - loss: 0.2347 - accuracy: 0.9161 - val_loss: 0.3044 - val_accuracy: 0.8918\n",
      "Epoch 29/30\n",
      "1719/1719 [==============================] - 5s 3ms/step - loss: 0.2314 - accuracy: 0.9166 - val_loss: 0.2968 - val_accuracy: 0.8888\n",
      "Epoch 30/30\n",
      "1719/1719 [==============================] - 5s 3ms/step - loss: 0.2275 - accuracy: 0.9172 - val_loss: 0.3029 - val_accuracy: 0.8912\n"
     ]
    }
   ],
   "source": [
    "model.compile(loss='sparse_categorical_crossentropy',  # keras.losses.sparse_categorical_crossentropy\n",
    "              optimizer='sgd',   # keras.optimizers.SGD()\n",
    "              metrics='accuracy')  # keras.metrics.sparse_category_accuracy\n",
    "history = model.fit(X_train, y_train, epochs=30, validation_data=(X_valid, y_valid))"
   ]
  },
  {
   "cell_type": "code",
   "execution_count": 59,
   "metadata": {
    "colab": {
     "base_uri": "https://localhost:8080/"
    },
    "id": "IwUbbYYUkSTS",
    "outputId": "133fbcc6-026f-4e34-8815-67a5be18a40c"
   },
   "outputs": [
    {
     "name": "stdout",
     "output_type": "stream",
     "text": [
      "{'verbose': 1, 'epochs': 30, 'steps': 1719}\n",
      "[0, 1, 2, 3, 4, 5, 6, 7, 8, 9, 10, 11, 12, 13, 14, 15, 16, 17, 18, 19, 20, 21, 22, 23, 24, 25, 26, 27, 28, 29]\n",
      "dict_keys(['loss', 'accuracy', 'val_loss', 'val_accuracy'])\n"
     ]
    }
   ],
   "source": [
    "print(history.params)\n",
    "print(history.epoch)\n",
    "print(history.history.keys())"
   ]
  },
  {
   "cell_type": "markdown",
   "metadata": {
    "id": "UPN6NQ1zkSTT"
   },
   "source": [
    "#### <font color='lightgreen'>**Performance Evaluation**</font>"
   ]
  },
  {
   "cell_type": "code",
   "execution_count": 60,
   "metadata": {
    "colab": {
     "base_uri": "https://localhost:8080/",
     "height": 328
    },
    "id": "cou6fGXwkSTT",
    "outputId": "db0da677-7701-4120-cb1d-706cb481c203"
   },
   "outputs": [
    {
     "data": {
      "image/png": "[encoded data removed]",
      "text/plain": [
       "<Figure size 576x360 with 1 Axes>"
      ]
     },
     "metadata": {
      "needs_background": "light"
     },
     "output_type": "display_data"
    }
   ],
   "source": [
    "pd.DataFrame(history.history).plot(figsize=(8, 5))\n",
    "plt.grid(True)\n",
    "plt.gca().set_ylim(0, 1)\n",
    "plt.show()"
   ]
  },
  {
   "cell_type": "code",
   "execution_count": 61,
   "metadata": {
    "colab": {
     "base_uri": "https://localhost:8080/"
    },
    "id": "HTWPqKRakSTU",
    "outputId": "a2ce89fa-cfa8-4dcf-d084-728c6c98cec3"
   },
   "outputs": [
    {
     "name": "stdout",
     "output_type": "stream",
     "text": [
      "313/313 [==============================] - 1s 3ms/step - loss: 0.3350 - accuracy: 0.8808\n"
     ]
    },
    {
     "data": {
      "text/plain": [
       "[0.33497652411460876, 0.8808000087738037]"
      ]
     },
     "execution_count": 61,
     "metadata": {},
     "output_type": "execute_result"
    }
   ],
   "source": [
    "model.evaluate(X_test, y_test)"
   ]
  },
  {
   "cell_type": "markdown",
   "metadata": {
    "id": "aWci7wkFkSTV"
   },
   "source": [
    "#### <font color='lightgreen'>**Prediction**</font>"
   ]
  },
  {
   "cell_type": "code",
   "execution_count": 62,
   "metadata": {
    "colab": {
     "base_uri": "https://localhost:8080/"
    },
    "id": "vgIjy1UtkSTU",
    "outputId": "98c567a7-17ae-470e-ebec-de0ff1bc68a3"
   },
   "outputs": [
    {
     "data": {
      "text/plain": [
       "array([[0.  , 0.  , 0.  , 0.  , 0.  , 0.  , 0.  , 0.02, 0.  , 0.97],\n",
       "       [0.  , 0.  , 1.  , 0.  , 0.  , 0.  , 0.  , 0.  , 0.  , 0.  ],\n",
       "       [0.  , 1.  , 0.  , 0.  , 0.  , 0.  , 0.  , 0.  , 0.  , 0.  ]],\n",
       "      dtype=float32)"
      ]
     },
     "execution_count": 62,
     "metadata": {},
     "output_type": "execute_result"
    }
   ],
   "source": [
    "X_new = X_test[:3]\n",
    "y_proba = model.predict(X_new)\n",
    "y_proba.round(2)"
   ]
  },
  {
   "cell_type": "code",
   "execution_count": 63,
   "metadata": {
    "colab": {
     "base_uri": "https://localhost:8080/"
    },
    "id": "ZpUG9VF3kSTV",
    "outputId": "eaa7e34e-73cb-443b-c9ec-d77a9b51a0a1"
   },
   "outputs": [
    {
     "data": {
      "text/plain": [
       "array([9, 2, 1])"
      ]
     },
     "execution_count": 63,
     "metadata": {},
     "output_type": "execute_result"
    }
   ],
   "source": [
    "#y_pred = model.predict_classes(X_new) # deprecated\n",
    "y_pred = np.argmax(model.predict(X_new), axis=-1)\n",
    "y_pred"
   ]
  },
  {
   "cell_type": "markdown",
   "metadata": {
    "id": "nwNdIUkpERHR"
   },
   "source": [
    "### <font color='#f78fb3'> <font color='#f9ca24'>**3.2 MNISTS**<br> </font>  "
   ]
  },
  {
   "cell_type": "markdown",
   "metadata": {
    "id": "jww4dOMIEVIZ"
   },
   "source": [
    "#### <font color='lightgreen'>**Dataset**</font>"
   ]
  },
  {
   "cell_type": "code",
   "execution_count": 64,
   "metadata": {
    "colab": {
     "base_uri": "https://localhost:8080/"
    },
    "id": "8GsfbpnrEYZA",
    "outputId": "73807283-d541-47ed-cf59-7bd6566b8914"
   },
   "outputs": [
    {
     "name": "stdout",
     "output_type": "stream",
     "text": [
      "Downloading data from https://storage.googleapis.com/tensorflow/tf-keras-datasets/mnist.npz\n",
      "11493376/11490434 [==============================] - 0s 0us/step\n",
      "11501568/11490434 [==============================] - 0s 0us/step\n"
     ]
    },
    {
     "data": {
      "text/plain": [
       "((60000, 28, 28), (10000, 28, 28))"
      ]
     },
     "execution_count": 64,
     "metadata": {},
     "output_type": "execute_result"
    }
   ],
   "source": [
    "(X_train_full, y_train_full), (X_test, y_test) = keras.datasets.mnist.load_data()\n",
    "\n",
    "X_train_full.shape, X_test.shape"
   ]
  },
  {
   "cell_type": "code",
   "execution_count": 65,
   "metadata": {
    "id": "dfEulf3EEgA_"
   },
   "outputs": [],
   "source": [
    "X_valid, X_train = X_train_full[:5000] / 255., X_train_full[5000:] / 255.\n",
    "y_valid, y_train = y_train_full[:5000], y_train_full[5000:]\n",
    "X_test = X_test / 255."
   ]
  },
  {
   "cell_type": "markdown",
   "metadata": {
    "id": "4qPLtOYQ69KG"
   },
   "source": [
    "#### <font color='lightgreen'>**Searching optimal learning rate**</font>\n",
    "<font color='#3dc1d3'> \n",
    "+ Growing the learning rate exponentially\n",
    "+ Plotting the loss, finding the point where the loss shoots up\n",
    "+ Save checkpoints, use early stopping\n",
    "+ Plot learning curves using TensorBoard </font>"
   ]
  },
  {
   "cell_type": "code",
   "execution_count": 66,
   "metadata": {
    "id": "l1FsU2Dc9AJ4"
   },
   "outputs": [],
   "source": [
    "K = keras.backend\n",
    "\n",
    "class ExponentialLearningRate(keras.callbacks.Callback):\n",
    "  def __init__(self, factor):\n",
    "    self.factor = factor\n",
    "    self.rates = []\n",
    "    self.losses = []\n",
    "  def on_batch_end(self, batch, logs):\n",
    "    self.rates.append(K.get_value(self.model.optimizer.learning_rate))\n",
    "    self.losses.append(logs[\"loss\"])\n",
    "    K.set_value(self.model.optimizer.learning_rate, self.model.optimizer.learning_rate * self.factor)"
   ]
  },
  {
   "cell_type": "code",
   "execution_count": 67,
   "metadata": {
    "colab": {
     "base_uri": "https://localhost:8080/"
    },
    "id": "gqupwtUDBZ5e",
    "outputId": "204eb908-a5bb-431e-b138-18d0e75f820a"
   },
   "outputs": [
    {
     "name": "stdout",
     "output_type": "stream",
     "text": [
      "1719/1719 [==============================] - 8s 4ms/step - loss: nan - accuracy: 0.6013 - val_loss: nan - val_accuracy: 0.0958\n"
     ]
    }
   ],
   "source": [
    "keras.backend.clear_session()\n",
    "model = keras.models.Sequential([\n",
    "  keras.layers.Flatten(input_shape=[28,28]),\n",
    "  keras.layers.Dense(300, activation=\"relu\"),\n",
    "  keras.layers.Dense(100, activation='relu'),\n",
    "  keras.layers.Dense(10, activation='softmax')\n",
    "])\n",
    "\n",
    "model.compile(loss='sparse_categorical_crossentropy',\n",
    "              optimizer=keras.optimizers.SGD(learning_rate=1e-3),\n",
    "              metrics=['accuracy'])\n",
    "expon_lr = ExponentialLearningRate(factor=1.005)\n",
    "\n",
    "history = model.fit(X_train, y_train, epochs=1,\n",
    "                    validation_data=(X_valid, y_valid),\n",
    "                    callbacks=[expon_lr])"
   ]
  },
  {
   "cell_type": "code",
   "execution_count": 68,
   "metadata": {
    "colab": {
     "base_uri": "https://localhost:8080/",
     "height": 307
    },
    "id": "8ok7qZdslkUF",
    "outputId": "cea2ca06-a2aa-4607-fd9e-ae5b70a5d58a"
   },
   "outputs": [
    {
     "data": {
      "text/plain": [
       "Text(0, 0.5, 'Loss')"
      ]
     },
     "execution_count": 68,
     "metadata": {},
     "output_type": "execute_result"
    },
    {
     "data": {
      "image/png": "[encoded data removed]",
      "text/plain": [
       "<Figure size 432x288 with 1 Axes>"
      ]
     },
     "metadata": {
      "needs_background": "light"
     },
     "output_type": "display_data"
    }
   ],
   "source": [
    "plt.plot(expon_lr.rates, expon_lr.losses)\n",
    "plt.gca().set_xscale('log')\n",
    "plt.hlines(min(expon_lr.losses), min(expon_lr.rates), max(expon_lr.rates))\n",
    "plt.axis([min(expon_lr.rates), max(expon_lr.rates), 0, expon_lr.losses[0]])\n",
    "plt.grid()\n",
    "plt.xlabel(\"Learning rate\")\n",
    "plt.ylabel(\"Loss\")"
   ]
  },
  {
   "cell_type": "markdown",
   "metadata": {
    "id": "fWkOnts-KbaZ"
   },
   "source": [
    "The loss starts shooting back up violently when the learning rate goes over 6e-1, so let's try using half of that, at 3e-1:"
   ]
  },
  {
   "cell_type": "code",
   "execution_count": 69,
   "metadata": {
    "id": "KWVUuVtuKbaZ"
   },
   "outputs": [],
   "source": [
    "keras.backend.clear_session()\n",
    "\n",
    "model = keras.models.Sequential([\n",
    "    keras.layers.Flatten(input_shape=[28, 28]),\n",
    "    keras.layers.Dense(300, activation=\"relu\"),\n",
    "    keras.layers.Dense(100, activation=\"relu\"),\n",
    "    keras.layers.Dense(10, activation=\"softmax\")\n",
    "])\n",
    "\n",
    "model.compile(loss=\"sparse_categorical_crossentropy\",\n",
    "              optimizer=keras.optimizers.SGD(learning_rate=3e-1),\n",
    "              metrics=[\"accuracy\"])"
   ]
  },
  {
   "cell_type": "code",
   "execution_count": 70,
   "metadata": {
    "colab": {
     "base_uri": "https://localhost:8080/",
     "height": 35
    },
    "id": "G1AHxKz3Kbaa",
    "outputId": "a93e3fb1-02af-4afe-a37e-8eba7575ab91"
   },
   "outputs": [
    {
     "data": {
      "application/vnd.google.colaboratory.intrinsic+json": {
       "type": "string"
      },
      "text/plain": [
       "'./my_mnist_logs/run_001'"
      ]
     },
     "execution_count": 70,
     "metadata": {},
     "output_type": "execute_result"
    }
   ],
   "source": [
    "run_index = 1 # increment this at every run\n",
    "run_logdir = os.path.join(os.curdir, \"my_mnist_logs\", \"run_{:03d}\".format(run_index))\n",
    "run_logdir"
   ]
  },
  {
   "cell_type": "code",
   "execution_count": 71,
   "metadata": {
    "colab": {
     "base_uri": "https://localhost:8080/"
    },
    "id": "SRKJ3n_aKbaa",
    "outputId": "1e9547de-2df5-4ba0-cc8f-df5a84703d98"
   },
   "outputs": [
    {
     "name": "stdout",
     "output_type": "stream",
     "text": [
      "Epoch 1/100\n",
      "1719/1719 [==============================] - 6s 3ms/step - loss: 0.2300 - accuracy: 0.9283 - val_loss: 0.1111 - val_accuracy: 0.9688\n",
      "Epoch 2/100\n",
      "1719/1719 [==============================] - 5s 3ms/step - loss: 0.0936 - accuracy: 0.9712 - val_loss: 0.0878 - val_accuracy: 0.9762\n",
      "Epoch 3/100\n",
      "1719/1719 [==============================] - 5s 3ms/step - loss: 0.0655 - accuracy: 0.9793 - val_loss: 0.0893 - val_accuracy: 0.9744\n",
      "Epoch 4/100\n",
      "1719/1719 [==============================] - 5s 3ms/step - loss: 0.0482 - accuracy: 0.9846 - val_loss: 0.0997 - val_accuracy: 0.9714\n",
      "Epoch 5/100\n",
      "1719/1719 [==============================] - 6s 3ms/step - loss: 0.0364 - accuracy: 0.9877 - val_loss: 0.0704 - val_accuracy: 0.9814\n",
      "Epoch 6/100\n",
      "1719/1719 [==============================] - 6s 4ms/step - loss: 0.0296 - accuracy: 0.9902 - val_loss: 0.0821 - val_accuracy: 0.9812\n",
      "Epoch 7/100\n",
      "1719/1719 [==============================] - 6s 3ms/step - loss: 0.0213 - accuracy: 0.9933 - val_loss: 0.0941 - val_accuracy: 0.9764\n",
      "Epoch 8/100\n",
      "1719/1719 [==============================] - 6s 3ms/step - loss: 0.0170 - accuracy: 0.9943 - val_loss: 0.0864 - val_accuracy: 0.9832\n",
      "Epoch 9/100\n",
      "1719/1719 [==============================] - 5s 3ms/step - loss: 0.0122 - accuracy: 0.9956 - val_loss: 0.0884 - val_accuracy: 0.9800\n",
      "Epoch 10/100\n",
      "1719/1719 [==============================] - 6s 4ms/step - loss: 0.0124 - accuracy: 0.9956 - val_loss: 0.0876 - val_accuracy: 0.9814\n",
      "Epoch 11/100\n",
      "1719/1719 [==============================] - 6s 3ms/step - loss: 0.0121 - accuracy: 0.9960 - val_loss: 0.0991 - val_accuracy: 0.9792\n",
      "Epoch 12/100\n",
      "1719/1719 [==============================] - 6s 3ms/step - loss: 0.0131 - accuracy: 0.9959 - val_loss: 0.0921 - val_accuracy: 0.9824\n",
      "Epoch 13/100\n",
      "1719/1719 [==============================] - 5s 3ms/step - loss: 0.0109 - accuracy: 0.9964 - val_loss: 0.1172 - val_accuracy: 0.9794\n",
      "Epoch 14/100\n",
      "1719/1719 [==============================] - 6s 3ms/step - loss: 0.0091 - accuracy: 0.9970 - val_loss: 0.0847 - val_accuracy: 0.9856\n",
      "Epoch 15/100\n",
      "1719/1719 [==============================] - 5s 3ms/step - loss: 0.0087 - accuracy: 0.9973 - val_loss: 0.0992 - val_accuracy: 0.9800\n",
      "Epoch 16/100\n",
      "1719/1719 [==============================] - 5s 3ms/step - loss: 0.0102 - accuracy: 0.9969 - val_loss: 0.1074 - val_accuracy: 0.9800\n",
      "Epoch 17/100\n",
      "1719/1719 [==============================] - 5s 3ms/step - loss: 0.0057 - accuracy: 0.9983 - val_loss: 0.0963 - val_accuracy: 0.9826\n",
      "Epoch 18/100\n",
      "1719/1719 [==============================] - 5s 3ms/step - loss: 0.0084 - accuracy: 0.9974 - val_loss: 0.0990 - val_accuracy: 0.9830\n",
      "Epoch 19/100\n",
      "1719/1719 [==============================] - 5s 3ms/step - loss: 0.0102 - accuracy: 0.9967 - val_loss: 0.0931 - val_accuracy: 0.9834\n",
      "Epoch 20/100\n",
      "1719/1719 [==============================] - 5s 3ms/step - loss: 0.0059 - accuracy: 0.9982 - val_loss: 0.0993 - val_accuracy: 0.9858\n",
      "Epoch 21/100\n",
      "1719/1719 [==============================] - 5s 3ms/step - loss: 0.0031 - accuracy: 0.9993 - val_loss: 0.1012 - val_accuracy: 0.9824\n",
      "Epoch 22/100\n",
      "1719/1719 [==============================] - 5s 3ms/step - loss: 4.7405e-04 - accuracy: 0.9999 - val_loss: 0.0892 - val_accuracy: 0.9860\n",
      "Epoch 23/100\n",
      "1719/1719 [==============================] - 5s 3ms/step - loss: 9.4562e-05 - accuracy: 1.0000 - val_loss: 0.0909 - val_accuracy: 0.9862\n",
      "Epoch 24/100\n",
      "1719/1719 [==============================] - 5s 3ms/step - loss: 6.2378e-05 - accuracy: 1.0000 - val_loss: 0.0919 - val_accuracy: 0.9860\n",
      "Epoch 25/100\n",
      "1719/1719 [==============================] - 5s 3ms/step - loss: 5.2018e-05 - accuracy: 1.0000 - val_loss: 0.0929 - val_accuracy: 0.9860\n"
     ]
    }
   ],
   "source": [
    "early_stopping_cb = keras.callbacks.EarlyStopping(patience=20)\n",
    "checkpoint_cb = keras.callbacks.ModelCheckpoint(\"my_mnist_model.h5\", save_best_only=True)\n",
    "tensorboard_cb = keras.callbacks.TensorBoard(run_logdir)\n",
    "\n",
    "history = model.fit(X_train, y_train, epochs=100,\n",
    "                    validation_data=(X_valid, y_valid),\n",
    "                    callbacks=[checkpoint_cb, early_stopping_cb, tensorboard_cb])"
   ]
  },
  {
   "cell_type": "code",
   "execution_count": 72,
   "metadata": {
    "colab": {
     "base_uri": "https://localhost:8080/"
    },
    "id": "dpzvKr79Kbab",
    "outputId": "fd2ec129-ffea-49ed-e1b2-86264bcd3c93"
   },
   "outputs": [
    {
     "name": "stdout",
     "output_type": "stream",
     "text": [
      "313/313 [==============================] - 1s 3ms/step - loss: 0.0748 - accuracy: 0.9799\n"
     ]
    },
    {
     "data": {
      "text/plain": [
       "[0.07476909458637238, 0.9799000024795532]"
      ]
     },
     "execution_count": 72,
     "metadata": {},
     "output_type": "execute_result"
    }
   ],
   "source": [
    "model = keras.models.load_model(\"my_mnist_model.h5\") # rollback to best model\n",
    "model.evaluate(X_test, y_test)"
   ]
  },
  {
   "cell_type": "markdown",
   "metadata": {
    "id": "6po4G5sVKbab"
   },
   "source": [
    "We got over 98% accuracy. Finally, let's look at the learning curves using TensorBoard:"
   ]
  },
  {
   "cell_type": "code",
   "execution_count": null,
   "metadata": {
    "id": "pBTjyFUEKbab"
   },
   "outputs": [],
   "source": [
    "#%load_ext tensorboard\n",
    "#%tensorboard --logdir=./my_mnist_logs --port=6008"
   ]
  },
  {
   "cell_type": "code",
   "execution_count": null,
   "metadata": {
    "id": "P449k0HFud5Q"
   },
   "outputs": [],
   "source": []
  }
 ],
 "metadata": {
  "accelerator": "GPU",
  "colab": {
   "collapsed_sections": [],
   "machine_shape": "hm",
   "provenance": []
  },
  "gpuClass": "standard",
  "kernelspec": {
   "display_name": "Python 3",
   "language": "python",
   "name": "python3"
  },
  "language_info": {
   "codemirror_mode": {
    "name": "ipython",
    "version": 3
   },
   "file_extension": ".py",
   "mimetype": "text/x-python",
   "name": "python",
   "nbconvert_exporter": "python",
   "pygments_lexer": "ipython3",
   "version": "3.8.5"
  }
 },
 "nbformat": 4,
 "nbformat_minor": 1
}
